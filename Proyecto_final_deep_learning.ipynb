{
  "nbformat": 4,
  "nbformat_minor": 0,
  "metadata": {
    "colab": {
      "name": "Proyecto final deep learning",
      "provenance": [],
      "collapsed_sections": [
        "0Xk1xIsrzoWF",
        "ux7lyJF4sQfO",
        "SX8DShxyhRXP"
      ],
      "authorship_tag": "ABX9TyMSTPuzAEcLWiWVPQADx65s",
      "include_colab_link": true
    },
    "kernelspec": {
      "name": "python3",
      "display_name": "Python 3"
    },
    "accelerator": "GPU"
  },
  "cells": [
    {
      "cell_type": "markdown",
      "metadata": {
        "id": "view-in-github",
        "colab_type": "text"
      },
      "source": [
        "<a href=\"https://colab.research.google.com/github/Domadrona/Sensores1_DL/blob/master/Proyecto_final_deep_learning.ipynb\" target=\"_parent\"><img src=\"https://colab.research.google.com/assets/colab-badge.svg\" alt=\"Open In Colab\"/></a>"
      ]
    },
    {
      "cell_type": "markdown",
      "metadata": {
        "id": "Na1wUzFjqsUv",
        "colab_type": "text"
      },
      "source": [
        "# Inicio de prueba\n"
      ]
    },
    {
      "cell_type": "code",
      "metadata": {
        "id": "5E1SZfJppPVN",
        "colab_type": "code",
        "outputId": "4edf45c8-a40f-47f1-9d1d-6c391658bcdb",
        "colab": {
          "base_uri": "https://localhost:8080/",
          "height": 285
        }
      },
      "source": [
        "from keras.datasets import cifar10\n",
        "import matplotlib.pyplot as plt\n",
        "(x_train,y_train), (x_test, y_test) = cifar10.load_data()\n",
        "plt.subplot(221)\n",
        "plt.imshow(x_train[10], cmap=plt.get_cmap('gray'))#por que no lo muestra en escala de grices??\n",
        "plt.subplot(222)\n",
        "plt.imshow(x_train[17], cmap=plt.get_cmap('gray'))\n",
        "plt.subplot(223)\n",
        "plt.imshow(x_train[23], cmap=plt.get_cmap('gray'))\n",
        "plt.subplot(224)\n",
        "plt.imshow(x_train[37], cmap=plt.get_cmap('gray'))\n",
        "plt.show()"
      ],
      "execution_count": 2,
      "outputs": [
        {
          "output_type": "stream",
          "text": [
            "Using TensorFlow backend.\n"
          ],
          "name": "stderr"
        },
        {
          "output_type": "display_data",
          "data": {
            "image/png": "[encoded data removed]",
            "text/plain": [
              "<Figure size 432x288 with 4 Axes>"
            ]
          },
          "metadata": {
            "tags": [],
            "needs_background": "light"
          }
        }
      ]
    },
    {
      "cell_type": "code",
      "metadata": {
        "id": "ydxMYFQ7ZedO",
        "colab_type": "code",
        "colab": {}
      },
      "source": [
        "from time import time\n",
        "from numpy.random import seed\n",
        "seed(1)\n",
        "from keras.datasets import cifar10\n",
        "from keras.models import Sequential\n",
        "from keras.layers import Dense, Activation, Dropout\n",
        "from keras.layers import Convolution2D, MaxPooling2D\n",
        "from keras.layers import Flatten\n",
        "from keras.utils import np_utils\n",
        "tiempo_inicial = time()\n",
        "(x_train,y_train), (x_test, y_test) = cifar10.load_data()"
      ],
      "execution_count": 0,
      "outputs": []
    },
    {
      "cell_type": "code",
      "metadata": {
        "id": "R7PvmHDNbIsP",
        "colab_type": "code",
        "outputId": "6ab9611b-132f-450b-9fee-ceed7f5ea3ef",
        "colab": {
          "base_uri": "https://localhost:8080/",
          "height": 85
        }
      },
      "source": [
        "print(x_train.shape)#tengo 50000 imagenes de 32X32X3\n",
        "print(x_test.shape)\n",
        "print(y_train.shape)\n",
        "print(y_test.shape)"
      ],
      "execution_count": 4,
      "outputs": [
        {
          "output_type": "stream",
          "text": [
            "(50000, 32, 32, 3)\n",
            "(10000, 32, 32, 3)\n",
            "(50000, 1)\n",
            "(10000, 1)\n"
          ],
          "name": "stdout"
        }
      ]
    },
    {
      "cell_type": "code",
      "metadata": {
        "id": "VNc2QNnrbdsG",
        "colab_type": "code",
        "outputId": "e07715ca-c027-40ed-c923-7aba8f7c8ae8",
        "colab": {
          "base_uri": "https://localhost:8080/",
          "height": 901
        }
      },
      "source": [
        "print('el valor dentro de la primera posicion de Y es ()', format(y_train[0,]))\n",
        "print()\n",
        "print()\n",
        "print(x_train[0,:,:])"
      ],
      "execution_count": 5,
      "outputs": [
        {
          "output_type": "stream",
          "text": [
            "el valor dentro de la primera posicion de Y es () [6]\n",
            "\n",
            "\n",
            "[[[ 59  62  63]\n",
            "  [ 43  46  45]\n",
            "  [ 50  48  43]\n",
            "  ...\n",
            "  [158 132 108]\n",
            "  [152 125 102]\n",
            "  [148 124 103]]\n",
            "\n",
            " [[ 16  20  20]\n",
            "  [  0   0   0]\n",
            "  [ 18   8   0]\n",
            "  ...\n",
            "  [123  88  55]\n",
            "  [119  83  50]\n",
            "  [122  87  57]]\n",
            "\n",
            " [[ 25  24  21]\n",
            "  [ 16   7   0]\n",
            "  [ 49  27   8]\n",
            "  ...\n",
            "  [118  84  50]\n",
            "  [120  84  50]\n",
            "  [109  73  42]]\n",
            "\n",
            " ...\n",
            "\n",
            " [[208 170  96]\n",
            "  [201 153  34]\n",
            "  [198 161  26]\n",
            "  ...\n",
            "  [160 133  70]\n",
            "  [ 56  31   7]\n",
            "  [ 53  34  20]]\n",
            "\n",
            " [[180 139  96]\n",
            "  [173 123  42]\n",
            "  [186 144  30]\n",
            "  ...\n",
            "  [184 148  94]\n",
            "  [ 97  62  34]\n",
            "  [ 83  53  34]]\n",
            "\n",
            " [[177 144 116]\n",
            "  [168 129  94]\n",
            "  [179 142  87]\n",
            "  ...\n",
            "  [216 184 140]\n",
            "  [151 118  84]\n",
            "  [123  92  72]]]\n"
          ],
          "name": "stdout"
        }
      ]
    },
    {
      "cell_type": "code",
      "metadata": {
        "id": "QpCfpatFc6fl",
        "colab_type": "code",
        "outputId": "feecb95c-5102-40c8-cfca-6e3e6b1127e7",
        "colab": {
          "base_uri": "https://localhost:8080/",
          "height": 51
        }
      },
      "source": [
        "x_train = x_train.reshape(50000, 32, 32, 3)/255#no entiendo, cambia la forma, como y para que? #intento normalizando/255\n",
        "x_test = x_test.reshape(10000, 32, 32, 3)/255##cuanto pongo? rgb=3\n",
        "y_train = np_utils.to_categorical(y_train, 10)#cambia a categoricas la y 2= 00100\n",
        "y_test = np_utils.to_categorical(y_test, 10)\n",
        "print(x_train.shape)\n",
        "print(y_train.shape)"
      ],
      "execution_count": 6,
      "outputs": [
        {
          "output_type": "stream",
          "text": [
            "(50000, 32, 32, 3)\n",
            "(50000, 10)\n"
          ],
          "name": "stdout"
        }
      ]
    },
    {
      "cell_type": "code",
      "metadata": {
        "id": "YJOKFnUB9BMM",
        "colab_type": "code",
        "outputId": "bfb61729-bcc3-495f-b152-6921a23b3de6",
        "colab": {
          "base_uri": "https://localhost:8080/",
          "height": 204
        }
      },
      "source": [
        "print('El valor del modelo dentro de x: ')\n",
        "print(x_train[0,:,:,0])\n",
        "print()\n",
        "print('valores dentro de y')\n",
        "print(y_train[0,:])"
      ],
      "execution_count": 7,
      "outputs": [
        {
          "output_type": "stream",
          "text": [
            "El valor del modelo dentro de x: \n",
            "[[0.23137255 0.16862745 0.19607843 ... 0.61960784 0.59607843 0.58039216]\n",
            " [0.0627451  0.         0.07058824 ... 0.48235294 0.46666667 0.47843137]\n",
            " [0.09803922 0.0627451  0.19215686 ... 0.4627451  0.47058824 0.42745098]\n",
            " ...\n",
            " [0.81568627 0.78823529 0.77647059 ... 0.62745098 0.21960784 0.20784314]\n",
            " [0.70588235 0.67843137 0.72941176 ... 0.72156863 0.38039216 0.3254902 ]\n",
            " [0.69411765 0.65882353 0.70196078 ... 0.84705882 0.59215686 0.48235294]]\n",
            "\n",
            "valores dentro de y\n",
            "[0. 0. 0. 0. 0. 0. 1. 0. 0. 0.]\n"
          ],
          "name": "stdout"
        }
      ]
    },
    {
      "cell_type": "markdown",
      "metadata": {
        "id": "K1z5JeVheSAM",
        "colab_type": "text"
      },
      "source": [
        "Hago modelo normalito"
      ]
    },
    {
      "cell_type": "code",
      "metadata": {
        "id": "yV_RwPKWeUdu",
        "colab_type": "code",
        "outputId": "ca248ec1-eacf-440d-d33e-35b0a8ac4246",
        "colab": {
          "base_uri": "https://localhost:8080/",
          "height": 532
        }
      },
      "source": [
        "model = Sequential([Convolution2D(filters=32,#32 filtros\n",
        "                                  kernel_size = (3, 3), #tamaño filtro\n",
        "                                  input_shape = (32, 32, 3)),#first conv layer#se debe saber el tamaño de imagen\n",
        "                                  Activation('relu'),#fn de activacion\n",
        "                    Convolution2D(filters=32,#la salida anterior entra a otra convolucion\n",
        "                                  kernel_size = (3, 3)), #tamaño filtro\n",
        "                                  Activation('relu'),\n",
        "                    MaxPooling2D(pool_size=(2,2)),#reduzco con maxpooling a 2,2\n",
        "                    Flatten(),#flatten the output tensor\n",
        "                    Dense(512),#fully conected hidden layer capa densa de 64 neuronas\n",
        "                    Activation('relu'),\n",
        "                    Dense(10),# densa de 10 porque tiene 10 posibles valores a clasificar\n",
        "                    Activation('softmax')])#clasificacion de softmax, entrega prob de pertener a cada modelo\n",
        "print(model.summary()) # mustra como se construye el modelo"
      ],
      "execution_count": 0,
      "outputs": [
        {
          "output_type": "stream",
          "text": [
            "Model: \"sequential_3\"\n",
            "_________________________________________________________________\n",
            "Layer (type)                 Output Shape              Param #   \n",
            "=================================================================\n",
            "conv2d_5 (Conv2D)            (None, 30, 30, 32)        896       \n",
            "_________________________________________________________________\n",
            "activation_9 (Activation)    (None, 30, 30, 32)        0         \n",
            "_________________________________________________________________\n",
            "conv2d_6 (Conv2D)            (None, 28, 28, 32)        9248      \n",
            "_________________________________________________________________\n",
            "activation_10 (Activation)   (None, 28, 28, 32)        0         \n",
            "_________________________________________________________________\n",
            "max_pooling2d_3 (MaxPooling2 (None, 14, 14, 32)        0         \n",
            "_________________________________________________________________\n",
            "flatten_3 (Flatten)          (None, 6272)              0         \n",
            "_________________________________________________________________\n",
            "dense_5 (Dense)              (None, 512)               3211776   \n",
            "_________________________________________________________________\n",
            "activation_11 (Activation)   (None, 512)               0         \n",
            "_________________________________________________________________\n",
            "dense_6 (Dense)              (None, 10)                5130      \n",
            "_________________________________________________________________\n",
            "activation_12 (Activation)   (None, 10)                0         \n",
            "=================================================================\n",
            "Total params: 3,227,050\n",
            "Trainable params: 3,227,050\n",
            "Non-trainable params: 0\n",
            "_________________________________________________________________\n",
            "None\n"
          ],
          "name": "stdout"
        }
      ]
    },
    {
      "cell_type": "markdown",
      "metadata": {
        "id": "0Xk1xIsrzoWF",
        "colab_type": "text"
      },
      "source": [
        "### Prueba 1 con GPU "
      ]
    },
    {
      "cell_type": "code",
      "metadata": {
        "id": "GIKoIR2VwwVV",
        "colab_type": "code",
        "outputId": "c4b6e4a3-fac9-420c-da21-e1f80ec6d8ac",
        "colab": {
          "base_uri": "https://localhost:8080/"
        }
      },
      "source": [
        "model.compile(loss='categorical_crossentropy',metrics=['accuracy'], optimizer='adadelta')        #no solo capas sino que se optimiza, neuronas conectadas, listas\n",
        "model.fit(x_train, y_train, batch_size=32, epochs=50, validation_split=0.3, verbose=1)# aquí el entrenamiento del modelo bachsize se entrena de a 100 hasta como con todas# epochs es cantidad de rep que usa el modelo, validacion 10%, verbose muestra avance \n",
        "score = model.evaluate(x_test, y_test, verbose=1)# evaluo modelo con conjunto test final\n",
        "print('Test accuracy: ', score[1])\n",
        "#COMO PLOTEO EL VAL_ACCURACY por cada epoch??? \n",
        "tiempo_final = time()\n",
        "tiempo_ejecucion = tiempo_final - tiempo_inicial\n",
        "print('El tiempo de ejecucion fue: ', tiempo_ejecucion)"
      ],
      "execution_count": 0,
      "outputs": [
        {
          "output_type": "stream",
          "text": [
            "Train on 35000 samples, validate on 15000 samples\n",
            "Epoch 1/50\n",
            "35000/35000 [==============================] - 7s 197us/step - loss: 3.1281 - accuracy: 0.2417 - val_loss: 1.8412 - val_accuracy: 0.3503\n",
            "Epoch 2/50\n",
            "35000/35000 [==============================] - 7s 192us/step - loss: 1.6426 - accuracy: 0.4209 - val_loss: 1.5658 - val_accuracy: 0.4497\n",
            "Epoch 3/50\n",
            "35000/35000 [==============================] - 7s 194us/step - loss: 1.2875 - accuracy: 0.5576 - val_loss: 1.4223 - val_accuracy: 0.5102\n",
            "Epoch 4/50\n",
            "35000/35000 [==============================] - 7s 193us/step - loss: 0.9402 - accuracy: 0.6837 - val_loss: 1.5543 - val_accuracy: 0.5466\n",
            "Epoch 5/50\n",
            "35000/35000 [==============================] - 7s 191us/step - loss: 0.6011 - accuracy: 0.7993 - val_loss: 1.8293 - val_accuracy: 0.5420\n",
            "Epoch 6/50\n",
            "35000/35000 [==============================] - 7s 189us/step - loss: 0.3195 - accuracy: 0.8966 - val_loss: 2.2486 - val_accuracy: 0.5339\n",
            "Epoch 7/50\n",
            "35000/35000 [==============================] - 7s 191us/step - loss: 0.1656 - accuracy: 0.9480 - val_loss: 3.2324 - val_accuracy: 0.5582\n",
            "Epoch 8/50\n",
            "35000/35000 [==============================] - 7s 192us/step - loss: 0.0986 - accuracy: 0.9708 - val_loss: 3.3340 - val_accuracy: 0.5189\n",
            "Epoch 9/50\n",
            "35000/35000 [==============================] - 7s 192us/step - loss: 0.0680 - accuracy: 0.9825 - val_loss: 4.1655 - val_accuracy: 0.5622\n",
            "Epoch 10/50\n",
            "35000/35000 [==============================] - 7s 193us/step - loss: 0.0512 - accuracy: 0.9854 - val_loss: 4.6361 - val_accuracy: 0.5585\n",
            "Epoch 11/50\n",
            "35000/35000 [==============================] - 7s 192us/step - loss: 0.0506 - accuracy: 0.9867 - val_loss: 4.4083 - val_accuracy: 0.5465\n",
            "Epoch 12/50\n",
            "35000/35000 [==============================] - 7s 193us/step - loss: 0.0372 - accuracy: 0.9901 - val_loss: 5.0613 - val_accuracy: 0.5480\n",
            "Epoch 13/50\n",
            "35000/35000 [==============================] - 7s 192us/step - loss: 0.0333 - accuracy: 0.9914 - val_loss: 5.5484 - val_accuracy: 0.5637\n",
            "Epoch 14/50\n",
            "35000/35000 [==============================] - 7s 192us/step - loss: 0.0322 - accuracy: 0.9918 - val_loss: 6.3353 - val_accuracy: 0.5673\n",
            "Epoch 15/50\n",
            "35000/35000 [==============================] - 7s 195us/step - loss: 0.0247 - accuracy: 0.9932 - val_loss: 6.3501 - val_accuracy: 0.5356\n",
            "Epoch 16/50\n",
            "35000/35000 [==============================] - 7s 194us/step - loss: 0.0302 - accuracy: 0.9923 - val_loss: 6.1341 - val_accuracy: 0.5521\n",
            "Epoch 17/50\n",
            "35000/35000 [==============================] - 7s 193us/step - loss: 0.0310 - accuracy: 0.9929 - val_loss: 6.9073 - val_accuracy: 0.5585\n",
            "Epoch 18/50\n",
            "35000/35000 [==============================] - 7s 193us/step - loss: 0.0293 - accuracy: 0.9938 - val_loss: 7.2019 - val_accuracy: 0.5637\n",
            "Epoch 19/50\n",
            "35000/35000 [==============================] - 7s 194us/step - loss: 0.0277 - accuracy: 0.9953 - val_loss: 6.9540 - val_accuracy: 0.5551\n",
            "Epoch 20/50\n",
            "35000/35000 [==============================] - 7s 192us/step - loss: 0.0249 - accuracy: 0.9943 - val_loss: 7.3388 - val_accuracy: 0.5546\n",
            "Epoch 21/50\n",
            "35000/35000 [==============================] - 7s 192us/step - loss: 0.0202 - accuracy: 0.9957 - val_loss: 8.7554 - val_accuracy: 0.5539\n",
            "Epoch 22/50\n",
            "35000/35000 [==============================] - 7s 193us/step - loss: 0.0210 - accuracy: 0.9955 - val_loss: 7.5359 - val_accuracy: 0.5579\n",
            "Epoch 23/50\n",
            "35000/35000 [==============================] - 7s 193us/step - loss: 0.0161 - accuracy: 0.9958 - val_loss: 9.4321 - val_accuracy: 0.5488\n",
            "Epoch 24/50\n",
            "35000/35000 [==============================] - 7s 192us/step - loss: 0.0168 - accuracy: 0.9961 - val_loss: 9.5738 - val_accuracy: 0.5647\n",
            "Epoch 25/50\n",
            "35000/35000 [==============================] - 7s 192us/step - loss: 0.0200 - accuracy: 0.9952 - val_loss: 8.8385 - val_accuracy: 0.5521\n",
            "Epoch 26/50\n",
            "35000/35000 [==============================] - 7s 192us/step - loss: 0.0207 - accuracy: 0.9964 - val_loss: 8.7369 - val_accuracy: 0.5450\n",
            "Epoch 27/50\n",
            "35000/35000 [==============================] - 7s 195us/step - loss: 0.0223 - accuracy: 0.9955 - val_loss: 9.8917 - val_accuracy: 0.5415\n",
            "Epoch 28/50\n",
            "35000/35000 [==============================] - 7s 194us/step - loss: 0.0209 - accuracy: 0.9962 - val_loss: 9.4870 - val_accuracy: 0.5565\n",
            "Epoch 29/50\n",
            "35000/35000 [==============================] - 7s 193us/step - loss: 0.0225 - accuracy: 0.9957 - val_loss: 9.9915 - val_accuracy: 0.5523\n",
            "Epoch 30/50\n",
            "35000/35000 [==============================] - 7s 193us/step - loss: 0.0293 - accuracy: 0.9943 - val_loss: 8.3170 - val_accuracy: 0.5471\n",
            "Epoch 31/50\n",
            "35000/35000 [==============================] - 7s 192us/step - loss: 0.0211 - accuracy: 0.9959 - val_loss: 10.1181 - val_accuracy: 0.5556\n",
            "Epoch 32/50\n",
            "35000/35000 [==============================] - 7s 197us/step - loss: 0.0250 - accuracy: 0.9953 - val_loss: 11.0641 - val_accuracy: 0.5537\n",
            "Epoch 33/50\n",
            "35000/35000 [==============================] - 7s 195us/step - loss: 0.0244 - accuracy: 0.9957 - val_loss: 10.6094 - val_accuracy: 0.5619\n",
            "Epoch 34/50\n",
            "35000/35000 [==============================] - 7s 199us/step - loss: 0.0226 - accuracy: 0.9960 - val_loss: 10.7355 - val_accuracy: 0.5542\n",
            "Epoch 35/50\n",
            "35000/35000 [==============================] - 7s 202us/step - loss: 0.0247 - accuracy: 0.9959 - val_loss: 10.6792 - val_accuracy: 0.5623\n",
            "Epoch 36/50\n",
            "35000/35000 [==============================] - 7s 192us/step - loss: 0.0157 - accuracy: 0.9974 - val_loss: 11.0254 - val_accuracy: 0.5585\n",
            "Epoch 37/50\n",
            "35000/35000 [==============================] - 7s 192us/step - loss: 0.0150 - accuracy: 0.9971 - val_loss: 12.4209 - val_accuracy: 0.5611\n",
            "Epoch 38/50\n",
            "35000/35000 [==============================] - 7s 192us/step - loss: 0.0205 - accuracy: 0.9964 - val_loss: 11.1377 - val_accuracy: 0.5501\n",
            "Epoch 39/50\n",
            "35000/35000 [==============================] - 7s 196us/step - loss: 0.0214 - accuracy: 0.9962 - val_loss: 11.3351 - val_accuracy: 0.5591\n",
            "Epoch 40/50\n",
            "35000/35000 [==============================] - 7s 193us/step - loss: 0.0161 - accuracy: 0.9969 - val_loss: 11.0468 - val_accuracy: 0.5560\n",
            "Epoch 41/50\n",
            "35000/35000 [==============================] - 7s 193us/step - loss: 0.0167 - accuracy: 0.9973 - val_loss: 12.9384 - val_accuracy: 0.5641\n",
            "Epoch 42/50\n",
            "35000/35000 [==============================] - 7s 194us/step - loss: 0.0127 - accuracy: 0.9975 - val_loss: 12.7280 - val_accuracy: 0.5703\n",
            "Epoch 43/50\n",
            "35000/35000 [==============================] - 7s 192us/step - loss: 0.0142 - accuracy: 0.9971 - val_loss: 12.0407 - val_accuracy: 0.5578\n",
            "Epoch 44/50\n",
            "35000/35000 [==============================] - 7s 192us/step - loss: 0.0176 - accuracy: 0.9968 - val_loss: 12.4921 - val_accuracy: 0.5695\n",
            "Epoch 45/50\n",
            "35000/35000 [==============================] - 7s 193us/step - loss: 0.0178 - accuracy: 0.9967 - val_loss: 12.3824 - val_accuracy: 0.5516\n",
            "Epoch 46/50\n",
            "35000/35000 [==============================] - 7s 193us/step - loss: 0.0209 - accuracy: 0.9962 - val_loss: 13.5579 - val_accuracy: 0.5715\n",
            "Epoch 47/50\n",
            "35000/35000 [==============================] - 7s 193us/step - loss: 0.0225 - accuracy: 0.9965 - val_loss: 14.4678 - val_accuracy: 0.5580\n",
            "Epoch 48/50\n",
            "35000/35000 [==============================] - 7s 194us/step - loss: 0.0137 - accuracy: 0.9978 - val_loss: 12.9652 - val_accuracy: 0.5628\n",
            "Epoch 49/50\n",
            "35000/35000 [==============================] - 7s 193us/step - loss: 0.0108 - accuracy: 0.9981 - val_loss: 13.9970 - val_accuracy: 0.5709\n",
            "Epoch 50/50\n",
            "35000/35000 [==============================] - 7s 195us/step - loss: 0.0126 - accuracy: 0.9978 - val_loss: 14.0825 - val_accuracy: 0.5601\n",
            "10000/10000 [==============================] - 1s 74us/step\n",
            "Test accuracy:  0.5640000104904175\n",
            "El tiempo de ejecucion fue:  678.9473586082458\n"
          ],
          "name": "stdout"
        }
      ]
    },
    {
      "cell_type": "markdown",
      "metadata": {
        "id": "ux7lyJF4sQfO",
        "colab_type": "text"
      },
      "source": [
        "### Prueba 2 con GPU "
      ]
    },
    {
      "cell_type": "code",
      "metadata": {
        "id": "9B3OoGBdsO6O",
        "colab_type": "code",
        "outputId": "4b10549d-9f0b-4c80-bd8c-cf3ef18fe633",
        "colab": {
          "base_uri": "https://localhost:8080/"
        }
      },
      "source": [
        "model = Sequential([Convolution2D(filters=32,#32 filtros\n",
        "                                  kernel_size = (3, 3), #tamaño filtro\n",
        "                                  input_shape = (32, 32, 3)),#first conv layer#se debe saber el tamaño de imagen\n",
        "                                  Activation('relu'),#fn de activacion\n",
        "                    Convolution2D(filters=32,#la salida anterior entra a otra convolucion\n",
        "                                  kernel_size = (3, 3)), #tamaño filtro\n",
        "                                  Activation('relu'),\n",
        "                    MaxPooling2D(pool_size=(2,2)),#reduzco con maxpooling a 2,2\n",
        "                    Flatten(),#flatten the output tensor\n",
        "                    Dense(512),#fully conected hidden layer capa densa de 64 neuronas\n",
        "                    Activation('relu'),\n",
        "                    Dropout(0.5),#dropout de 0.25\n",
        "                    Dense(10),# densa de 10 porque tiene 10 posibles valores a clasificar\n",
        "                    Activation('softmax')])#clasificacion de softmax, entrega prob de pertener a cada modelo\n",
        "print(model.summary()) # mustra como se construye el modelo\n",
        "\n",
        "model.compile(loss='categorical_crossentropy',metrics=['accuracy'], optimizer='adadelta')        #no solo capas sino que se optimiza, neuronas conectadas, listas\n",
        "history = model.fit(x_train, y_train, batch_size=64, epochs=10, validation_split=0.1, verbose=1)# aquí el entrenamiento del modelo bachsize se entrena de a 100 hasta como con todas# epochs es cantidad de rep que usa el modelo, validacion 10%, verbose muestra avance \n",
        "\n",
        "score, acc = model.evaluate(x_test, y_test, verbose=1)#score = model.evaluate(x_test, y_test, verbose=1)# evaluo modelo con conjunto test final\n",
        "#print('Test accuracy: ', score[1])\n",
        "print('Test score:', score)\n",
        "print('Test accuracy:', acc)\n",
        "print('score', score)\n",
        "#plt.plot(score)\n",
        "\n",
        "tiempo_final = time()\n",
        "tiempo_ejecucion = tiempo_final - tiempo_inicial\n",
        "print('El tiempo de ejecucion fue: ', tiempo_ejecucion)\n",
        "\n",
        "#PLOTEANDO BBY\n",
        "history_dict = history.history #paso info a dictionary\n",
        "\n",
        "print(history_dict)\n",
        "history_dict.keys()\n",
        "\n",
        "acc      = history.history['accuracy' ]\n",
        "val_acc  = history.history[ 'val_accuracy' ]\n",
        "loss     = history.history[ 'loss' ]\n",
        "val_loss = history.history['val_loss' ]\n",
        "\n",
        "epochs   = range(1,len(acc)+1,1)\n",
        "print(epochs)\n",
        "\n",
        "\n",
        "plt.plot ( epochs,     acc, 'r--', label='Training accuracy'  )\n",
        "plt.plot ( epochs, val_acc,  'b', label='Validation accuracy')\n",
        "plt.title ('Training and validation accuracy')\n",
        "plt.ylabel('acc')\n",
        "plt.xlabel('epochs')\n",
        "\n",
        "plt.legend()\n",
        "plt.figure()\n",
        "\n",
        "plt.plot ( epochs,     loss, 'r--' ,label='Loss'  )\n",
        "plt.plot ( epochs, val_loss ,  'b',label='val_loss'   )\n",
        "plt.title ('Training and validation loss'   )\n",
        "plt.ylabel('loss')\n",
        "plt.xlabel('epochs')\n",
        "\n",
        "plt.legend()\n",
        "plt.figure()"
      ],
      "execution_count": 0,
      "outputs": [
        {
          "output_type": "stream",
          "text": [
            "Model: \"sequential_14\"\n",
            "_________________________________________________________________\n",
            "Layer (type)                 Output Shape              Param #   \n",
            "=================================================================\n",
            "conv2d_29 (Conv2D)           (None, 30, 30, 32)        896       \n",
            "_________________________________________________________________\n",
            "activation_56 (Activation)   (None, 30, 30, 32)        0         \n",
            "_________________________________________________________________\n",
            "conv2d_30 (Conv2D)           (None, 28, 28, 32)        9248      \n",
            "_________________________________________________________________\n",
            "activation_57 (Activation)   (None, 28, 28, 32)        0         \n",
            "_________________________________________________________________\n",
            "max_pooling2d_15 (MaxPooling (None, 14, 14, 32)        0         \n",
            "_________________________________________________________________\n",
            "flatten_15 (Flatten)         (None, 6272)              0         \n",
            "_________________________________________________________________\n",
            "dense_28 (Dense)             (None, 512)               3211776   \n",
            "_________________________________________________________________\n",
            "activation_58 (Activation)   (None, 512)               0         \n",
            "_________________________________________________________________\n",
            "dropout_11 (Dropout)         (None, 512)               0         \n",
            "_________________________________________________________________\n",
            "dense_29 (Dense)             (None, 10)                5130      \n",
            "_________________________________________________________________\n",
            "activation_59 (Activation)   (None, 10)                0         \n",
            "=================================================================\n",
            "Total params: 3,227,050\n",
            "Trainable params: 3,227,050\n",
            "Non-trainable params: 0\n",
            "_________________________________________________________________\n",
            "None\n",
            "Train on 45000 samples, validate on 5000 samples\n",
            "Epoch 1/10\n",
            "45000/45000 [==============================] - 5s 110us/step - loss: 3.6304 - accuracy: 0.2373 - val_loss: 2.7071 - val_accuracy: 0.2790\n",
            "Epoch 2/10\n",
            "45000/45000 [==============================] - 5s 106us/step - loss: 1.7008 - accuracy: 0.3998 - val_loss: 1.6700 - val_accuracy: 0.3952\n",
            "Epoch 3/10\n",
            "45000/45000 [==============================] - 5s 106us/step - loss: 1.4232 - accuracy: 0.5049 - val_loss: 1.4870 - val_accuracy: 0.4678\n",
            "Epoch 4/10\n",
            "45000/45000 [==============================] - 5s 106us/step - loss: 1.2150 - accuracy: 0.5825 - val_loss: 1.5178 - val_accuracy: 0.4832\n",
            "Epoch 5/10\n",
            "45000/45000 [==============================] - 5s 106us/step - loss: 1.0479 - accuracy: 0.6462 - val_loss: 2.0248 - val_accuracy: 0.4860\n",
            "Epoch 6/10\n",
            "45000/45000 [==============================] - 5s 105us/step - loss: 0.8927 - accuracy: 0.6982 - val_loss: 1.3245 - val_accuracy: 0.5826\n",
            "Epoch 7/10\n",
            "45000/45000 [==============================] - 5s 106us/step - loss: 0.7688 - accuracy: 0.7453 - val_loss: 1.4091 - val_accuracy: 0.5660\n",
            "Epoch 8/10\n",
            "45000/45000 [==============================] - 5s 109us/step - loss: 0.6705 - accuracy: 0.7779 - val_loss: 1.4853 - val_accuracy: 0.5872\n",
            "Epoch 9/10\n",
            "45000/45000 [==============================] - 5s 105us/step - loss: 0.5845 - accuracy: 0.8098 - val_loss: 1.5381 - val_accuracy: 0.6126\n",
            "Epoch 10/10\n",
            "45000/45000 [==============================] - 5s 106us/step - loss: 0.5185 - accuracy: 0.8335 - val_loss: 1.5385 - val_accuracy: 0.6068\n",
            "10000/10000 [==============================] - 1s 76us/step\n",
            "Test score: 1.5137268878936767\n",
            "Test accuracy: 0.5949000120162964\n",
            "score 1.5137268878936767\n",
            "El tiempo de ejecucion fue:  2834.2147076129913\n",
            "{'val_loss': [2.7071220848083497, 1.6699552488327027, 1.4870010795593263, 1.5177826461791992, 2.024809810638428, 1.3245052532196044, 1.4091442413330078, 1.4852561485290527, 1.5381487007141112, 1.5384536903381347], 'val_accuracy': [0.27900001406669617, 0.3952000141143799, 0.46779999136924744, 0.4832000136375427, 0.4860000014305115, 0.5825999975204468, 0.5659999847412109, 0.5871999859809875, 0.6126000285148621, 0.6068000197410583], 'loss': [3.6303886388142903, 1.700766482586331, 1.4231586360083686, 1.215021125072903, 1.0479391446643405, 0.8926812617407904, 0.7688220606274075, 0.670525697877672, 0.5845019472241402, 0.5184713496949938], 'accuracy': [0.23728889, 0.39975557, 0.5049111, 0.58246666, 0.64622223, 0.6981556, 0.7453333, 0.7778889, 0.80975556, 0.8334889]}\n",
            "range(1, 11)\n"
          ],
          "name": "stdout"
        },
        {
          "output_type": "execute_result",
          "data": {
            "text/plain": [
              "<Figure size 432x288 with 0 Axes>"
            ]
          },
          "metadata": {
            "tags": []
          },
          "execution_count": 64
        },
        {
          "output_type": "display_data",
          "data": {
            "image/png": "[encoded data removed]",
            "text/plain": [
              "<Figure size 432x288 with 1 Axes>"
            ]
          },
          "metadata": {
            "tags": [],
            "needs_background": "light"
          }
        },
        {
          "output_type": "display_data",
          "data": {
            "image/png": "[encoded data removed]",
            "text/plain": [
              "<Figure size 432x288 with 1 Axes>"
            ]
          },
          "metadata": {
            "tags": [],
            "needs_background": "light"
          }
        },
        {
          "output_type": "display_data",
          "data": {
            "text/plain": [
              "<Figure size 432x288 with 0 Axes>"
            ]
          },
          "metadata": {
            "tags": []
          }
        }
      ]
    },
    {
      "cell_type": "markdown",
      "metadata": {
        "id": "6tliOqrK8LQn",
        "colab_type": "text"
      },
      "source": [
        "### Prueba 3 con gpu graficas y revolcon"
      ]
    },
    {
      "cell_type": "code",
      "metadata": {
        "id": "BnZeVJOQ403v",
        "colab_type": "code",
        "outputId": "7743a385-be94-4944-86b1-b061496ae847",
        "colab": {
          "base_uri": "https://localhost:8080/",
          "height": 1000
        }
      },
      "source": [
        "model = Sequential([Convolution2D(filters=32,#32 filtros\n",
        "                                  kernel_size = (5, 5), #tamaño filtro\n",
        "                                  #strides=(2, 2),#DONDE PONER STRIDES Y COMO?\n",
        "                                  padding = 'same',\n",
        "                                  input_shape = (32, 32, 3)),#first conv layer#se debe saber el tamaño de imagen\n",
        "                    Activation('relu'),#fn de activacion\n",
        "                    MaxPooling2D(pool_size=(2,2)),\n",
        "                    Convolution2D(filters=64,#la salida anterior entra a otra convolucion\n",
        "                                  kernel_size = (3, 3), #tamaño filtro\n",
        "                                  #strides=(2, 2),\n",
        "                                  padding = 'same'),\n",
        "                    Activation('relu'),\n",
        "                    Dropout(0.35),\n",
        "                    MaxPooling2D(pool_size=(2,2)),\n",
        "                    Convolution2D(filters=96,#la salida anterior entra a otra convolucion\n",
        "                                  kernel_size = (3, 3), #tamaño filtro\n",
        "                                  padding = 'same'),\n",
        "                    Activation('relu'),\n",
        "                    MaxPooling2D(pool_size=(2,2)),#reduzco con maxpooling a 2,2\n",
        "                    Dropout(0.35),\n",
        "                    Convolution2D(filters=96,#la salida anterior entra a otra convolucion\n",
        "                                  kernel_size = (3, 3), #tamaño filtro\n",
        "                                  #strides=(2, 2),\n",
        "                                  padding = 'same'),\n",
        "                    Activation('relu'),\n",
        "                    MaxPooling2D(pool_size=(2,2)), \n",
        "                    Flatten(),#flatten the output tensor\n",
        "                    Dense(288),#fully conected hidden layer capa densa de 64 neuronas\n",
        "                    Activation('sigmoid'),\n",
        "                    Dropout(0.5),#dropout de 0.5\n",
        "                    Dense(10),# densa de 10 porque tiene 10 posibles valores a clasificar\n",
        "                    Activation('softmax')])#clasificacion de softmax, entrega prob de pertener a cada modelo\n",
        "print(model.summary()) # mustra como se construye el modelo\n",
        "\n",
        "#from keras.optimizers import Adam\n",
        "#opt = Adam(learning_rate=0.0013)#best=0.001#cuanto es el valor por default?? learning_rate=0.01 bad, 0.003 acc 0.67\n",
        "\n",
        "model.compile(loss='categorical_crossentropy',metrics=['accuracy'], optimizer='adam') #optimizer=opt       #no solo capas sino que se optimiza, neuronas conectadas, listas\n",
        "history = model.fit(x_train, y_train, batch_size=128, epochs=100, validation_split=0.01, verbose=1)#Bactch size al doble64*2 aquí el entrenamiento del modelo bachsize se entrena de a 100 hasta como con todas# epochs es cantidad de rep que usa el modelo, validacion 10%, verbose muestra avance \n",
        "\n",
        "score, acc = model.evaluate(x_test, y_test, verbose=1)#score = model.evaluate(x_test, y_test, verbose=1)# evaluo modelo con conjunto test final\n",
        "#print('Test accuracy: ', score[1])\n",
        "print('Test score:', score)\n",
        "print('Test accuracy:', acc)\n",
        "print('score', score)\n",
        "#plt.plot(score)\n",
        "\n",
        "tiempo_final = time()\n",
        "tiempo_ejecucion = tiempo_final - tiempo_inicial\n",
        "print('El tiempo de ejecucion fue: ', tiempo_ejecucion)\n",
        "\n",
        "#PLOTEANDO BBY\n",
        "history_dict = history.history #paso info a dictionary\n",
        "\n",
        "print(history_dict)\n",
        "history_dict.keys()\n",
        "\n",
        "acc      = history.history['accuracy' ]\n",
        "val_acc  = history.history[ 'val_accuracy' ]\n",
        "loss     = history.history[ 'loss' ]\n",
        "val_loss = history.history['val_loss' ]\n",
        "\n",
        "epochs   = range(1,len(acc)+1,1)\n",
        "print(epochs)\n",
        "\n",
        "\n",
        "plt.plot ( epochs,     acc, 'r--', label='Training accuracy'  )\n",
        "plt.plot ( epochs, val_acc,  'b', label='Validation accuracy')\n",
        "plt.title ('Training and validation accuracy')\n",
        "plt.ylabel('acc')\n",
        "plt.xlabel('epochs')\n",
        "\n",
        "plt.legend()\n",
        "plt.figure()\n",
        "\n",
        "plt.plot ( epochs,     loss, 'r--' ,label='Loss'  )\n",
        "plt.plot ( epochs, val_loss ,  'b',label='val_loss'   )\n",
        "plt.title ('Training and validation loss'   )\n",
        "plt.ylabel('loss')\n",
        "plt.xlabel('epochs')\n",
        "\n",
        "plt.legend()\n",
        "plt.figure()"
      ],
      "execution_count": 39,
      "outputs": [
        {
          "output_type": "stream",
          "text": [
            "Model: \"sequential_31\"\n",
            "_________________________________________________________________\n",
            "Layer (type)                 Output Shape              Param #   \n",
            "=================================================================\n",
            "conv2d_121 (Conv2D)          (None, 32, 32, 32)        2432      \n",
            "_________________________________________________________________\n",
            "activation_181 (Activation)  (None, 32, 32, 32)        0         \n",
            "_________________________________________________________________\n",
            "max_pooling2d_121 (MaxPoolin (None, 16, 16, 32)        0         \n",
            "_________________________________________________________________\n",
            "conv2d_122 (Conv2D)          (None, 16, 16, 64)        18496     \n",
            "_________________________________________________________________\n",
            "activation_182 (Activation)  (None, 16, 16, 64)        0         \n",
            "_________________________________________________________________\n",
            "dropout_92 (Dropout)         (None, 16, 16, 64)        0         \n",
            "_________________________________________________________________\n",
            "max_pooling2d_122 (MaxPoolin (None, 8, 8, 64)          0         \n",
            "_________________________________________________________________\n",
            "conv2d_123 (Conv2D)          (None, 8, 8, 96)          55392     \n",
            "_________________________________________________________________\n",
            "activation_183 (Activation)  (None, 8, 8, 96)          0         \n",
            "_________________________________________________________________\n",
            "max_pooling2d_123 (MaxPoolin (None, 4, 4, 96)          0         \n",
            "_________________________________________________________________\n",
            "dropout_93 (Dropout)         (None, 4, 4, 96)          0         \n",
            "_________________________________________________________________\n",
            "conv2d_124 (Conv2D)          (None, 4, 4, 96)          83040     \n",
            "_________________________________________________________________\n",
            "activation_184 (Activation)  (None, 4, 4, 96)          0         \n",
            "_________________________________________________________________\n",
            "max_pooling2d_124 (MaxPoolin (None, 2, 2, 96)          0         \n",
            "_________________________________________________________________\n",
            "flatten_31 (Flatten)         (None, 384)               0         \n",
            "_________________________________________________________________\n",
            "dense_61 (Dense)             (None, 288)               110880    \n",
            "_________________________________________________________________\n",
            "activation_185 (Activation)  (None, 288)               0         \n",
            "_________________________________________________________________\n",
            "dropout_94 (Dropout)         (None, 288)               0         \n",
            "_________________________________________________________________\n",
            "dense_62 (Dense)             (None, 10)                2890      \n",
            "_________________________________________________________________\n",
            "activation_186 (Activation)  (None, 10)                0         \n",
            "=================================================================\n",
            "Total params: 273,130\n",
            "Trainable params: 273,130\n",
            "Non-trainable params: 0\n",
            "_________________________________________________________________\n",
            "None\n",
            "Train on 49500 samples, validate on 500 samples\n",
            "Epoch 1/100\n",
            "49500/49500 [==============================] - 4s 81us/step - loss: 1.8893 - accuracy: 0.3000 - val_loss: 1.4586 - val_accuracy: 0.4760\n",
            "Epoch 2/100\n",
            "49500/49500 [==============================] - 4s 74us/step - loss: 1.4656 - accuracy: 0.4598 - val_loss: 1.2997 - val_accuracy: 0.5340\n",
            "Epoch 3/100\n",
            "49500/49500 [==============================] - 4s 72us/step - loss: 1.2979 - accuracy: 0.5303 - val_loss: 1.1085 - val_accuracy: 0.5920\n",
            "Epoch 4/100\n",
            "49500/49500 [==============================] - 4s 72us/step - loss: 1.1921 - accuracy: 0.5728 - val_loss: 1.0410 - val_accuracy: 0.6180\n",
            "Epoch 5/100\n",
            "49500/49500 [==============================] - 4s 73us/step - loss: 1.1015 - accuracy: 0.6074 - val_loss: 0.9695 - val_accuracy: 0.6580\n",
            "Epoch 6/100\n",
            "49500/49500 [==============================] - 4s 71us/step - loss: 1.0308 - accuracy: 0.6346 - val_loss: 0.9134 - val_accuracy: 0.6720\n",
            "Epoch 7/100\n",
            "49500/49500 [==============================] - 4s 71us/step - loss: 0.9787 - accuracy: 0.6542 - val_loss: 0.8903 - val_accuracy: 0.6880\n",
            "Epoch 8/100\n",
            "49500/49500 [==============================] - 4s 71us/step - loss: 0.9336 - accuracy: 0.6708 - val_loss: 0.8634 - val_accuracy: 0.6920\n",
            "Epoch 9/100\n",
            "49500/49500 [==============================] - 3s 70us/step - loss: 0.8894 - accuracy: 0.6892 - val_loss: 0.7910 - val_accuracy: 0.7320\n",
            "Epoch 10/100\n",
            "49500/49500 [==============================] - 4s 71us/step - loss: 0.8471 - accuracy: 0.7008 - val_loss: 0.7682 - val_accuracy: 0.7220\n",
            "Epoch 11/100\n",
            "49500/49500 [==============================] - 4s 73us/step - loss: 0.8175 - accuracy: 0.7144 - val_loss: 0.7319 - val_accuracy: 0.7380\n",
            "Epoch 12/100\n",
            "49500/49500 [==============================] - 4s 73us/step - loss: 0.7912 - accuracy: 0.7220 - val_loss: 0.7171 - val_accuracy: 0.7560\n",
            "Epoch 13/100\n",
            "49500/49500 [==============================] - 4s 71us/step - loss: 0.7668 - accuracy: 0.7315 - val_loss: 0.7092 - val_accuracy: 0.7280\n",
            "Epoch 14/100\n",
            "49500/49500 [==============================] - 4s 72us/step - loss: 0.7464 - accuracy: 0.7392 - val_loss: 0.6676 - val_accuracy: 0.7540\n",
            "Epoch 15/100\n",
            "49500/49500 [==============================] - 4s 71us/step - loss: 0.7178 - accuracy: 0.7484 - val_loss: 0.6796 - val_accuracy: 0.7620\n",
            "Epoch 16/100\n",
            "49500/49500 [==============================] - 4s 71us/step - loss: 0.7005 - accuracy: 0.7539 - val_loss: 0.6792 - val_accuracy: 0.7580\n",
            "Epoch 17/100\n",
            "49500/49500 [==============================] - 4s 71us/step - loss: 0.6811 - accuracy: 0.7606 - val_loss: 0.6262 - val_accuracy: 0.7840\n",
            "Epoch 18/100\n",
            "49500/49500 [==============================] - 3s 71us/step - loss: 0.6698 - accuracy: 0.7671 - val_loss: 0.6471 - val_accuracy: 0.7800\n",
            "Epoch 19/100\n",
            "49500/49500 [==============================] - 4s 71us/step - loss: 0.6492 - accuracy: 0.7746 - val_loss: 0.6341 - val_accuracy: 0.7700\n",
            "Epoch 20/100\n",
            "49500/49500 [==============================] - 4s 71us/step - loss: 0.6411 - accuracy: 0.7745 - val_loss: 0.6315 - val_accuracy: 0.7540\n",
            "Epoch 21/100\n",
            "49500/49500 [==============================] - 4s 74us/step - loss: 0.6226 - accuracy: 0.7822 - val_loss: 0.6292 - val_accuracy: 0.7820\n",
            "Epoch 22/100\n",
            "49500/49500 [==============================] - 4s 73us/step - loss: 0.6121 - accuracy: 0.7835 - val_loss: 0.5864 - val_accuracy: 0.7880\n",
            "Epoch 23/100\n",
            "49500/49500 [==============================] - 4s 73us/step - loss: 0.6020 - accuracy: 0.7891 - val_loss: 0.5959 - val_accuracy: 0.7800\n",
            "Epoch 24/100\n",
            "49500/49500 [==============================] - 4s 72us/step - loss: 0.5965 - accuracy: 0.7907 - val_loss: 0.6098 - val_accuracy: 0.7720\n",
            "Epoch 25/100\n",
            "49500/49500 [==============================] - 4s 72us/step - loss: 0.5835 - accuracy: 0.7948 - val_loss: 0.5979 - val_accuracy: 0.7800\n",
            "Epoch 26/100\n",
            "49500/49500 [==============================] - 4s 71us/step - loss: 0.5722 - accuracy: 0.8004 - val_loss: 0.6091 - val_accuracy: 0.7860\n",
            "Epoch 27/100\n",
            "49500/49500 [==============================] - 4s 71us/step - loss: 0.5674 - accuracy: 0.8015 - val_loss: 0.5969 - val_accuracy: 0.7800\n",
            "Epoch 28/100\n",
            "49500/49500 [==============================] - 4s 72us/step - loss: 0.5549 - accuracy: 0.8054 - val_loss: 0.5429 - val_accuracy: 0.8000\n",
            "Epoch 29/100\n",
            "49500/49500 [==============================] - 4s 71us/step - loss: 0.5487 - accuracy: 0.8084 - val_loss: 0.5660 - val_accuracy: 0.7960\n",
            "Epoch 30/100\n",
            "49500/49500 [==============================] - 3s 70us/step - loss: 0.5407 - accuracy: 0.8105 - val_loss: 0.5509 - val_accuracy: 0.7980\n",
            "Epoch 31/100\n",
            "49500/49500 [==============================] - 3s 70us/step - loss: 0.5401 - accuracy: 0.8117 - val_loss: 0.5759 - val_accuracy: 0.7960\n",
            "Epoch 32/100\n",
            "49500/49500 [==============================] - 3s 70us/step - loss: 0.5256 - accuracy: 0.8163 - val_loss: 0.5483 - val_accuracy: 0.7960\n",
            "Epoch 33/100\n",
            "49500/49500 [==============================] - 4s 72us/step - loss: 0.5208 - accuracy: 0.8150 - val_loss: 0.5568 - val_accuracy: 0.8020\n",
            "Epoch 34/100\n",
            "49500/49500 [==============================] - 4s 72us/step - loss: 0.5166 - accuracy: 0.8199 - val_loss: 0.5844 - val_accuracy: 0.7940\n",
            "Epoch 35/100\n",
            "49500/49500 [==============================] - 4s 71us/step - loss: 0.5096 - accuracy: 0.8198 - val_loss: 0.5159 - val_accuracy: 0.8180\n",
            "Epoch 36/100\n",
            "49500/49500 [==============================] - 4s 72us/step - loss: 0.5019 - accuracy: 0.8247 - val_loss: 0.5610 - val_accuracy: 0.8020\n",
            "Epoch 37/100\n",
            "49500/49500 [==============================] - 4s 72us/step - loss: 0.5052 - accuracy: 0.8216 - val_loss: 0.5368 - val_accuracy: 0.8220\n",
            "Epoch 38/100\n",
            "49500/49500 [==============================] - 4s 71us/step - loss: 0.5012 - accuracy: 0.8222 - val_loss: 0.5699 - val_accuracy: 0.7940\n",
            "Epoch 39/100\n",
            "49500/49500 [==============================] - 4s 71us/step - loss: 0.4936 - accuracy: 0.8262 - val_loss: 0.5540 - val_accuracy: 0.8100\n",
            "Epoch 40/100\n",
            "49500/49500 [==============================] - 4s 71us/step - loss: 0.4847 - accuracy: 0.8284 - val_loss: 0.6163 - val_accuracy: 0.7800\n",
            "Epoch 41/100\n",
            "49500/49500 [==============================] - 4s 71us/step - loss: 0.4835 - accuracy: 0.8311 - val_loss: 0.5603 - val_accuracy: 0.7900\n",
            "Epoch 42/100\n",
            "49500/49500 [==============================] - 4s 72us/step - loss: 0.4729 - accuracy: 0.8334 - val_loss: 0.5520 - val_accuracy: 0.8040\n",
            "Epoch 43/100\n",
            "49500/49500 [==============================] - 4s 72us/step - loss: 0.4781 - accuracy: 0.8316 - val_loss: 0.5734 - val_accuracy: 0.7940\n",
            "Epoch 44/100\n",
            "49500/49500 [==============================] - 4s 71us/step - loss: 0.4694 - accuracy: 0.8341 - val_loss: 0.6080 - val_accuracy: 0.7840\n",
            "Epoch 45/100\n",
            "49500/49500 [==============================] - 4s 71us/step - loss: 0.4700 - accuracy: 0.8357 - val_loss: 0.5457 - val_accuracy: 0.8060\n",
            "Epoch 46/100\n",
            "49500/49500 [==============================] - 4s 71us/step - loss: 0.4625 - accuracy: 0.8390 - val_loss: 0.5730 - val_accuracy: 0.7900\n",
            "Epoch 47/100\n",
            "49500/49500 [==============================] - 4s 71us/step - loss: 0.4602 - accuracy: 0.8380 - val_loss: 0.6000 - val_accuracy: 0.7780\n",
            "Epoch 48/100\n",
            "49500/49500 [==============================] - 4s 71us/step - loss: 0.4546 - accuracy: 0.8414 - val_loss: 0.5674 - val_accuracy: 0.7860\n",
            "Epoch 49/100\n",
            "49500/49500 [==============================] - 4s 72us/step - loss: 0.4563 - accuracy: 0.8402 - val_loss: 0.5396 - val_accuracy: 0.8160\n",
            "Epoch 50/100\n",
            "49500/49500 [==============================] - 4s 71us/step - loss: 0.4516 - accuracy: 0.8394 - val_loss: 0.5242 - val_accuracy: 0.7860\n",
            "Epoch 51/100\n",
            "49500/49500 [==============================] - 4s 72us/step - loss: 0.4490 - accuracy: 0.8419 - val_loss: 0.5567 - val_accuracy: 0.8040\n",
            "Epoch 52/100\n",
            "49500/49500 [==============================] - 3s 71us/step - loss: 0.4462 - accuracy: 0.8420 - val_loss: 0.5609 - val_accuracy: 0.7980\n",
            "Epoch 53/100\n",
            "49500/49500 [==============================] - 4s 72us/step - loss: 0.4558 - accuracy: 0.8402 - val_loss: 0.5856 - val_accuracy: 0.8000\n",
            "Epoch 54/100\n",
            "49500/49500 [==============================] - 4s 72us/step - loss: 0.4383 - accuracy: 0.8463 - val_loss: 0.5398 - val_accuracy: 0.8240\n",
            "Epoch 55/100\n",
            "49500/49500 [==============================] - 4s 71us/step - loss: 0.4401 - accuracy: 0.8441 - val_loss: 0.5117 - val_accuracy: 0.8160\n",
            "Epoch 56/100\n",
            "49500/49500 [==============================] - 4s 71us/step - loss: 0.4360 - accuracy: 0.8466 - val_loss: 0.5175 - val_accuracy: 0.8180\n",
            "Epoch 57/100\n",
            "49500/49500 [==============================] - 4s 72us/step - loss: 0.4363 - accuracy: 0.8472 - val_loss: 0.5420 - val_accuracy: 0.8140\n",
            "Epoch 58/100\n",
            "49500/49500 [==============================] - 4s 71us/step - loss: 0.4439 - accuracy: 0.8430 - val_loss: 0.5240 - val_accuracy: 0.8060\n",
            "Epoch 59/100\n",
            "49500/49500 [==============================] - 4s 71us/step - loss: 0.4336 - accuracy: 0.8484 - val_loss: 0.4979 - val_accuracy: 0.8320\n",
            "Epoch 60/100\n",
            "49500/49500 [==============================] - 4s 71us/step - loss: 0.4265 - accuracy: 0.8489 - val_loss: 0.5145 - val_accuracy: 0.8100\n",
            "Epoch 61/100\n",
            "49500/49500 [==============================] - 4s 71us/step - loss: 0.4266 - accuracy: 0.8500 - val_loss: 0.5172 - val_accuracy: 0.8140\n",
            "Epoch 62/100\n",
            "49500/49500 [==============================] - 4s 73us/step - loss: 0.4276 - accuracy: 0.8498 - val_loss: 0.5139 - val_accuracy: 0.8260\n",
            "Epoch 63/100\n",
            "49500/49500 [==============================] - 4s 72us/step - loss: 0.4285 - accuracy: 0.8482 - val_loss: 0.5670 - val_accuracy: 0.8080\n",
            "Epoch 64/100\n",
            "49500/49500 [==============================] - 4s 72us/step - loss: 0.4180 - accuracy: 0.8532 - val_loss: 0.4977 - val_accuracy: 0.8300\n",
            "Epoch 65/100\n",
            "49500/49500 [==============================] - 4s 71us/step - loss: 0.4255 - accuracy: 0.8502 - val_loss: 0.5561 - val_accuracy: 0.8180\n",
            "Epoch 66/100\n",
            "49500/49500 [==============================] - 4s 71us/step - loss: 0.4148 - accuracy: 0.8538 - val_loss: 0.5410 - val_accuracy: 0.8060\n",
            "Epoch 67/100\n",
            "49500/49500 [==============================] - 4s 71us/step - loss: 0.4144 - accuracy: 0.8540 - val_loss: 0.5512 - val_accuracy: 0.7980\n",
            "Epoch 68/100\n",
            "49500/49500 [==============================] - 4s 72us/step - loss: 0.4153 - accuracy: 0.8536 - val_loss: 0.5224 - val_accuracy: 0.8240\n",
            "Epoch 69/100\n",
            "49500/49500 [==============================] - 4s 71us/step - loss: 0.4184 - accuracy: 0.8538 - val_loss: 0.5562 - val_accuracy: 0.8320\n",
            "Epoch 70/100\n",
            "49500/49500 [==============================] - 4s 72us/step - loss: 0.4107 - accuracy: 0.8555 - val_loss: 0.5214 - val_accuracy: 0.8340\n",
            "Epoch 71/100\n",
            "49500/49500 [==============================] - 4s 71us/step - loss: 0.4106 - accuracy: 0.8567 - val_loss: 0.5526 - val_accuracy: 0.8220\n",
            "Epoch 72/100\n",
            "49500/49500 [==============================] - 4s 71us/step - loss: 0.4057 - accuracy: 0.8568 - val_loss: 0.5258 - val_accuracy: 0.8360\n",
            "Epoch 73/100\n",
            "49500/49500 [==============================] - 4s 72us/step - loss: 0.4106 - accuracy: 0.8531 - val_loss: 0.5134 - val_accuracy: 0.8380\n",
            "Epoch 74/100\n",
            "49500/49500 [==============================] - 4s 71us/step - loss: 0.4031 - accuracy: 0.8575 - val_loss: 0.5448 - val_accuracy: 0.8080\n",
            "Epoch 75/100\n",
            "49500/49500 [==============================] - 4s 71us/step - loss: 0.4060 - accuracy: 0.8566 - val_loss: 0.5083 - val_accuracy: 0.8320\n",
            "Epoch 76/100\n",
            "49500/49500 [==============================] - 4s 72us/step - loss: 0.4076 - accuracy: 0.8568 - val_loss: 0.5132 - val_accuracy: 0.8160\n",
            "Epoch 77/100\n",
            "49500/49500 [==============================] - 4s 72us/step - loss: 0.4087 - accuracy: 0.8574 - val_loss: 0.5235 - val_accuracy: 0.8240\n",
            "Epoch 78/100\n",
            "49500/49500 [==============================] - 4s 72us/step - loss: 0.4049 - accuracy: 0.8582 - val_loss: 0.4880 - val_accuracy: 0.8380\n",
            "Epoch 79/100\n",
            "49500/49500 [==============================] - 4s 73us/step - loss: 0.4044 - accuracy: 0.8576 - val_loss: 0.5326 - val_accuracy: 0.8180\n",
            "Epoch 80/100\n",
            "49500/49500 [==============================] - 4s 71us/step - loss: 0.4048 - accuracy: 0.8559 - val_loss: 0.5427 - val_accuracy: 0.8300\n",
            "Epoch 81/100\n",
            "49500/49500 [==============================] - 4s 72us/step - loss: 0.3996 - accuracy: 0.8579 - val_loss: 0.4874 - val_accuracy: 0.8300\n",
            "Epoch 82/100\n",
            "49500/49500 [==============================] - 4s 72us/step - loss: 0.4000 - accuracy: 0.8598 - val_loss: 0.4823 - val_accuracy: 0.8280\n",
            "Epoch 83/100\n",
            "49500/49500 [==============================] - 4s 71us/step - loss: 0.4002 - accuracy: 0.8591 - val_loss: 0.5406 - val_accuracy: 0.8240\n",
            "Epoch 84/100\n",
            "49500/49500 [==============================] - 4s 72us/step - loss: 0.3932 - accuracy: 0.8627 - val_loss: 0.5256 - val_accuracy: 0.8200\n",
            "Epoch 85/100\n",
            "49500/49500 [==============================] - 4s 71us/step - loss: 0.3989 - accuracy: 0.8592 - val_loss: 0.5582 - val_accuracy: 0.8200\n",
            "Epoch 86/100\n",
            "49500/49500 [==============================] - 4s 72us/step - loss: 0.4005 - accuracy: 0.8585 - val_loss: 0.5587 - val_accuracy: 0.7980\n",
            "Epoch 87/100\n",
            "49500/49500 [==============================] - 4s 72us/step - loss: 0.3929 - accuracy: 0.8626 - val_loss: 0.4878 - val_accuracy: 0.8280\n",
            "Epoch 88/100\n",
            "49500/49500 [==============================] - 4s 74us/step - loss: 0.4000 - accuracy: 0.8592 - val_loss: 0.4947 - val_accuracy: 0.8380\n",
            "Epoch 89/100\n",
            "49500/49500 [==============================] - 4s 75us/step - loss: 0.4000 - accuracy: 0.8595 - val_loss: 0.4741 - val_accuracy: 0.8360\n",
            "Epoch 90/100\n",
            "49500/49500 [==============================] - 4s 74us/step - loss: 0.3938 - accuracy: 0.8616 - val_loss: 0.5340 - val_accuracy: 0.8140\n",
            "Epoch 91/100\n",
            "49500/49500 [==============================] - 4s 72us/step - loss: 0.3898 - accuracy: 0.8633 - val_loss: 0.5060 - val_accuracy: 0.8320\n",
            "Epoch 92/100\n",
            "49500/49500 [==============================] - 4s 72us/step - loss: 0.4005 - accuracy: 0.8591 - val_loss: 0.5394 - val_accuracy: 0.8060\n",
            "Epoch 93/100\n",
            "49500/49500 [==============================] - 4s 71us/step - loss: 0.3967 - accuracy: 0.8612 - val_loss: 0.5673 - val_accuracy: 0.8080\n",
            "Epoch 94/100\n",
            "49500/49500 [==============================] - 4s 72us/step - loss: 0.3919 - accuracy: 0.8617 - val_loss: 0.5379 - val_accuracy: 0.8260\n",
            "Epoch 95/100\n",
            "49500/49500 [==============================] - 4s 72us/step - loss: 0.3863 - accuracy: 0.8645 - val_loss: 0.5126 - val_accuracy: 0.8420\n",
            "Epoch 96/100\n",
            "49500/49500 [==============================] - 4s 73us/step - loss: 0.3899 - accuracy: 0.8631 - val_loss: 0.5009 - val_accuracy: 0.8200\n",
            "Epoch 97/100\n",
            "49500/49500 [==============================] - 4s 72us/step - loss: 0.3851 - accuracy: 0.8658 - val_loss: 0.5152 - val_accuracy: 0.8220\n",
            "Epoch 98/100\n",
            "49500/49500 [==============================] - 4s 74us/step - loss: 0.3886 - accuracy: 0.8632 - val_loss: 0.5189 - val_accuracy: 0.8240\n",
            "Epoch 99/100\n",
            "49500/49500 [==============================] - 4s 72us/step - loss: 0.3899 - accuracy: 0.8618 - val_loss: 0.5127 - val_accuracy: 0.8240\n",
            "Epoch 100/100\n",
            "49500/49500 [==============================] - 4s 72us/step - loss: 0.3929 - accuracy: 0.8621 - val_loss: 0.5074 - val_accuracy: 0.8020\n",
            "10000/10000 [==============================] - 1s 92us/step\n",
            "Test score: 0.6520432975530625\n",
            "Test accuracy: 0.7980999946594238\n",
            "score 0.6520432975530625\n",
            "El tiempo de ejecucion fue:  8629.772890806198\n",
            "{'val_loss': [1.458639232635498, 1.299739062309265, 1.10850555229187, 1.0410298538208007, 0.9694961738586426, 0.913441614151001, 0.8903370103836059, 0.8634456133842469, 0.7909501633644104, 0.7681517958641052, 0.7318624415397644, 0.7171272478103637, 0.7092071623802185, 0.6676067786216736, 0.6796088395118713, 0.6792238788604736, 0.6261916599273681, 0.647100109577179, 0.6340986151695251, 0.6315371999740601, 0.629177384853363, 0.5863763298988343, 0.5958709688186645, 0.6097666521072388, 0.5979352636337281, 0.6090720987319946, 0.5969495224952698, 0.5429108934402466, 0.5659883074760437, 0.5508677153587341, 0.5759258575439453, 0.5483302826881409, 0.5568120365142822, 0.5844089231491089, 0.5158731169700622, 0.5609801545143127, 0.536815094947815, 0.5699024448394775, 0.5539806237220765, 0.6162517242431641, 0.5603390364646912, 0.552016857624054, 0.5733580994606018, 0.6080364708900452, 0.5457294058799743, 0.5729650640487671, 0.6000469055175781, 0.5673994789123535, 0.539635678768158, 0.5242418031692505, 0.556699695110321, 0.5609085960388184, 0.5855996465682983, 0.5397784857749939, 0.5117283973693848, 0.5174682035446166, 0.5420477032661438, 0.523953019618988, 0.4979474196434021, 0.5144521017074585, 0.5171532034873962, 0.5139170126914978, 0.5669856152534485, 0.4976607265472412, 0.5561022200584411, 0.5409960036277771, 0.5512179374694824, 0.5224031777381897, 0.556168345451355, 0.5213991060256958, 0.5525938711166382, 0.5257586460113526, 0.5134292120933532, 0.544754289150238, 0.5083278298377991, 0.5132414360046387, 0.5234913721084594, 0.4879882173538208, 0.5326282639503479, 0.5427219514846802, 0.48738008975982666, 0.48232418060302734, 0.5406492609977722, 0.5256410250663758, 0.5582203149795533, 0.5586919951438903, 0.48781455850601196, 0.494731999874115, 0.47405501651763915, 0.5340113625526428, 0.5059793047904968, 0.5394330496788025, 0.5672850975990296, 0.5378745708465577, 0.512620044708252, 0.5008959627151489, 0.515216299533844, 0.5189059591293335, 0.5126981143951416, 0.5074474277496338], 'val_accuracy': [0.47600001096725464, 0.5339999794960022, 0.5920000076293945, 0.6179999709129333, 0.6579999923706055, 0.671999990940094, 0.6880000233650208, 0.6919999718666077, 0.7319999933242798, 0.722000002861023, 0.7379999756813049, 0.7559999823570251, 0.7279999852180481, 0.7540000081062317, 0.7620000243186951, 0.7580000162124634, 0.7839999794960022, 0.7799999713897705, 0.7699999809265137, 0.7540000081062317, 0.7820000052452087, 0.7879999876022339, 0.7799999713897705, 0.7720000147819519, 0.7799999713897705, 0.7860000133514404, 0.7799999713897705, 0.800000011920929, 0.7960000038146973, 0.7979999780654907, 0.7960000038146973, 0.7960000038146973, 0.8019999861717224, 0.7940000295639038, 0.8180000185966492, 0.8019999861717224, 0.8220000267028809, 0.7940000295639038, 0.8100000023841858, 0.7799999713897705, 0.7900000214576721, 0.8040000200271606, 0.7940000295639038, 0.7839999794960022, 0.8059999942779541, 0.7900000214576721, 0.777999997138977, 0.7860000133514404, 0.8159999847412109, 0.7860000133514404, 0.8040000200271606, 0.7979999780654907, 0.800000011920929, 0.8240000009536743, 0.8159999847412109, 0.8180000185966492, 0.8140000104904175, 0.8059999942779541, 0.8320000171661377, 0.8100000023841858, 0.8140000104904175, 0.8259999752044678, 0.8080000281333923, 0.8299999833106995, 0.8180000185966492, 0.8059999942779541, 0.7979999780654907, 0.8240000009536743, 0.8320000171661377, 0.8339999914169312, 0.8220000267028809, 0.8360000252723694, 0.8379999995231628, 0.8080000281333923, 0.8320000171661377, 0.8159999847412109, 0.8240000009536743, 0.8379999995231628, 0.8180000185966492, 0.8299999833106995, 0.8299999833106995, 0.828000009059906, 0.8240000009536743, 0.8199999928474426, 0.8199999928474426, 0.7979999780654907, 0.828000009059906, 0.8379999995231628, 0.8360000252723694, 0.8140000104904175, 0.8320000171661377, 0.8059999942779541, 0.8080000281333923, 0.8259999752044678, 0.8420000076293945, 0.8199999928474426, 0.8220000267028809, 0.8240000009536743, 0.8240000009536743, 0.8019999861717224], 'loss': [1.8893291278415256, 1.465603602303399, 1.2979246069879242, 1.1920770012826631, 1.1014531078723946, 1.0308200224096125, 0.9787354098907625, 0.933630161497328, 0.889353079164871, 0.8471148797430174, 0.8175109827687042, 0.791230086235085, 0.7667883597768919, 0.7463722959335404, 0.7178164472483626, 0.7005225736348316, 0.6811132779651218, 0.6698342356778154, 0.6491924250005472, 0.6410721799050919, 0.6225565884281891, 0.6120894264187475, 0.6020075191343673, 0.5964956836604108, 0.5835421212995895, 0.5722423272518197, 0.5674036327179032, 0.5548866737153795, 0.5487186456063781, 0.5407190454174774, 0.5401193802139976, 0.525611650144211, 0.5207989165879259, 0.5166007054357817, 0.5096315290759308, 0.5019062078601182, 0.505205545639751, 0.5012273462709754, 0.4935957898925049, 0.4846825159438933, 0.4835018837668679, 0.47290576804767953, 0.47810570582958184, 0.46942651621259823, 0.4699706796973643, 0.46251201474546183, 0.46019378973016833, 0.45464565799212214, 0.45633051452251394, 0.45160508844105884, 0.44904861029711635, 0.44618147963706895, 0.45578382960714475, 0.43832237498447146, 0.44011284439491505, 0.43602678780603893, 0.43625009710138496, 0.44385261378143775, 0.43358782152214437, 0.4264834646961906, 0.4265753095583482, 0.427624375865917, 0.42849425485639864, 0.4179595991361021, 0.42545537613136597, 0.4148029332642603, 0.4143769716879334, 0.4152877942721049, 0.4184141833228294, 0.41071828890328455, 0.41064733675754433, 0.40566991126416907, 0.41059375276228394, 0.4030893168280823, 0.4060436219374339, 0.40762742714207584, 0.4086984271304776, 0.40494026005870165, 0.4043857715659671, 0.40480650611598085, 0.3995893765988976, 0.3999621619576156, 0.4001650230499229, 0.39320606971750355, 0.3988754557455429, 0.400459776045096, 0.39287696249557263, 0.39995530239981836, 0.39997608344001, 0.3938037465895065, 0.3898138949943311, 0.4005277628489215, 0.39668349435594347, 0.39186254729887454, 0.3863496349074624, 0.3899480219152239, 0.38506689947783346, 0.38856473872155856, 0.38992407726759865, 0.3929362525915859], 'accuracy': [0.3000404, 0.45979798, 0.53026265, 0.5728485, 0.60743433, 0.63460606, 0.65416163, 0.67076766, 0.68917173, 0.7007677, 0.71444446, 0.7220202, 0.73149496, 0.73915154, 0.7483838, 0.75385857, 0.76058584, 0.7670505, 0.77456564, 0.7745252, 0.7822222, 0.78345454, 0.78911114, 0.79070705, 0.7948081, 0.8004242, 0.80149496, 0.80539393, 0.8083838, 0.8104848, 0.81173736, 0.8163232, 0.8150303, 0.81991917, 0.8198384, 0.8247475, 0.8216364, 0.8221616, 0.82622224, 0.82836366, 0.8310505, 0.83341414, 0.83155555, 0.834101, 0.8357172, 0.8390303, 0.8380404, 0.84137374, 0.84020203, 0.8393939, 0.8418788, 0.8419596, 0.84024245, 0.84628284, 0.8440808, 0.84658587, 0.84719193, 0.8430303, 0.84840405, 0.8489495, 0.8499596, 0.84979796, 0.84816164, 0.8531515, 0.8501818, 0.8538384, 0.8540202, 0.85357577, 0.85375756, 0.8555353, 0.8567071, 0.85676765, 0.8531111, 0.85753536, 0.8566263, 0.85678786, 0.8573535, 0.85818183, 0.8576364, 0.8559192, 0.8578788, 0.85981816, 0.8590707, 0.8627273, 0.8591717, 0.85846466, 0.86256564, 0.8591717, 0.8594747, 0.86163634, 0.8632525, 0.85911113, 0.8611717, 0.86169696, 0.86450505, 0.86311114, 0.8657778, 0.8632121, 0.8618182, 0.8621212]}\n",
            "range(1, 101)\n"
          ],
          "name": "stdout"
        },
        {
          "output_type": "execute_result",
          "data": {
            "text/plain": [
              "<Figure size 432x288 with 0 Axes>"
            ]
          },
          "metadata": {
            "tags": []
          },
          "execution_count": 39
        },
        {
          "output_type": "display_data",
          "data": {
            "image/png": "[encoded data removed]",
            "text/plain": [
              "<Figure size 432x288 with 1 Axes>"
            ]
          },
          "metadata": {
            "tags": [],
            "needs_background": "light"
          }
        },
        {
          "output_type": "display_data",
          "data": {
            "image/png": "[encoded data removed]",
            "text/plain": [
              "<Figure size 432x288 with 1 Axes>"
            ]
          },
          "metadata": {
            "tags": [],
            "needs_background": "light"
          }
        },
        {
          "output_type": "display_data",
          "data": {
            "text/plain": [
              "<Figure size 432x288 with 0 Axes>"
            ]
          },
          "metadata": {
            "tags": []
          }
        }
      ]
    },
    {
      "cell_type": "markdown",
      "metadata": {
        "id": "SX8DShxyhRXP",
        "colab_type": "text"
      },
      "source": [
        "## sin gpu"
      ]
    },
    {
      "cell_type": "code",
      "metadata": {
        "id": "SNDJzNcdmihP",
        "colab_type": "code",
        "outputId": "b7c79a43-1be0-46ff-8da6-47017343c001",
        "colab": {
          "base_uri": "https://localhost:8080/",
          "height": 425
        }
      },
      "source": [
        "model.compile(loss='categorical_crossentropy',metrics=['accuracy'], optimizer='adadelta')        #no solo capas sino que se optimiza, neuronas conectadas, listas\n",
        "model.fit(x_train, y_train, batch_size=100, epochs=10, validation_split=0.1, verbose=1)# aquí el entrenamiento del modelo bachsize se entrena de a 100 hasta como con todas# epochs es cantidad de rep que usa el modelo, validacion 10%, verbose muestra avance \n",
        "score = model.evaluate(x_test, y_test, verbose=1)# evaluo modelo con conjunto test final\n",
        "print('Test accuracy: ', score[1])\n",
        "\n",
        "tiempo_final = time()\n",
        "tiempo_ejecucion = tiempo_final - tiempo_inicial\n",
        "print('El tiempo de ejecucion fue: ', tiempo_ejecucion)\n"
      ],
      "execution_count": 0,
      "outputs": [
        {
          "output_type": "stream",
          "text": [
            "Train on 54000 samples, validate on 6000 samples\n",
            "Epoch 1/10\n",
            "54000/54000 [==============================] - 85s 2ms/step - loss: 0.4868 - accuracy: 0.9250 - val_loss: 0.0801 - val_accuracy: 0.9792\n",
            "Epoch 2/10\n",
            "54000/54000 [==============================] - 84s 2ms/step - loss: 0.0583 - accuracy: 0.9828 - val_loss: 0.0676 - val_accuracy: 0.9845\n",
            "Epoch 3/10\n",
            "54000/54000 [==============================] - 85s 2ms/step - loss: 0.0322 - accuracy: 0.9905 - val_loss: 0.0495 - val_accuracy: 0.9890\n",
            "Epoch 4/10\n",
            "54000/54000 [==============================] - 84s 2ms/step - loss: 0.0179 - accuracy: 0.9942 - val_loss: 0.0575 - val_accuracy: 0.9887\n",
            "Epoch 5/10\n",
            "54000/54000 [==============================] - 84s 2ms/step - loss: 0.0109 - accuracy: 0.9966 - val_loss: 0.0651 - val_accuracy: 0.9878\n",
            "Epoch 6/10\n",
            "54000/54000 [==============================] - 84s 2ms/step - loss: 0.0070 - accuracy: 0.9979 - val_loss: 0.0678 - val_accuracy: 0.9888\n",
            "Epoch 7/10\n",
            "54000/54000 [==============================] - 85s 2ms/step - loss: 0.0035 - accuracy: 0.9988 - val_loss: 0.0721 - val_accuracy: 0.9888\n",
            "Epoch 8/10\n",
            "54000/54000 [==============================] - 85s 2ms/step - loss: 0.0025 - accuracy: 0.9992 - val_loss: 0.0812 - val_accuracy: 0.9873\n",
            "Epoch 9/10\n",
            "54000/54000 [==============================] - 84s 2ms/step - loss: 0.0020 - accuracy: 0.9994 - val_loss: 0.0752 - val_accuracy: 0.9898\n",
            "Epoch 10/10\n",
            "54000/54000 [==============================] - 85s 2ms/step - loss: 0.0011 - accuracy: 0.9997 - val_loss: 0.0853 - val_accuracy: 0.9890\n",
            "10000/10000 [==============================] - 5s 501us/step\n",
            "Test accuracy:  0.988099992275238\n",
            "El tiempo de ejecucion fue:  890.4097440242767\n"
          ],
          "name": "stdout"
        }
      ]
    },
    {
      "cell_type": "markdown",
      "metadata": {
        "id": "RVxfLx0A0j6L",
        "colab_type": "text"
      },
      "source": [
        "## Ahora con imagenes de otro repositorio #un cambio"
      ]
    },
    {
      "cell_type": "code",
      "metadata": {
        "id": "rquOWB8Q0pKL",
        "colab_type": "code",
        "outputId": "069a3a6f-24ae-443a-b7c6-baf137f32369",
        "colab": {
          "resources": {
            "http://localhost:8080/nbextensions/google.colab/files.js": {
              "data": "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",
              "ok": true,
              "headers": [
                [
                  "content-type",
                  "application/javascript"
                ]
              ],
              "status": 200,
              "status_text": ""
            }
          },
          "base_uri": "https://localhost:8080/",
          "height": 74
        }
      },
      "source": [
        "from PIL import Image #libreria base de datos de imagenes\n",
        "from PIL import ImageFile\n",
        "\n",
        "ImageFile.LOAD_TRUNCATED_IMAGES = True\n",
        "from google.colab import files #para que permita importar archivos\n",
        "\n",
        "uploaded = files.upload()"
      ],
      "execution_count": 0,
      "outputs": [
        {
          "output_type": "display_data",
          "data": {
            "text/html": [
              "\n",
              "     <input type=\"file\" id=\"files-c9973d16-a682-4d43-be3b-aec5011d2a1c\" name=\"files[]\" multiple disabled />\n",
              "     <output id=\"result-c9973d16-a682-4d43-be3b-aec5011d2a1c\">\n",
              "      Upload widget is only available when the cell has been executed in the\n",
              "      current browser session. Please rerun this cell to enable.\n",
              "      </output>\n",
              "      <script src=\"/nbextensions/google.colab/files.js\"></script> "
            ],
            "text/plain": [
              "<IPython.core.display.HTML object>"
            ]
          },
          "metadata": {
            "tags": []
          }
        },
        {
          "output_type": "stream",
          "text": [
            "Saving 8.jpg to 8.jpg\n"
          ],
          "name": "stdout"
        }
      ]
    },
    {
      "cell_type": "code",
      "metadata": {
        "id": "mLHPPsx11zi1",
        "colab_type": "code",
        "outputId": "efd5f202-4454-4094-bf31-8f580158576c",
        "colab": {
          "base_uri": "https://localhost:8080/",
          "height": 34
        }
      },
      "source": [
        "import numpy as np\n",
        "img = Image.open('8.jpg')#cargo imagen a travez del lib pil\n",
        "new_img = img.resize((28,28))\n",
        "new_img = new_img.convert('L')#??\n",
        "new = np.array(new_img)\n",
        "print(np.shape(new))"
      ],
      "execution_count": 0,
      "outputs": [
        {
          "output_type": "stream",
          "text": [
            "(28, 28)\n"
          ],
          "name": "stdout"
        }
      ]
    },
    {
      "cell_type": "code",
      "metadata": {
        "id": "V1jABnSj3ff0",
        "colab_type": "code",
        "outputId": "29900dc2-ffd5-4943-9191-75465cc8e6dc",
        "colab": {
          "base_uri": "https://localhost:8080/",
          "height": 34
        }
      },
      "source": [
        "img = new.reshape(1, 28, 28, 1)#(numero de muestras,tamaño, de imagen, canales tiene la imagen RGB grey 4 canales png)\n",
        "img = img.astype('float32')#para que?\n",
        "img = img/255.0 #normalizar?\n",
        "result = model.predict_classes(img)\n",
        "result[0]"
      ],
      "execution_count": 0,
      "outputs": [
        {
          "output_type": "execute_result",
          "data": {
            "text/plain": [
              "9"
            ]
          },
          "metadata": {
            "tags": []
          },
          "execution_count": 34
        }
      ]
    },
    {
      "cell_type": "code",
      "metadata": {
        "id": "1SE5fKJ_pZtT",
        "colab_type": "code",
        "colab": {}
      },
      "source": [
        "from google.colab import drive\n",
        "drive.mount('/content/drive')"
      ],
      "execution_count": 0,
      "outputs": []
    }
  ]
}