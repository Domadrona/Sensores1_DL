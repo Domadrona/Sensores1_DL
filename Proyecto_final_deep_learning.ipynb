{
  "nbformat": 4,
  "nbformat_minor": 0,
  "metadata": {
    "colab": {
      "name": "Proyecto final deep learning",
      "provenance": [],
      "collapsed_sections": [
        "0Xk1xIsrzoWF",
        "ux7lyJF4sQfO",
        "SX8DShxyhRXP"
      ],
      "authorship_tag": "ABX9TyPVzElAqVxgUE6/wR4rIigS",
      "include_colab_link": true
    },
    "kernelspec": {
      "name": "python3",
      "display_name": "Python 3"
    },
    "accelerator": "GPU"
  },
  "cells": [
    {
      "cell_type": "markdown",
      "metadata": {
        "id": "view-in-github",
        "colab_type": "text"
      },
      "source": [
        "<a href=\"https://colab.research.google.com/github/Domadrona/Sensores1_DL/blob/master/Proyecto_final_deep_learning.ipynb\" target=\"_parent\"><img src=\"https://colab.research.google.com/assets/colab-badge.svg\" alt=\"Open In Colab\"/></a>"
      ]
    },
    {
      "cell_type": "markdown",
      "metadata": {
        "id": "Na1wUzFjqsUv",
        "colab_type": "text"
      },
      "source": [
        "# Inicio de prueba\n"
      ]
    },
    {
      "cell_type": "code",
      "metadata": {
        "id": "5E1SZfJppPVN",
        "colab_type": "code",
        "outputId": "4edf45c8-a40f-47f1-9d1d-6c391658bcdb",
        "colab": {
          "base_uri": "https://localhost:8080/",
          "height": 285
        }
      },
      "source": [
        "from keras.datasets import cifar10\n",
        "import matplotlib.pyplot as plt\n",
        "(x_train,y_train), (x_test, y_test) = cifar10.load_data()\n",
        "plt.subplot(221)\n",
        "plt.imshow(x_train[10], cmap=plt.get_cmap('gray'))#por que no lo muestra en escala de grices??\n",
        "plt.subplot(222)\n",
        "plt.imshow(x_train[17], cmap=plt.get_cmap('gray'))\n",
        "plt.subplot(223)\n",
        "plt.imshow(x_train[23], cmap=plt.get_cmap('gray'))\n",
        "plt.subplot(224)\n",
        "plt.imshow(x_train[37], cmap=plt.get_cmap('gray'))\n",
        "plt.show()"
      ],
      "execution_count": 2,
      "outputs": [
        {
          "output_type": "stream",
          "text": [
            "Using TensorFlow backend.\n"
          ],
          "name": "stderr"
        },
        {
          "output_type": "display_data",
          "data": {
            "image/png": "[encoded data removed]",
            "text/plain": [
              "<Figure size 432x288 with 4 Axes>"
            ]
          },
          "metadata": {
            "tags": [],
            "needs_background": "light"
          }
        }
      ]
    },
    {
      "cell_type": "code",
      "metadata": {
        "id": "ydxMYFQ7ZedO",
        "colab_type": "code",
        "colab": {}
      },
      "source": [
        "from time import time\n",
        "from numpy.random import seed\n",
        "seed(1)\n",
        "from keras.datasets import cifar10\n",
        "from keras.models import Sequential\n",
        "from keras.layers import Dense, Activation, Dropout\n",
        "from keras.layers import Convolution2D, MaxPooling2D\n",
        "from keras.layers import Flatten\n",
        "from keras.utils import np_utils\n",
        "tiempo_inicial = time()\n",
        "(x_train,y_train), (x_test, y_test) = cifar10.load_data()"
      ],
      "execution_count": 0,
      "outputs": []
    },
    {
      "cell_type": "code",
      "metadata": {
        "id": "R7PvmHDNbIsP",
        "colab_type": "code",
        "outputId": "6ab9611b-132f-450b-9fee-ceed7f5ea3ef",
        "colab": {
          "base_uri": "https://localhost:8080/",
          "height": 85
        }
      },
      "source": [
        "print(x_train.shape)#tengo 50000 imagenes de 32X32X3\n",
        "print(x_test.shape)\n",
        "print(y_train.shape)\n",
        "print(y_test.shape)"
      ],
      "execution_count": 4,
      "outputs": [
        {
          "output_type": "stream",
          "text": [
            "(50000, 32, 32, 3)\n",
            "(10000, 32, 32, 3)\n",
            "(50000, 1)\n",
            "(10000, 1)\n"
          ],
          "name": "stdout"
        }
      ]
    },
    {
      "cell_type": "code",
      "metadata": {
        "id": "VNc2QNnrbdsG",
        "colab_type": "code",
        "outputId": "e07715ca-c027-40ed-c923-7aba8f7c8ae8",
        "colab": {
          "base_uri": "https://localhost:8080/",
          "height": 901
        }
      },
      "source": [
        "print('el valor dentro de la primera posicion de Y es ()', format(y_train[0,]))\n",
        "print()\n",
        "print()\n",
        "print(x_train[0,:,:])"
      ],
      "execution_count": 5,
      "outputs": [
        {
          "output_type": "stream",
          "text": [
            "el valor dentro de la primera posicion de Y es () [6]\n",
            "\n",
            "\n",
            "[[[ 59  62  63]\n",
            "  [ 43  46  45]\n",
            "  [ 50  48  43]\n",
            "  ...\n",
            "  [158 132 108]\n",
            "  [152 125 102]\n",
            "  [148 124 103]]\n",
            "\n",
            " [[ 16  20  20]\n",
            "  [  0   0   0]\n",
            "  [ 18   8   0]\n",
            "  ...\n",
            "  [123  88  55]\n",
            "  [119  83  50]\n",
            "  [122  87  57]]\n",
            "\n",
            " [[ 25  24  21]\n",
            "  [ 16   7   0]\n",
            "  [ 49  27   8]\n",
            "  ...\n",
            "  [118  84  50]\n",
            "  [120  84  50]\n",
            "  [109  73  42]]\n",
            "\n",
            " ...\n",
            "\n",
            " [[208 170  96]\n",
            "  [201 153  34]\n",
            "  [198 161  26]\n",
            "  ...\n",
            "  [160 133  70]\n",
            "  [ 56  31   7]\n",
            "  [ 53  34  20]]\n",
            "\n",
            " [[180 139  96]\n",
            "  [173 123  42]\n",
            "  [186 144  30]\n",
            "  ...\n",
            "  [184 148  94]\n",
            "  [ 97  62  34]\n",
            "  [ 83  53  34]]\n",
            "\n",
            " [[177 144 116]\n",
            "  [168 129  94]\n",
            "  [179 142  87]\n",
            "  ...\n",
            "  [216 184 140]\n",
            "  [151 118  84]\n",
            "  [123  92  72]]]\n"
          ],
          "name": "stdout"
        }
      ]
    },
    {
      "cell_type": "code",
      "metadata": {
        "id": "QpCfpatFc6fl",
        "colab_type": "code",
        "outputId": "feecb95c-5102-40c8-cfca-6e3e6b1127e7",
        "colab": {
          "base_uri": "https://localhost:8080/",
          "height": 51
        }
      },
      "source": [
        "x_train = x_train.reshape(50000, 32, 32, 3)/255#no entiendo, cambia la forma, como y para que? #intento normalizando/255\n",
        "x_test = x_test.reshape(10000, 32, 32, 3)/255##cuanto pongo? rgb=3\n",
        "y_train = np_utils.to_categorical(y_train, 10)#cambia a categoricas la y 2= 00100\n",
        "y_test = np_utils.to_categorical(y_test, 10)\n",
        "print(x_train.shape)\n",
        "print(y_train.shape)"
      ],
      "execution_count": 6,
      "outputs": [
        {
          "output_type": "stream",
          "text": [
            "(50000, 32, 32, 3)\n",
            "(50000, 10)\n"
          ],
          "name": "stdout"
        }
      ]
    },
    {
      "cell_type": "code",
      "metadata": {
        "id": "YJOKFnUB9BMM",
        "colab_type": "code",
        "outputId": "bfb61729-bcc3-495f-b152-6921a23b3de6",
        "colab": {
          "base_uri": "https://localhost:8080/",
          "height": 204
        }
      },
      "source": [
        "print('El valor del modelo dentro de x: ')\n",
        "print(x_train[0,:,:,0])\n",
        "print()\n",
        "print('valores dentro de y')\n",
        "print(y_train[0,:])"
      ],
      "execution_count": 7,
      "outputs": [
        {
          "output_type": "stream",
          "text": [
            "El valor del modelo dentro de x: \n",
            "[[0.23137255 0.16862745 0.19607843 ... 0.61960784 0.59607843 0.58039216]\n",
            " [0.0627451  0.         0.07058824 ... 0.48235294 0.46666667 0.47843137]\n",
            " [0.09803922 0.0627451  0.19215686 ... 0.4627451  0.47058824 0.42745098]\n",
            " ...\n",
            " [0.81568627 0.78823529 0.77647059 ... 0.62745098 0.21960784 0.20784314]\n",
            " [0.70588235 0.67843137 0.72941176 ... 0.72156863 0.38039216 0.3254902 ]\n",
            " [0.69411765 0.65882353 0.70196078 ... 0.84705882 0.59215686 0.48235294]]\n",
            "\n",
            "valores dentro de y\n",
            "[0. 0. 0. 0. 0. 0. 1. 0. 0. 0.]\n"
          ],
          "name": "stdout"
        }
      ]
    },
    {
      "cell_type": "markdown",
      "metadata": {
        "id": "K1z5JeVheSAM",
        "colab_type": "text"
      },
      "source": [
        "Hago modelo normalito"
      ]
    },
    {
      "cell_type": "code",
      "metadata": {
        "id": "yV_RwPKWeUdu",
        "colab_type": "code",
        "outputId": "ca248ec1-eacf-440d-d33e-35b0a8ac4246",
        "colab": {
          "base_uri": "https://localhost:8080/",
          "height": 532
        }
      },
      "source": [
        "model = Sequential([Convolution2D(filters=32,#32 filtros\n",
        "                                  kernel_size = (3, 3), #tamaño filtro\n",
        "                                  input_shape = (32, 32, 3)),#first conv layer#se debe saber el tamaño de imagen\n",
        "                                  Activation('relu'),#fn de activacion\n",
        "                    Convolution2D(filters=32,#la salida anterior entra a otra convolucion\n",
        "                                  kernel_size = (3, 3)), #tamaño filtro\n",
        "                                  Activation('relu'),\n",
        "                    MaxPooling2D(pool_size=(2,2)),#reduzco con maxpooling a 2,2\n",
        "                    Flatten(),#flatten the output tensor\n",
        "                    Dense(512),#fully conected hidden layer capa densa de 64 neuronas\n",
        "                    Activation('relu'),\n",
        "                    Dense(10),# densa de 10 porque tiene 10 posibles valores a clasificar\n",
        "                    Activation('softmax')])#clasificacion de softmax, entrega prob de pertener a cada modelo\n",
        "print(model.summary()) # mustra como se construye el modelo"
      ],
      "execution_count": 0,
      "outputs": [
        {
          "output_type": "stream",
          "text": [
            "Model: \"sequential_3\"\n",
            "_________________________________________________________________\n",
            "Layer (type)                 Output Shape              Param #   \n",
            "=================================================================\n",
            "conv2d_5 (Conv2D)            (None, 30, 30, 32)        896       \n",
            "_________________________________________________________________\n",
            "activation_9 (Activation)    (None, 30, 30, 32)        0         \n",
            "_________________________________________________________________\n",
            "conv2d_6 (Conv2D)            (None, 28, 28, 32)        9248      \n",
            "_________________________________________________________________\n",
            "activation_10 (Activation)   (None, 28, 28, 32)        0         \n",
            "_________________________________________________________________\n",
            "max_pooling2d_3 (MaxPooling2 (None, 14, 14, 32)        0         \n",
            "_________________________________________________________________\n",
            "flatten_3 (Flatten)          (None, 6272)              0         \n",
            "_________________________________________________________________\n",
            "dense_5 (Dense)              (None, 512)               3211776   \n",
            "_________________________________________________________________\n",
            "activation_11 (Activation)   (None, 512)               0         \n",
            "_________________________________________________________________\n",
            "dense_6 (Dense)              (None, 10)                5130      \n",
            "_________________________________________________________________\n",
            "activation_12 (Activation)   (None, 10)                0         \n",
            "=================================================================\n",
            "Total params: 3,227,050\n",
            "Trainable params: 3,227,050\n",
            "Non-trainable params: 0\n",
            "_________________________________________________________________\n",
            "None\n"
          ],
          "name": "stdout"
        }
      ]
    },
    {
      "cell_type": "markdown",
      "metadata": {
        "id": "0Xk1xIsrzoWF",
        "colab_type": "text"
      },
      "source": [
        "### Prueba 1 con GPU "
      ]
    },
    {
      "cell_type": "code",
      "metadata": {
        "id": "GIKoIR2VwwVV",
        "colab_type": "code",
        "outputId": "c4b6e4a3-fac9-420c-da21-e1f80ec6d8ac",
        "colab": {
          "base_uri": "https://localhost:8080/"
        }
      },
      "source": [
        "model.compile(loss='categorical_crossentropy',metrics=['accuracy'], optimizer='adadelta')        #no solo capas sino que se optimiza, neuronas conectadas, listas\n",
        "model.fit(x_train, y_train, batch_size=32, epochs=50, validation_split=0.3, verbose=1)# aquí el entrenamiento del modelo bachsize se entrena de a 100 hasta como con todas# epochs es cantidad de rep que usa el modelo, validacion 10%, verbose muestra avance \n",
        "score = model.evaluate(x_test, y_test, verbose=1)# evaluo modelo con conjunto test final\n",
        "print('Test accuracy: ', score[1])\n",
        "#COMO PLOTEO EL VAL_ACCURACY por cada epoch??? \n",
        "tiempo_final = time()\n",
        "tiempo_ejecucion = tiempo_final - tiempo_inicial\n",
        "print('El tiempo de ejecucion fue: ', tiempo_ejecucion)"
      ],
      "execution_count": 0,
      "outputs": [
        {
          "output_type": "stream",
          "text": [
            "Train on 35000 samples, validate on 15000 samples\n",
            "Epoch 1/50\n",
            "35000/35000 [==============================] - 7s 197us/step - loss: 3.1281 - accuracy: 0.2417 - val_loss: 1.8412 - val_accuracy: 0.3503\n",
            "Epoch 2/50\n",
            "35000/35000 [==============================] - 7s 192us/step - loss: 1.6426 - accuracy: 0.4209 - val_loss: 1.5658 - val_accuracy: 0.4497\n",
            "Epoch 3/50\n",
            "35000/35000 [==============================] - 7s 194us/step - loss: 1.2875 - accuracy: 0.5576 - val_loss: 1.4223 - val_accuracy: 0.5102\n",
            "Epoch 4/50\n",
            "35000/35000 [==============================] - 7s 193us/step - loss: 0.9402 - accuracy: 0.6837 - val_loss: 1.5543 - val_accuracy: 0.5466\n",
            "Epoch 5/50\n",
            "35000/35000 [==============================] - 7s 191us/step - loss: 0.6011 - accuracy: 0.7993 - val_loss: 1.8293 - val_accuracy: 0.5420\n",
            "Epoch 6/50\n",
            "35000/35000 [==============================] - 7s 189us/step - loss: 0.3195 - accuracy: 0.8966 - val_loss: 2.2486 - val_accuracy: 0.5339\n",
            "Epoch 7/50\n",
            "35000/35000 [==============================] - 7s 191us/step - loss: 0.1656 - accuracy: 0.9480 - val_loss: 3.2324 - val_accuracy: 0.5582\n",
            "Epoch 8/50\n",
            "35000/35000 [==============================] - 7s 192us/step - loss: 0.0986 - accuracy: 0.9708 - val_loss: 3.3340 - val_accuracy: 0.5189\n",
            "Epoch 9/50\n",
            "35000/35000 [==============================] - 7s 192us/step - loss: 0.0680 - accuracy: 0.9825 - val_loss: 4.1655 - val_accuracy: 0.5622\n",
            "Epoch 10/50\n",
            "35000/35000 [==============================] - 7s 193us/step - loss: 0.0512 - accuracy: 0.9854 - val_loss: 4.6361 - val_accuracy: 0.5585\n",
            "Epoch 11/50\n",
            "35000/35000 [==============================] - 7s 192us/step - loss: 0.0506 - accuracy: 0.9867 - val_loss: 4.4083 - val_accuracy: 0.5465\n",
            "Epoch 12/50\n",
            "35000/35000 [==============================] - 7s 193us/step - loss: 0.0372 - accuracy: 0.9901 - val_loss: 5.0613 - val_accuracy: 0.5480\n",
            "Epoch 13/50\n",
            "35000/35000 [==============================] - 7s 192us/step - loss: 0.0333 - accuracy: 0.9914 - val_loss: 5.5484 - val_accuracy: 0.5637\n",
            "Epoch 14/50\n",
            "35000/35000 [==============================] - 7s 192us/step - loss: 0.0322 - accuracy: 0.9918 - val_loss: 6.3353 - val_accuracy: 0.5673\n",
            "Epoch 15/50\n",
            "35000/35000 [==============================] - 7s 195us/step - loss: 0.0247 - accuracy: 0.9932 - val_loss: 6.3501 - val_accuracy: 0.5356\n",
            "Epoch 16/50\n",
            "35000/35000 [==============================] - 7s 194us/step - loss: 0.0302 - accuracy: 0.9923 - val_loss: 6.1341 - val_accuracy: 0.5521\n",
            "Epoch 17/50\n",
            "35000/35000 [==============================] - 7s 193us/step - loss: 0.0310 - accuracy: 0.9929 - val_loss: 6.9073 - val_accuracy: 0.5585\n",
            "Epoch 18/50\n",
            "35000/35000 [==============================] - 7s 193us/step - loss: 0.0293 - accuracy: 0.9938 - val_loss: 7.2019 - val_accuracy: 0.5637\n",
            "Epoch 19/50\n",
            "35000/35000 [==============================] - 7s 194us/step - loss: 0.0277 - accuracy: 0.9953 - val_loss: 6.9540 - val_accuracy: 0.5551\n",
            "Epoch 20/50\n",
            "35000/35000 [==============================] - 7s 192us/step - loss: 0.0249 - accuracy: 0.9943 - val_loss: 7.3388 - val_accuracy: 0.5546\n",
            "Epoch 21/50\n",
            "35000/35000 [==============================] - 7s 192us/step - loss: 0.0202 - accuracy: 0.9957 - val_loss: 8.7554 - val_accuracy: 0.5539\n",
            "Epoch 22/50\n",
            "35000/35000 [==============================] - 7s 193us/step - loss: 0.0210 - accuracy: 0.9955 - val_loss: 7.5359 - val_accuracy: 0.5579\n",
            "Epoch 23/50\n",
            "35000/35000 [==============================] - 7s 193us/step - loss: 0.0161 - accuracy: 0.9958 - val_loss: 9.4321 - val_accuracy: 0.5488\n",
            "Epoch 24/50\n",
            "35000/35000 [==============================] - 7s 192us/step - loss: 0.0168 - accuracy: 0.9961 - val_loss: 9.5738 - val_accuracy: 0.5647\n",
            "Epoch 25/50\n",
            "35000/35000 [==============================] - 7s 192us/step - loss: 0.0200 - accuracy: 0.9952 - val_loss: 8.8385 - val_accuracy: 0.5521\n",
            "Epoch 26/50\n",
            "35000/35000 [==============================] - 7s 192us/step - loss: 0.0207 - accuracy: 0.9964 - val_loss: 8.7369 - val_accuracy: 0.5450\n",
            "Epoch 27/50\n",
            "35000/35000 [==============================] - 7s 195us/step - loss: 0.0223 - accuracy: 0.9955 - val_loss: 9.8917 - val_accuracy: 0.5415\n",
            "Epoch 28/50\n",
            "35000/35000 [==============================] - 7s 194us/step - loss: 0.0209 - accuracy: 0.9962 - val_loss: 9.4870 - val_accuracy: 0.5565\n",
            "Epoch 29/50\n",
            "35000/35000 [==============================] - 7s 193us/step - loss: 0.0225 - accuracy: 0.9957 - val_loss: 9.9915 - val_accuracy: 0.5523\n",
            "Epoch 30/50\n",
            "35000/35000 [==============================] - 7s 193us/step - loss: 0.0293 - accuracy: 0.9943 - val_loss: 8.3170 - val_accuracy: 0.5471\n",
            "Epoch 31/50\n",
            "35000/35000 [==============================] - 7s 192us/step - loss: 0.0211 - accuracy: 0.9959 - val_loss: 10.1181 - val_accuracy: 0.5556\n",
            "Epoch 32/50\n",
            "35000/35000 [==============================] - 7s 197us/step - loss: 0.0250 - accuracy: 0.9953 - val_loss: 11.0641 - val_accuracy: 0.5537\n",
            "Epoch 33/50\n",
            "35000/35000 [==============================] - 7s 195us/step - loss: 0.0244 - accuracy: 0.9957 - val_loss: 10.6094 - val_accuracy: 0.5619\n",
            "Epoch 34/50\n",
            "35000/35000 [==============================] - 7s 199us/step - loss: 0.0226 - accuracy: 0.9960 - val_loss: 10.7355 - val_accuracy: 0.5542\n",
            "Epoch 35/50\n",
            "35000/35000 [==============================] - 7s 202us/step - loss: 0.0247 - accuracy: 0.9959 - val_loss: 10.6792 - val_accuracy: 0.5623\n",
            "Epoch 36/50\n",
            "35000/35000 [==============================] - 7s 192us/step - loss: 0.0157 - accuracy: 0.9974 - val_loss: 11.0254 - val_accuracy: 0.5585\n",
            "Epoch 37/50\n",
            "35000/35000 [==============================] - 7s 192us/step - loss: 0.0150 - accuracy: 0.9971 - val_loss: 12.4209 - val_accuracy: 0.5611\n",
            "Epoch 38/50\n",
            "35000/35000 [==============================] - 7s 192us/step - loss: 0.0205 - accuracy: 0.9964 - val_loss: 11.1377 - val_accuracy: 0.5501\n",
            "Epoch 39/50\n",
            "35000/35000 [==============================] - 7s 196us/step - loss: 0.0214 - accuracy: 0.9962 - val_loss: 11.3351 - val_accuracy: 0.5591\n",
            "Epoch 40/50\n",
            "35000/35000 [==============================] - 7s 193us/step - loss: 0.0161 - accuracy: 0.9969 - val_loss: 11.0468 - val_accuracy: 0.5560\n",
            "Epoch 41/50\n",
            "35000/35000 [==============================] - 7s 193us/step - loss: 0.0167 - accuracy: 0.9973 - val_loss: 12.9384 - val_accuracy: 0.5641\n",
            "Epoch 42/50\n",
            "35000/35000 [==============================] - 7s 194us/step - loss: 0.0127 - accuracy: 0.9975 - val_loss: 12.7280 - val_accuracy: 0.5703\n",
            "Epoch 43/50\n",
            "35000/35000 [==============================] - 7s 192us/step - loss: 0.0142 - accuracy: 0.9971 - val_loss: 12.0407 - val_accuracy: 0.5578\n",
            "Epoch 44/50\n",
            "35000/35000 [==============================] - 7s 192us/step - loss: 0.0176 - accuracy: 0.9968 - val_loss: 12.4921 - val_accuracy: 0.5695\n",
            "Epoch 45/50\n",
            "35000/35000 [==============================] - 7s 193us/step - loss: 0.0178 - accuracy: 0.9967 - val_loss: 12.3824 - val_accuracy: 0.5516\n",
            "Epoch 46/50\n",
            "35000/35000 [==============================] - 7s 193us/step - loss: 0.0209 - accuracy: 0.9962 - val_loss: 13.5579 - val_accuracy: 0.5715\n",
            "Epoch 47/50\n",
            "35000/35000 [==============================] - 7s 193us/step - loss: 0.0225 - accuracy: 0.9965 - val_loss: 14.4678 - val_accuracy: 0.5580\n",
            "Epoch 48/50\n",
            "35000/35000 [==============================] - 7s 194us/step - loss: 0.0137 - accuracy: 0.9978 - val_loss: 12.9652 - val_accuracy: 0.5628\n",
            "Epoch 49/50\n",
            "35000/35000 [==============================] - 7s 193us/step - loss: 0.0108 - accuracy: 0.9981 - val_loss: 13.9970 - val_accuracy: 0.5709\n",
            "Epoch 50/50\n",
            "35000/35000 [==============================] - 7s 195us/step - loss: 0.0126 - accuracy: 0.9978 - val_loss: 14.0825 - val_accuracy: 0.5601\n",
            "10000/10000 [==============================] - 1s 74us/step\n",
            "Test accuracy:  0.5640000104904175\n",
            "El tiempo de ejecucion fue:  678.9473586082458\n"
          ],
          "name": "stdout"
        }
      ]
    },
    {
      "cell_type": "markdown",
      "metadata": {
        "id": "ux7lyJF4sQfO",
        "colab_type": "text"
      },
      "source": [
        "### Prueba 2 con GPU "
      ]
    },
    {
      "cell_type": "code",
      "metadata": {
        "id": "9B3OoGBdsO6O",
        "colab_type": "code",
        "outputId": "4b10549d-9f0b-4c80-bd8c-cf3ef18fe633",
        "colab": {
          "base_uri": "https://localhost:8080/"
        }
      },
      "source": [
        "model = Sequential([Convolution2D(filters=32,#32 filtros\n",
        "                                  kernel_size = (3, 3), #tamaño filtro\n",
        "                                  input_shape = (32, 32, 3)),#first conv layer#se debe saber el tamaño de imagen\n",
        "                                  Activation('relu'),#fn de activacion\n",
        "                    Convolution2D(filters=32,#la salida anterior entra a otra convolucion\n",
        "                                  kernel_size = (3, 3)), #tamaño filtro\n",
        "                                  Activation('relu'),\n",
        "                    MaxPooling2D(pool_size=(2,2)),#reduzco con maxpooling a 2,2\n",
        "                    Flatten(),#flatten the output tensor\n",
        "                    Dense(512),#fully conected hidden layer capa densa de 64 neuronas\n",
        "                    Activation('relu'),\n",
        "                    Dropout(0.5),#dropout de 0.25\n",
        "                    Dense(10),# densa de 10 porque tiene 10 posibles valores a clasificar\n",
        "                    Activation('softmax')])#clasificacion de softmax, entrega prob de pertener a cada modelo\n",
        "print(model.summary()) # mustra como se construye el modelo\n",
        "\n",
        "model.compile(loss='categorical_crossentropy',metrics=['accuracy'], optimizer='adadelta')        #no solo capas sino que se optimiza, neuronas conectadas, listas\n",
        "history = model.fit(x_train, y_train, batch_size=64, epochs=10, validation_split=0.1, verbose=1)# aquí el entrenamiento del modelo bachsize se entrena de a 100 hasta como con todas# epochs es cantidad de rep que usa el modelo, validacion 10%, verbose muestra avance \n",
        "\n",
        "score, acc = model.evaluate(x_test, y_test, verbose=1)#score = model.evaluate(x_test, y_test, verbose=1)# evaluo modelo con conjunto test final\n",
        "#print('Test accuracy: ', score[1])\n",
        "print('Test score:', score)\n",
        "print('Test accuracy:', acc)\n",
        "print('score', score)\n",
        "#plt.plot(score)\n",
        "\n",
        "tiempo_final = time()\n",
        "tiempo_ejecucion = tiempo_final - tiempo_inicial\n",
        "print('El tiempo de ejecucion fue: ', tiempo_ejecucion)\n",
        "\n",
        "#PLOTEANDO BBY\n",
        "history_dict = history.history #paso info a dictionary\n",
        "\n",
        "print(history_dict)\n",
        "history_dict.keys()\n",
        "\n",
        "acc      = history.history['accuracy' ]\n",
        "val_acc  = history.history[ 'val_accuracy' ]\n",
        "loss     = history.history[ 'loss' ]\n",
        "val_loss = history.history['val_loss' ]\n",
        "\n",
        "epochs   = range(1,len(acc)+1,1)\n",
        "print(epochs)\n",
        "\n",
        "\n",
        "plt.plot ( epochs,     acc, 'r--', label='Training accuracy'  )\n",
        "plt.plot ( epochs, val_acc,  'b', label='Validation accuracy')\n",
        "plt.title ('Training and validation accuracy')\n",
        "plt.ylabel('acc')\n",
        "plt.xlabel('epochs')\n",
        "\n",
        "plt.legend()\n",
        "plt.figure()\n",
        "\n",
        "plt.plot ( epochs,     loss, 'r--' ,label='Loss'  )\n",
        "plt.plot ( epochs, val_loss ,  'b',label='val_loss'   )\n",
        "plt.title ('Training and validation loss'   )\n",
        "plt.ylabel('loss')\n",
        "plt.xlabel('epochs')\n",
        "\n",
        "plt.legend()\n",
        "plt.figure()"
      ],
      "execution_count": 0,
      "outputs": [
        {
          "output_type": "stream",
          "text": [
            "Model: \"sequential_14\"\n",
            "_________________________________________________________________\n",
            "Layer (type)                 Output Shape              Param #   \n",
            "=================================================================\n",
            "conv2d_29 (Conv2D)           (None, 30, 30, 32)        896       \n",
            "_________________________________________________________________\n",
            "activation_56 (Activation)   (None, 30, 30, 32)        0         \n",
            "_________________________________________________________________\n",
            "conv2d_30 (Conv2D)           (None, 28, 28, 32)        9248      \n",
            "_________________________________________________________________\n",
            "activation_57 (Activation)   (None, 28, 28, 32)        0         \n",
            "_________________________________________________________________\n",
            "max_pooling2d_15 (MaxPooling (None, 14, 14, 32)        0         \n",
            "_________________________________________________________________\n",
            "flatten_15 (Flatten)         (None, 6272)              0         \n",
            "_________________________________________________________________\n",
            "dense_28 (Dense)             (None, 512)               3211776   \n",
            "_________________________________________________________________\n",
            "activation_58 (Activation)   (None, 512)               0         \n",
            "_________________________________________________________________\n",
            "dropout_11 (Dropout)         (None, 512)               0         \n",
            "_________________________________________________________________\n",
            "dense_29 (Dense)             (None, 10)                5130      \n",
            "_________________________________________________________________\n",
            "activation_59 (Activation)   (None, 10)                0         \n",
            "=================================================================\n",
            "Total params: 3,227,050\n",
            "Trainable params: 3,227,050\n",
            "Non-trainable params: 0\n",
            "_________________________________________________________________\n",
            "None\n",
            "Train on 45000 samples, validate on 5000 samples\n",
            "Epoch 1/10\n",
            "45000/45000 [==============================] - 5s 110us/step - loss: 3.6304 - accuracy: 0.2373 - val_loss: 2.7071 - val_accuracy: 0.2790\n",
            "Epoch 2/10\n",
            "45000/45000 [==============================] - 5s 106us/step - loss: 1.7008 - accuracy: 0.3998 - val_loss: 1.6700 - val_accuracy: 0.3952\n",
            "Epoch 3/10\n",
            "45000/45000 [==============================] - 5s 106us/step - loss: 1.4232 - accuracy: 0.5049 - val_loss: 1.4870 - val_accuracy: 0.4678\n",
            "Epoch 4/10\n",
            "45000/45000 [==============================] - 5s 106us/step - loss: 1.2150 - accuracy: 0.5825 - val_loss: 1.5178 - val_accuracy: 0.4832\n",
            "Epoch 5/10\n",
            "45000/45000 [==============================] - 5s 106us/step - loss: 1.0479 - accuracy: 0.6462 - val_loss: 2.0248 - val_accuracy: 0.4860\n",
            "Epoch 6/10\n",
            "45000/45000 [==============================] - 5s 105us/step - loss: 0.8927 - accuracy: 0.6982 - val_loss: 1.3245 - val_accuracy: 0.5826\n",
            "Epoch 7/10\n",
            "45000/45000 [==============================] - 5s 106us/step - loss: 0.7688 - accuracy: 0.7453 - val_loss: 1.4091 - val_accuracy: 0.5660\n",
            "Epoch 8/10\n",
            "45000/45000 [==============================] - 5s 109us/step - loss: 0.6705 - accuracy: 0.7779 - val_loss: 1.4853 - val_accuracy: 0.5872\n",
            "Epoch 9/10\n",
            "45000/45000 [==============================] - 5s 105us/step - loss: 0.5845 - accuracy: 0.8098 - val_loss: 1.5381 - val_accuracy: 0.6126\n",
            "Epoch 10/10\n",
            "45000/45000 [==============================] - 5s 106us/step - loss: 0.5185 - accuracy: 0.8335 - val_loss: 1.5385 - val_accuracy: 0.6068\n",
            "10000/10000 [==============================] - 1s 76us/step\n",
            "Test score: 1.5137268878936767\n",
            "Test accuracy: 0.5949000120162964\n",
            "score 1.5137268878936767\n",
            "El tiempo de ejecucion fue:  2834.2147076129913\n",
            "{'val_loss': [2.7071220848083497, 1.6699552488327027, 1.4870010795593263, 1.5177826461791992, 2.024809810638428, 1.3245052532196044, 1.4091442413330078, 1.4852561485290527, 1.5381487007141112, 1.5384536903381347], 'val_accuracy': [0.27900001406669617, 0.3952000141143799, 0.46779999136924744, 0.4832000136375427, 0.4860000014305115, 0.5825999975204468, 0.5659999847412109, 0.5871999859809875, 0.6126000285148621, 0.6068000197410583], 'loss': [3.6303886388142903, 1.700766482586331, 1.4231586360083686, 1.215021125072903, 1.0479391446643405, 0.8926812617407904, 0.7688220606274075, 0.670525697877672, 0.5845019472241402, 0.5184713496949938], 'accuracy': [0.23728889, 0.39975557, 0.5049111, 0.58246666, 0.64622223, 0.6981556, 0.7453333, 0.7778889, 0.80975556, 0.8334889]}\n",
            "range(1, 11)\n"
          ],
          "name": "stdout"
        },
        {
          "output_type": "execute_result",
          "data": {
            "text/plain": [
              "<Figure size 432x288 with 0 Axes>"
            ]
          },
          "metadata": {
            "tags": []
          },
          "execution_count": 64
        },
        {
          "output_type": "display_data",
          "data": {
            "image/png": "[encoded data removed]",
            "text/plain": [
              "<Figure size 432x288 with 1 Axes>"
            ]
          },
          "metadata": {
            "tags": [],
            "needs_background": "light"
          }
        },
        {
          "output_type": "display_data",
          "data": {
            "image/png": "[encoded data removed]",
            "text/plain": [
              "<Figure size 432x288 with 1 Axes>"
            ]
          },
          "metadata": {
            "tags": [],
            "needs_background": "light"
          }
        },
        {
          "output_type": "display_data",
          "data": {
            "text/plain": [
              "<Figure size 432x288 with 0 Axes>"
            ]
          },
          "metadata": {
            "tags": []
          }
        }
      ]
    },
    {
      "cell_type": "markdown",
      "metadata": {
        "id": "6tliOqrK8LQn",
        "colab_type": "text"
      },
      "source": [
        "### Prueba 3 con gpu graficas y revolcon"
      ]
    },
    {
      "cell_type": "code",
      "metadata": {
        "id": "BnZeVJOQ403v",
        "colab_type": "code",
        "outputId": "53d643d6-a766-45b8-e361-cc2c56a924c2",
        "colab": {
          "base_uri": "https://localhost:8080/",
          "height": 1000
        }
      },
      "source": [
        "model = Sequential([Convolution2D(filters=32,#32 filtros\n",
        "                                  kernel_size = (5, 5), #tamaño filtro\n",
        "                                  padding = 'same',\n",
        "                                  input_shape = (32, 32, 3)),#first conv layer#se debe saber el tamaño de imagen\n",
        "                    Activation('relu'),#fn de activacion\n",
        "                    MaxPooling2D(pool_size=(2,2)),\n",
        "                    Convolution2D(filters=64,#la salida anterior entra a otra convolucion\n",
        "                                  kernel_size = (3, 3), #tamaño filtro\n",
        "                                  padding = 'same'),\n",
        "                    Activation('relu'),\n",
        "                    Dropout(0.35),\n",
        "                    MaxPooling2D(pool_size=(2,2)),\n",
        "                    Convolution2D(filters=96,#la salida anterior entra a otra convolucion\n",
        "                                  kernel_size = (3, 3), #tamaño filtro\n",
        "                                  padding = 'same'),\n",
        "                    Activation('relu'),\n",
        "                    MaxPooling2D(pool_size=(2,2)),#reduzco con maxpooling a 2,2\n",
        "                    Dropout(0.35),\n",
        "                    Convolution2D(filters=96,#la salida anterior entra a otra convolucion\n",
        "                                  kernel_size = (3, 3), #tamaño filtro\n",
        "                                  padding = 'same'),\n",
        "                    Activation('relu'),\n",
        "                    MaxPooling2D(pool_size=(2,2)), \n",
        "                    Flatten(),#flatten the output tensor\n",
        "                    Dense(288),#fully conected hidden layer capa densa de 64 neuronas\n",
        "                    Activation('sigmoid'),\n",
        "                    Dropout(0.5),#dropout de 0.5\n",
        "                    Dense(10),# densa de 10 porque tiene 10 posibles valores a clasificar\n",
        "                    Activation('softmax')])#clasificacion de softmax, entrega prob de pertener a cada modelo\n",
        "print(model.summary()) # mustra como se construye el modelo\n",
        "\n",
        "#from keras.optimizers import Adam\n",
        "#opt = Adam(learning_rate=0.0013)#best=0.001#cuanto es el valor por default?? learning_rate=0.01 bad, 0.003 acc 0.67\n",
        "\n",
        "model.compile(loss='categorical_crossentropy',metrics=['accuracy'], optimizer='adam') #optimizer=opt       #no solo capas sino que se optimiza, neuronas conectadas, listas\n",
        "history = model.fit(x_train, y_train, batch_size=128, epochs=100, validation_split=0.1, verbose=1)#Bactch size al doble64*2 aquí el entrenamiento del modelo bachsize se entrena de a 100 hasta como con todas# epochs es cantidad de rep que usa el modelo, validacion 10%, verbose muestra avance \n",
        "\n",
        "score, acc = model.evaluate(x_test, y_test, verbose=1)#score = model.evaluate(x_test, y_test, verbose=1)# evaluo modelo con conjunto test final\n",
        "#print('Test accuracy: ', score[1])\n",
        "print('Test score:', score)\n",
        "print('Test accuracy:', acc)\n",
        "print('score', score)\n",
        "#plt.plot(score)\n",
        "\n",
        "tiempo_final = time()\n",
        "tiempo_ejecucion = tiempo_final - tiempo_inicial\n",
        "print('El tiempo de ejecucion fue: ', tiempo_ejecucion)\n",
        "\n",
        "#PLOTEANDO BBY\n",
        "history_dict = history.history #paso info a dictionary\n",
        "\n",
        "print(history_dict)\n",
        "history_dict.keys()\n",
        "\n",
        "acc      = history.history['accuracy' ]\n",
        "val_acc  = history.history[ 'val_accuracy' ]\n",
        "loss     = history.history[ 'loss' ]\n",
        "val_loss = history.history['val_loss' ]\n",
        "\n",
        "epochs   = range(1,len(acc)+1,1)\n",
        "print(epochs)\n",
        "\n",
        "\n",
        "plt.plot ( epochs,     acc, 'r--', label='Training accuracy'  )\n",
        "plt.plot ( epochs, val_acc,  'b', label='Validation accuracy')\n",
        "plt.title ('Training and validation accuracy')\n",
        "plt.ylabel('acc')\n",
        "plt.xlabel('epochs')\n",
        "\n",
        "plt.legend()\n",
        "plt.figure()\n",
        "\n",
        "plt.plot ( epochs,     loss, 'r--' ,label='Loss'  )\n",
        "plt.plot ( epochs, val_loss ,  'b',label='val_loss'   )\n",
        "plt.title ('Training and validation loss'   )\n",
        "plt.ylabel('loss')\n",
        "plt.xlabel('epochs')\n",
        "\n",
        "plt.legend()\n",
        "plt.figure()"
      ],
      "execution_count": 25,
      "outputs": [
        {
          "output_type": "stream",
          "text": [
            "Model: \"sequential_18\"\n",
            "_________________________________________________________________\n",
            "Layer (type)                 Output Shape              Param #   \n",
            "=================================================================\n",
            "conv2d_69 (Conv2D)           (None, 32, 32, 32)        2432      \n",
            "_________________________________________________________________\n",
            "activation_103 (Activation)  (None, 32, 32, 32)        0         \n",
            "_________________________________________________________________\n",
            "max_pooling2d_69 (MaxPooling (None, 16, 16, 32)        0         \n",
            "_________________________________________________________________\n",
            "conv2d_70 (Conv2D)           (None, 16, 16, 64)        18496     \n",
            "_________________________________________________________________\n",
            "activation_104 (Activation)  (None, 16, 16, 64)        0         \n",
            "_________________________________________________________________\n",
            "dropout_53 (Dropout)         (None, 16, 16, 64)        0         \n",
            "_________________________________________________________________\n",
            "max_pooling2d_70 (MaxPooling (None, 8, 8, 64)          0         \n",
            "_________________________________________________________________\n",
            "conv2d_71 (Conv2D)           (None, 8, 8, 96)          55392     \n",
            "_________________________________________________________________\n",
            "activation_105 (Activation)  (None, 8, 8, 96)          0         \n",
            "_________________________________________________________________\n",
            "max_pooling2d_71 (MaxPooling (None, 4, 4, 96)          0         \n",
            "_________________________________________________________________\n",
            "dropout_54 (Dropout)         (None, 4, 4, 96)          0         \n",
            "_________________________________________________________________\n",
            "conv2d_72 (Conv2D)           (None, 4, 4, 96)          83040     \n",
            "_________________________________________________________________\n",
            "activation_106 (Activation)  (None, 4, 4, 96)          0         \n",
            "_________________________________________________________________\n",
            "max_pooling2d_72 (MaxPooling (None, 2, 2, 96)          0         \n",
            "_________________________________________________________________\n",
            "flatten_18 (Flatten)         (None, 384)               0         \n",
            "_________________________________________________________________\n",
            "dense_35 (Dense)             (None, 288)               110880    \n",
            "_________________________________________________________________\n",
            "activation_107 (Activation)  (None, 288)               0         \n",
            "_________________________________________________________________\n",
            "dropout_55 (Dropout)         (None, 288)               0         \n",
            "_________________________________________________________________\n",
            "dense_36 (Dense)             (None, 10)                2890      \n",
            "_________________________________________________________________\n",
            "activation_108 (Activation)  (None, 10)                0         \n",
            "=================================================================\n",
            "Total params: 273,130\n",
            "Trainable params: 273,130\n",
            "Non-trainable params: 0\n",
            "_________________________________________________________________\n",
            "None\n",
            "Train on 45000 samples, validate on 5000 samples\n",
            "Epoch 1/100\n",
            "45000/45000 [==============================] - 4s 83us/step - loss: 1.8960 - accuracy: 0.2910 - val_loss: 1.4984 - val_accuracy: 0.4476\n",
            "Epoch 2/100\n",
            "45000/45000 [==============================] - 3s 77us/step - loss: 1.4744 - accuracy: 0.4575 - val_loss: 1.3321 - val_accuracy: 0.5112\n",
            "Epoch 3/100\n",
            "45000/45000 [==============================] - 3s 76us/step - loss: 1.3167 - accuracy: 0.5241 - val_loss: 1.1588 - val_accuracy: 0.5846\n",
            "Epoch 4/100\n",
            "45000/45000 [==============================] - 3s 77us/step - loss: 1.2060 - accuracy: 0.5680 - val_loss: 1.0638 - val_accuracy: 0.6190\n",
            "Epoch 5/100\n",
            "45000/45000 [==============================] - 3s 77us/step - loss: 1.1139 - accuracy: 0.6047 - val_loss: 0.9698 - val_accuracy: 0.6650\n",
            "Epoch 6/100\n",
            "45000/45000 [==============================] - 4s 79us/step - loss: 1.0442 - accuracy: 0.6286 - val_loss: 0.9241 - val_accuracy: 0.6846\n",
            "Epoch 7/100\n",
            "45000/45000 [==============================] - 3s 77us/step - loss: 0.9841 - accuracy: 0.6513 - val_loss: 0.8801 - val_accuracy: 0.6906\n",
            "Epoch 8/100\n",
            "45000/45000 [==============================] - 3s 77us/step - loss: 0.9284 - accuracy: 0.6701 - val_loss: 0.8620 - val_accuracy: 0.6968\n",
            "Epoch 9/100\n",
            "45000/45000 [==============================] - 3s 76us/step - loss: 0.8842 - accuracy: 0.6909 - val_loss: 0.7834 - val_accuracy: 0.7340\n",
            "Epoch 10/100\n",
            "45000/45000 [==============================] - 3s 77us/step - loss: 0.8446 - accuracy: 0.7025 - val_loss: 0.7853 - val_accuracy: 0.7308\n",
            "Epoch 11/100\n",
            "45000/45000 [==============================] - 3s 76us/step - loss: 0.8142 - accuracy: 0.7119 - val_loss: 0.7675 - val_accuracy: 0.7386\n",
            "Epoch 12/100\n",
            "45000/45000 [==============================] - 3s 76us/step - loss: 0.7838 - accuracy: 0.7238 - val_loss: 0.7298 - val_accuracy: 0.7520\n",
            "Epoch 13/100\n",
            "45000/45000 [==============================] - 3s 78us/step - loss: 0.7567 - accuracy: 0.7324 - val_loss: 0.7298 - val_accuracy: 0.7600\n",
            "Epoch 14/100\n",
            "45000/45000 [==============================] - 3s 76us/step - loss: 0.7306 - accuracy: 0.7434 - val_loss: 0.7632 - val_accuracy: 0.7460\n",
            "Epoch 15/100\n",
            "45000/45000 [==============================] - 4s 79us/step - loss: 0.7077 - accuracy: 0.7507 - val_loss: 0.7277 - val_accuracy: 0.7494\n",
            "Epoch 16/100\n",
            "45000/45000 [==============================] - 4s 80us/step - loss: 0.6864 - accuracy: 0.7582 - val_loss: 0.6841 - val_accuracy: 0.7708\n",
            "Epoch 17/100\n",
            "45000/45000 [==============================] - 3s 77us/step - loss: 0.6716 - accuracy: 0.7642 - val_loss: 0.7448 - val_accuracy: 0.7526\n",
            "Epoch 18/100\n",
            "45000/45000 [==============================] - 3s 75us/step - loss: 0.6495 - accuracy: 0.7700 - val_loss: 0.7461 - val_accuracy: 0.7536\n",
            "Epoch 19/100\n",
            "45000/45000 [==============================] - 3s 76us/step - loss: 0.6473 - accuracy: 0.7701 - val_loss: 0.7328 - val_accuracy: 0.7582\n",
            "Epoch 20/100\n",
            "45000/45000 [==============================] - 3s 77us/step - loss: 0.6238 - accuracy: 0.7805 - val_loss: 0.6579 - val_accuracy: 0.7778\n",
            "Epoch 21/100\n",
            "45000/45000 [==============================] - 3s 76us/step - loss: 0.6148 - accuracy: 0.7828 - val_loss: 0.7029 - val_accuracy: 0.7690\n",
            "Epoch 22/100\n",
            "45000/45000 [==============================] - 3s 77us/step - loss: 0.6042 - accuracy: 0.7864 - val_loss: 0.7235 - val_accuracy: 0.7680\n",
            "Epoch 23/100\n",
            "45000/45000 [==============================] - 4s 78us/step - loss: 0.5964 - accuracy: 0.7909 - val_loss: 0.6375 - val_accuracy: 0.7882\n",
            "Epoch 24/100\n",
            "45000/45000 [==============================] - 3s 76us/step - loss: 0.5810 - accuracy: 0.7959 - val_loss: 0.6569 - val_accuracy: 0.7908\n",
            "Epoch 25/100\n",
            "45000/45000 [==============================] - 3s 76us/step - loss: 0.5732 - accuracy: 0.7984 - val_loss: 0.6650 - val_accuracy: 0.7850\n",
            "Epoch 26/100\n",
            "45000/45000 [==============================] - 3s 76us/step - loss: 0.5578 - accuracy: 0.8034 - val_loss: 0.6712 - val_accuracy: 0.7856\n",
            "Epoch 27/100\n",
            "45000/45000 [==============================] - 3s 75us/step - loss: 0.5503 - accuracy: 0.8061 - val_loss: 0.6483 - val_accuracy: 0.7902\n",
            "Epoch 28/100\n",
            "45000/45000 [==============================] - 3s 76us/step - loss: 0.5458 - accuracy: 0.8073 - val_loss: 0.7023 - val_accuracy: 0.7738\n",
            "Epoch 29/100\n",
            "45000/45000 [==============================] - 3s 76us/step - loss: 0.5361 - accuracy: 0.8108 - val_loss: 0.6462 - val_accuracy: 0.7916\n",
            "Epoch 30/100\n",
            "45000/45000 [==============================] - 3s 77us/step - loss: 0.5308 - accuracy: 0.8126 - val_loss: 0.6577 - val_accuracy: 0.7894\n",
            "Epoch 31/100\n",
            "45000/45000 [==============================] - 3s 76us/step - loss: 0.5234 - accuracy: 0.8151 - val_loss: 0.6714 - val_accuracy: 0.7868\n",
            "Epoch 32/100\n",
            "45000/45000 [==============================] - 3s 76us/step - loss: 0.5120 - accuracy: 0.8191 - val_loss: 0.6561 - val_accuracy: 0.7920\n",
            "Epoch 33/100\n",
            "45000/45000 [==============================] - 3s 75us/step - loss: 0.5176 - accuracy: 0.8178 - val_loss: 0.6297 - val_accuracy: 0.7960\n",
            "Epoch 34/100\n",
            "45000/45000 [==============================] - 3s 77us/step - loss: 0.5016 - accuracy: 0.8244 - val_loss: 0.6424 - val_accuracy: 0.7984\n",
            "Epoch 35/100\n",
            "45000/45000 [==============================] - 3s 76us/step - loss: 0.4863 - accuracy: 0.8281 - val_loss: 0.6680 - val_accuracy: 0.7904\n",
            "Epoch 36/100\n",
            "45000/45000 [==============================] - 3s 76us/step - loss: 0.4935 - accuracy: 0.8261 - val_loss: 0.6458 - val_accuracy: 0.7972\n",
            "Epoch 37/100\n",
            "45000/45000 [==============================] - 3s 76us/step - loss: 0.4854 - accuracy: 0.8297 - val_loss: 0.6593 - val_accuracy: 0.7956\n",
            "Epoch 38/100\n",
            "45000/45000 [==============================] - 4s 79us/step - loss: 0.4825 - accuracy: 0.8289 - val_loss: 0.6886 - val_accuracy: 0.7914\n",
            "Epoch 39/100\n",
            "45000/45000 [==============================] - 4s 78us/step - loss: 0.4746 - accuracy: 0.8342 - val_loss: 0.6829 - val_accuracy: 0.7890\n",
            "Epoch 40/100\n",
            "45000/45000 [==============================] - 3s 76us/step - loss: 0.4720 - accuracy: 0.8334 - val_loss: 0.6734 - val_accuracy: 0.7974\n",
            "Epoch 41/100\n",
            "45000/45000 [==============================] - 3s 77us/step - loss: 0.4662 - accuracy: 0.8346 - val_loss: 0.6434 - val_accuracy: 0.7984\n",
            "Epoch 42/100\n",
            "45000/45000 [==============================] - 3s 77us/step - loss: 0.4588 - accuracy: 0.8390 - val_loss: 0.6500 - val_accuracy: 0.7998\n",
            "Epoch 43/100\n",
            "45000/45000 [==============================] - 3s 77us/step - loss: 0.4613 - accuracy: 0.8368 - val_loss: 0.6776 - val_accuracy: 0.7936\n",
            "Epoch 44/100\n",
            "45000/45000 [==============================] - 4s 78us/step - loss: 0.4534 - accuracy: 0.8416 - val_loss: 0.6534 - val_accuracy: 0.7954\n",
            "Epoch 45/100\n",
            "45000/45000 [==============================] - 3s 77us/step - loss: 0.4494 - accuracy: 0.8425 - val_loss: 0.6828 - val_accuracy: 0.7954\n",
            "Epoch 46/100\n",
            "45000/45000 [==============================] - 3s 76us/step - loss: 0.4422 - accuracy: 0.8447 - val_loss: 0.6999 - val_accuracy: 0.7910\n",
            "Epoch 47/100\n",
            "45000/45000 [==============================] - 3s 76us/step - loss: 0.4431 - accuracy: 0.8448 - val_loss: 0.6348 - val_accuracy: 0.8056\n",
            "Epoch 48/100\n",
            "45000/45000 [==============================] - 3s 76us/step - loss: 0.4444 - accuracy: 0.8453 - val_loss: 0.6489 - val_accuracy: 0.7948\n",
            "Epoch 49/100\n",
            "45000/45000 [==============================] - 3s 77us/step - loss: 0.4351 - accuracy: 0.8466 - val_loss: 0.6650 - val_accuracy: 0.7960\n",
            "Epoch 50/100\n",
            "45000/45000 [==============================] - 4s 78us/step - loss: 0.4423 - accuracy: 0.8436 - val_loss: 0.6951 - val_accuracy: 0.7922\n",
            "Epoch 51/100\n",
            "45000/45000 [==============================] - 3s 76us/step - loss: 0.4392 - accuracy: 0.8437 - val_loss: 0.6420 - val_accuracy: 0.8032\n",
            "Epoch 52/100\n",
            "45000/45000 [==============================] - 3s 76us/step - loss: 0.4332 - accuracy: 0.8479 - val_loss: 0.6812 - val_accuracy: 0.8012\n",
            "Epoch 53/100\n",
            "45000/45000 [==============================] - 3s 76us/step - loss: 0.4289 - accuracy: 0.8496 - val_loss: 0.6740 - val_accuracy: 0.7996\n",
            "Epoch 54/100\n",
            "45000/45000 [==============================] - 3s 77us/step - loss: 0.4274 - accuracy: 0.8496 - val_loss: 0.6515 - val_accuracy: 0.8022\n",
            "Epoch 55/100\n",
            "45000/45000 [==============================] - 3s 77us/step - loss: 0.4170 - accuracy: 0.8515 - val_loss: 0.6768 - val_accuracy: 0.7938\n",
            "Epoch 56/100\n",
            "45000/45000 [==============================] - 3s 77us/step - loss: 0.4260 - accuracy: 0.8474 - val_loss: 0.6993 - val_accuracy: 0.7942\n",
            "Epoch 57/100\n",
            "45000/45000 [==============================] - 3s 77us/step - loss: 0.4310 - accuracy: 0.8485 - val_loss: 0.6592 - val_accuracy: 0.8064\n",
            "Epoch 58/100\n",
            "45000/45000 [==============================] - 3s 77us/step - loss: 0.4149 - accuracy: 0.8540 - val_loss: 0.6404 - val_accuracy: 0.8052\n",
            "Epoch 59/100\n",
            "45000/45000 [==============================] - 3s 76us/step - loss: 0.4146 - accuracy: 0.8538 - val_loss: 0.6804 - val_accuracy: 0.7992\n",
            "Epoch 60/100\n",
            "45000/45000 [==============================] - 4s 78us/step - loss: 0.4052 - accuracy: 0.8567 - val_loss: 0.6506 - val_accuracy: 0.8094\n",
            "Epoch 61/100\n",
            "45000/45000 [==============================] - 3s 77us/step - loss: 0.4089 - accuracy: 0.8550 - val_loss: 0.6512 - val_accuracy: 0.7986\n",
            "Epoch 62/100\n",
            "45000/45000 [==============================] - 3s 77us/step - loss: 0.4066 - accuracy: 0.8576 - val_loss: 0.6563 - val_accuracy: 0.8074\n",
            "Epoch 63/100\n",
            "45000/45000 [==============================] - 3s 78us/step - loss: 0.4076 - accuracy: 0.8568 - val_loss: 0.6726 - val_accuracy: 0.8016\n",
            "Epoch 64/100\n",
            "45000/45000 [==============================] - 3s 76us/step - loss: 0.3976 - accuracy: 0.8612 - val_loss: 0.6574 - val_accuracy: 0.8108\n",
            "Epoch 65/100\n",
            "45000/45000 [==============================] - 3s 77us/step - loss: 0.4016 - accuracy: 0.8573 - val_loss: 0.6313 - val_accuracy: 0.8122\n",
            "Epoch 66/100\n",
            "45000/45000 [==============================] - 3s 77us/step - loss: 0.4033 - accuracy: 0.8574 - val_loss: 0.6878 - val_accuracy: 0.8036\n",
            "Epoch 67/100\n",
            "45000/45000 [==============================] - 4s 78us/step - loss: 0.3995 - accuracy: 0.8593 - val_loss: 0.6592 - val_accuracy: 0.8108\n",
            "Epoch 68/100\n",
            "45000/45000 [==============================] - 3s 78us/step - loss: 0.3926 - accuracy: 0.8605 - val_loss: 0.6820 - val_accuracy: 0.7992\n",
            "Epoch 69/100\n",
            "45000/45000 [==============================] - 3s 77us/step - loss: 0.3949 - accuracy: 0.8599 - val_loss: 0.7074 - val_accuracy: 0.7964\n",
            "Epoch 70/100\n",
            "45000/45000 [==============================] - 3s 78us/step - loss: 0.3945 - accuracy: 0.8616 - val_loss: 0.6470 - val_accuracy: 0.8070\n",
            "Epoch 71/100\n",
            "45000/45000 [==============================] - 3s 77us/step - loss: 0.3869 - accuracy: 0.8636 - val_loss: 0.6763 - val_accuracy: 0.8062\n",
            "Epoch 72/100\n",
            "45000/45000 [==============================] - 3s 77us/step - loss: 0.3925 - accuracy: 0.8612 - val_loss: 0.6495 - val_accuracy: 0.8080\n",
            "Epoch 73/100\n",
            "45000/45000 [==============================] - 3s 77us/step - loss: 0.3847 - accuracy: 0.8644 - val_loss: 0.6920 - val_accuracy: 0.7952\n",
            "Epoch 74/100\n",
            "45000/45000 [==============================] - 3s 77us/step - loss: 0.3887 - accuracy: 0.8613 - val_loss: 0.6524 - val_accuracy: 0.8048\n",
            "Epoch 75/100\n",
            "45000/45000 [==============================] - 3s 76us/step - loss: 0.3803 - accuracy: 0.8649 - val_loss: 0.6572 - val_accuracy: 0.8056\n",
            "Epoch 76/100\n",
            "45000/45000 [==============================] - 3s 76us/step - loss: 0.4012 - accuracy: 0.8577 - val_loss: 0.6675 - val_accuracy: 0.7970\n",
            "Epoch 77/100\n",
            "45000/45000 [==============================] - 3s 77us/step - loss: 0.3928 - accuracy: 0.8604 - val_loss: 0.7026 - val_accuracy: 0.8020\n",
            "Epoch 78/100\n",
            "45000/45000 [==============================] - 3s 77us/step - loss: 0.3831 - accuracy: 0.8655 - val_loss: 0.6904 - val_accuracy: 0.7984\n",
            "Epoch 79/100\n",
            "45000/45000 [==============================] - 3s 77us/step - loss: 0.3890 - accuracy: 0.8607 - val_loss: 0.6856 - val_accuracy: 0.8028\n",
            "Epoch 80/100\n",
            "45000/45000 [==============================] - 3s 77us/step - loss: 0.3826 - accuracy: 0.8653 - val_loss: 0.6515 - val_accuracy: 0.8064\n",
            "Epoch 81/100\n",
            "45000/45000 [==============================] - 3s 78us/step - loss: 0.3703 - accuracy: 0.8678 - val_loss: 0.6423 - val_accuracy: 0.8098\n",
            "Epoch 82/100\n",
            "45000/45000 [==============================] - 3s 76us/step - loss: 0.3770 - accuracy: 0.8676 - val_loss: 0.6609 - val_accuracy: 0.8068\n",
            "Epoch 83/100\n",
            "45000/45000 [==============================] - 4s 80us/step - loss: 0.3796 - accuracy: 0.8670 - val_loss: 0.6626 - val_accuracy: 0.8108\n",
            "Epoch 84/100\n",
            "45000/45000 [==============================] - 4s 80us/step - loss: 0.3795 - accuracy: 0.8658 - val_loss: 0.6499 - val_accuracy: 0.8066\n",
            "Epoch 85/100\n",
            "45000/45000 [==============================] - 4s 80us/step - loss: 0.3823 - accuracy: 0.8654 - val_loss: 0.6519 - val_accuracy: 0.8054\n",
            "Epoch 86/100\n",
            "45000/45000 [==============================] - 3s 77us/step - loss: 0.3775 - accuracy: 0.8666 - val_loss: 0.6534 - val_accuracy: 0.8042\n",
            "Epoch 87/100\n",
            "45000/45000 [==============================] - 3s 78us/step - loss: 0.3751 - accuracy: 0.8675 - val_loss: 0.6701 - val_accuracy: 0.8102\n",
            "Epoch 88/100\n",
            "45000/45000 [==============================] - 3s 77us/step - loss: 0.3735 - accuracy: 0.8682 - val_loss: 0.6874 - val_accuracy: 0.8032\n",
            "Epoch 89/100\n",
            "45000/45000 [==============================] - 3s 77us/step - loss: 0.3795 - accuracy: 0.8675 - val_loss: 0.6741 - val_accuracy: 0.8002\n",
            "Epoch 90/100\n",
            "45000/45000 [==============================] - 3s 77us/step - loss: 0.3766 - accuracy: 0.8680 - val_loss: 0.6609 - val_accuracy: 0.8052\n",
            "Epoch 91/100\n",
            "45000/45000 [==============================] - 4s 78us/step - loss: 0.3702 - accuracy: 0.8700 - val_loss: 0.6464 - val_accuracy: 0.8100\n",
            "Epoch 92/100\n",
            "45000/45000 [==============================] - 4s 78us/step - loss: 0.3755 - accuracy: 0.8690 - val_loss: 0.6596 - val_accuracy: 0.8094\n",
            "Epoch 93/100\n",
            "45000/45000 [==============================] - 3s 76us/step - loss: 0.3669 - accuracy: 0.8714 - val_loss: 0.7375 - val_accuracy: 0.7918\n",
            "Epoch 94/100\n",
            "45000/45000 [==============================] - 3s 76us/step - loss: 0.3760 - accuracy: 0.8677 - val_loss: 0.6346 - val_accuracy: 0.8124\n",
            "Epoch 95/100\n",
            "45000/45000 [==============================] - 3s 76us/step - loss: 0.3720 - accuracy: 0.8685 - val_loss: 0.7086 - val_accuracy: 0.7946\n",
            "Epoch 96/100\n",
            "45000/45000 [==============================] - 3s 76us/step - loss: 0.3762 - accuracy: 0.8684 - val_loss: 0.6909 - val_accuracy: 0.8058\n",
            "Epoch 97/100\n",
            "45000/45000 [==============================] - 3s 77us/step - loss: 0.3665 - accuracy: 0.8721 - val_loss: 0.6638 - val_accuracy: 0.8024\n",
            "Epoch 98/100\n",
            "45000/45000 [==============================] - 3s 77us/step - loss: 0.3697 - accuracy: 0.8691 - val_loss: 0.6884 - val_accuracy: 0.8016\n",
            "Epoch 99/100\n",
            "45000/45000 [==============================] - 3s 76us/step - loss: 0.3635 - accuracy: 0.8720 - val_loss: 0.6747 - val_accuracy: 0.8048\n",
            "Epoch 100/100\n",
            "45000/45000 [==============================] - 3s 77us/step - loss: 0.3702 - accuracy: 0.8685 - val_loss: 0.6582 - val_accuracy: 0.8024\n",
            "10000/10000 [==============================] - 1s 88us/step\n",
            "Test score: 0.6840228417396546\n",
            "Test accuracy: 0.8047000169754028\n",
            "score 0.6840228417396546\n",
            "El tiempo de ejecucion fue:  6472.2470552921295\n",
            "{'val_loss': [1.4984011722564696, 1.3321024589538575, 1.1587696365356446, 1.0637989891052246, 0.9698410545349121, 0.9241129957199097, 0.8800778079986572, 0.8619978262901307, 0.7833856748580933, 0.7853124073028565, 0.7675028810501099, 0.7298424402236938, 0.7297674486160278, 0.7632023342132568, 0.7277080774307251, 0.6841267452239991, 0.744814447593689, 0.7461490152359008, 0.732831040763855, 0.6578512338638306, 0.7029432228088379, 0.7235036426544189, 0.6375455284118652, 0.6568714115142822, 0.664974840927124, 0.6711624771118164, 0.6483417551040649, 0.7023083450317383, 0.6461985170364379, 0.6577219676971435, 0.6714084602355957, 0.6560686485290528, 0.6296813320159912, 0.6423693529129029, 0.667950415802002, 0.6457632753372192, 0.659322459411621, 0.6886425804138183, 0.6828874517440796, 0.6734290615081787, 0.6433800895690918, 0.6499606784820556, 0.6776212799072265, 0.6534230823516846, 0.6827746541976929, 0.6998900249481201, 0.6347774673461914, 0.6488865062713624, 0.6649676678657531, 0.6951412883758545, 0.6420342491149902, 0.6811742301940918, 0.67396892786026, 0.6515392513275147, 0.6767909662246704, 0.6992627529144287, 0.6592310420989991, 0.6403613054275513, 0.6804120471954346, 0.650565299987793, 0.651208475112915, 0.6563398317337036, 0.6725819904327393, 0.6574296173095703, 0.6313134328842163, 0.6877752384185791, 0.6591747261047364, 0.6819570383071899, 0.7073664783477783, 0.6469861507415772, 0.676327398109436, 0.649465620803833, 0.6919657691955566, 0.6524292972564697, 0.6572122467041016, 0.6675344215393066, 0.7026009674072266, 0.6903694873809815, 0.6855523830413819, 0.6515273233413696, 0.64229827709198, 0.6609108329772949, 0.6626431108474732, 0.6498730884552002, 0.6519188453674316, 0.653406198310852, 0.6700932615280152, 0.6874375019073486, 0.6740887731552124, 0.660944422531128, 0.6464385425567627, 0.6596327770233155, 0.7374627573013306, 0.6345690391540527, 0.708616410446167, 0.6909408306121826, 0.6637854789733887, 0.6884219692230225, 0.6747123302459717, 0.6581619102478027], 'val_accuracy': [0.44760000705718994, 0.5112000107765198, 0.5845999717712402, 0.6190000176429749, 0.6650000214576721, 0.6845999956130981, 0.6905999779701233, 0.6967999935150146, 0.734000027179718, 0.7307999730110168, 0.7386000156402588, 0.7519999742507935, 0.7599999904632568, 0.7459999918937683, 0.7494000196456909, 0.770799994468689, 0.7526000142097473, 0.753600001335144, 0.7581999897956848, 0.7778000235557556, 0.7689999938011169, 0.7680000066757202, 0.7882000207901001, 0.7907999753952026, 0.7850000262260437, 0.7856000065803528, 0.7901999950408936, 0.7738000154495239, 0.7915999889373779, 0.7893999814987183, 0.7868000268936157, 0.7919999957084656, 0.7960000038146973, 0.7983999848365784, 0.7904000282287598, 0.7972000241279602, 0.7955999970436096, 0.7914000153541565, 0.7889999747276306, 0.7973999977111816, 0.7983999848365784, 0.7997999787330627, 0.7936000227928162, 0.7954000234603882, 0.7954000234603882, 0.7910000085830688, 0.8055999875068665, 0.7947999835014343, 0.7960000038146973, 0.7922000288963318, 0.8032000064849854, 0.8011999726295471, 0.7996000051498413, 0.8022000193595886, 0.7937999963760376, 0.7942000031471252, 0.8064000010490417, 0.8051999807357788, 0.7991999983787537, 0.8094000220298767, 0.7986000180244446, 0.8073999881744385, 0.8015999794006348, 0.8108000159263611, 0.8122000098228455, 0.803600013256073, 0.8108000159263611, 0.7991999983787537, 0.7964000105857849, 0.8069999814033508, 0.8062000274658203, 0.8080000281333923, 0.795199990272522, 0.8047999739646912, 0.8055999875068665, 0.796999990940094, 0.8019999861717224, 0.7983999848365784, 0.8027999997138977, 0.8064000010490417, 0.8098000288009644, 0.8068000078201294, 0.8108000159263611, 0.8065999746322632, 0.805400013923645, 0.8041999936103821, 0.8101999759674072, 0.8032000064849854, 0.8001999855041504, 0.8051999807357788, 0.8100000023841858, 0.8094000220298767, 0.7918000221252441, 0.8123999834060669, 0.7946000099182129, 0.8058000206947327, 0.8023999929428101, 0.8015999794006348, 0.8047999739646912, 0.8023999929428101], 'loss': [1.8960206878874037, 1.4744366469489203, 1.3166662076102362, 1.2060257952796087, 1.1138561237123277, 1.0442241480085586, 0.9841426610946655, 0.9283658181084526, 0.8842331841786703, 0.8446373470942179, 0.8142383086734348, 0.7838276622772217, 0.7567394930097792, 0.730647594473097, 0.7076896402782864, 0.6864363059255811, 0.6716222039646572, 0.6495082602712843, 0.6472874189800686, 0.6237951356781853, 0.6148328241560195, 0.6041595232804616, 0.5963514759911431, 0.5809894375801087, 0.5731593661096361, 0.5577704010327658, 0.5503497211032443, 0.545775399992201, 0.5360865757518345, 0.5308448026339213, 0.5234403280311161, 0.5119594595167372, 0.5175640270339118, 0.5015582660675049, 0.48629766810735064, 0.49350218313005234, 0.4853800393104553, 0.482479595512814, 0.4745712088743846, 0.4719620563083225, 0.4662062650733524, 0.45879076045354206, 0.46134610669877796, 0.45336450469228956, 0.44942565856509736, 0.44217450053956775, 0.4431152787473467, 0.44440730228424075, 0.43513450671301945, 0.44228810309304134, 0.43924713140593635, 0.4332049882888794, 0.42888981855710345, 0.42739914389716255, 0.41697132069269816, 0.4259995303206974, 0.43096021178033617, 0.41486239371829564, 0.41457773623996313, 0.40520126292970443, 0.4089153739982181, 0.40657883259985184, 0.4076294001049466, 0.39758987684779695, 0.4015507802274492, 0.4033077958689796, 0.39950705083211263, 0.39256654886669584, 0.39485465896394517, 0.3944513892173767, 0.38692427027490406, 0.3925447552204132, 0.3846845453209347, 0.38873939044740463, 0.38028645804193284, 0.4012238721370697, 0.39277661088307697, 0.38313443340725367, 0.38903459572262233, 0.3825744729624854, 0.37032640209198, 0.3770053047657013, 0.37957331725491417, 0.37948966389232214, 0.3822812915590074, 0.3775040586365594, 0.37511575560039945, 0.37346962147288854, 0.3794880507681105, 0.37662094382180106, 0.3701941386275821, 0.37545697163475883, 0.36688014125823976, 0.37596445101632014, 0.37203268399238587, 0.37615269055896333, 0.3664912144872877, 0.36971798357433744, 0.3635025366889106, 0.3701823896249135], 'accuracy': [0.291, 0.45753333, 0.5241111, 0.5679778, 0.60466665, 0.6286, 0.6513111, 0.67006665, 0.6909111, 0.70251113, 0.7118667, 0.72382224, 0.73235554, 0.7434222, 0.7507333, 0.7581556, 0.7641778, 0.7700222, 0.7701111, 0.7805333, 0.78275555, 0.78635556, 0.7909333, 0.79591113, 0.7984222, 0.8034, 0.80608886, 0.80726665, 0.81075555, 0.81255555, 0.8151111, 0.8190889, 0.8178222, 0.8243778, 0.8281111, 0.8260889, 0.82971114, 0.8288889, 0.8341778, 0.83335555, 0.83455557, 0.83897775, 0.8368, 0.84155554, 0.84246665, 0.8446889, 0.84484446, 0.8453111, 0.84664446, 0.8436, 0.8436667, 0.8478889, 0.84955555, 0.8495778, 0.85153335, 0.8474444, 0.84848887, 0.85395557, 0.85375553, 0.8566667, 0.85495555, 0.85764444, 0.8568, 0.86124444, 0.8573111, 0.85737777, 0.8593111, 0.86046666, 0.8598667, 0.8615556, 0.86362225, 0.8611778, 0.86444443, 0.8612889, 0.86491114, 0.8577333, 0.86035556, 0.86553335, 0.8607111, 0.8652889, 0.8678, 0.8675778, 0.8670222, 0.8658, 0.8654, 0.8665778, 0.8675333, 0.8682, 0.8674667, 0.86795557, 0.87004447, 0.86895555, 0.87137777, 0.86773336, 0.8684667, 0.8683778, 0.8720889, 0.86906666, 0.8719556, 0.8685333]}\n",
            "range(1, 101)\n"
          ],
          "name": "stdout"
        },
        {
          "output_type": "execute_result",
          "data": {
            "text/plain": [
              "<Figure size 432x288 with 0 Axes>"
            ]
          },
          "metadata": {
            "tags": []
          },
          "execution_count": 25
        },
        {
          "output_type": "display_data",
          "data": {
            "image/png": "[encoded data removed]",
            "text/plain": [
              "<Figure size 432x288 with 1 Axes>"
            ]
          },
          "metadata": {
            "tags": [],
            "needs_background": "light"
          }
        },
        {
          "output_type": "display_data",
          "data": {
            "image/png": "[encoded data removed]",
            "text/plain": [
              "<Figure size 432x288 with 1 Axes>"
            ]
          },
          "metadata": {
            "tags": [],
            "needs_background": "light"
          }
        },
        {
          "output_type": "display_data",
          "data": {
            "text/plain": [
              "<Figure size 432x288 with 0 Axes>"
            ]
          },
          "metadata": {
            "tags": []
          }
        }
      ]
    },
    {
      "cell_type": "markdown",
      "metadata": {
        "id": "SX8DShxyhRXP",
        "colab_type": "text"
      },
      "source": [
        "## sin gpu"
      ]
    },
    {
      "cell_type": "code",
      "metadata": {
        "id": "SNDJzNcdmihP",
        "colab_type": "code",
        "outputId": "b7c79a43-1be0-46ff-8da6-47017343c001",
        "colab": {
          "base_uri": "https://localhost:8080/",
          "height": 425
        }
      },
      "source": [
        "model.compile(loss='categorical_crossentropy',metrics=['accuracy'], optimizer='adadelta')        #no solo capas sino que se optimiza, neuronas conectadas, listas\n",
        "model.fit(x_train, y_train, batch_size=100, epochs=10, validation_split=0.1, verbose=1)# aquí el entrenamiento del modelo bachsize se entrena de a 100 hasta como con todas# epochs es cantidad de rep que usa el modelo, validacion 10%, verbose muestra avance \n",
        "score = model.evaluate(x_test, y_test, verbose=1)# evaluo modelo con conjunto test final\n",
        "print('Test accuracy: ', score[1])\n",
        "\n",
        "tiempo_final = time()\n",
        "tiempo_ejecucion = tiempo_final - tiempo_inicial\n",
        "print('El tiempo de ejecucion fue: ', tiempo_ejecucion)\n"
      ],
      "execution_count": 0,
      "outputs": [
        {
          "output_type": "stream",
          "text": [
            "Train on 54000 samples, validate on 6000 samples\n",
            "Epoch 1/10\n",
            "54000/54000 [==============================] - 85s 2ms/step - loss: 0.4868 - accuracy: 0.9250 - val_loss: 0.0801 - val_accuracy: 0.9792\n",
            "Epoch 2/10\n",
            "54000/54000 [==============================] - 84s 2ms/step - loss: 0.0583 - accuracy: 0.9828 - val_loss: 0.0676 - val_accuracy: 0.9845\n",
            "Epoch 3/10\n",
            "54000/54000 [==============================] - 85s 2ms/step - loss: 0.0322 - accuracy: 0.9905 - val_loss: 0.0495 - val_accuracy: 0.9890\n",
            "Epoch 4/10\n",
            "54000/54000 [==============================] - 84s 2ms/step - loss: 0.0179 - accuracy: 0.9942 - val_loss: 0.0575 - val_accuracy: 0.9887\n",
            "Epoch 5/10\n",
            "54000/54000 [==============================] - 84s 2ms/step - loss: 0.0109 - accuracy: 0.9966 - val_loss: 0.0651 - val_accuracy: 0.9878\n",
            "Epoch 6/10\n",
            "54000/54000 [==============================] - 84s 2ms/step - loss: 0.0070 - accuracy: 0.9979 - val_loss: 0.0678 - val_accuracy: 0.9888\n",
            "Epoch 7/10\n",
            "54000/54000 [==============================] - 85s 2ms/step - loss: 0.0035 - accuracy: 0.9988 - val_loss: 0.0721 - val_accuracy: 0.9888\n",
            "Epoch 8/10\n",
            "54000/54000 [==============================] - 85s 2ms/step - loss: 0.0025 - accuracy: 0.9992 - val_loss: 0.0812 - val_accuracy: 0.9873\n",
            "Epoch 9/10\n",
            "54000/54000 [==============================] - 84s 2ms/step - loss: 0.0020 - accuracy: 0.9994 - val_loss: 0.0752 - val_accuracy: 0.9898\n",
            "Epoch 10/10\n",
            "54000/54000 [==============================] - 85s 2ms/step - loss: 0.0011 - accuracy: 0.9997 - val_loss: 0.0853 - val_accuracy: 0.9890\n",
            "10000/10000 [==============================] - 5s 501us/step\n",
            "Test accuracy:  0.988099992275238\n",
            "El tiempo de ejecucion fue:  890.4097440242767\n"
          ],
          "name": "stdout"
        }
      ]
    },
    {
      "cell_type": "markdown",
      "metadata": {
        "id": "RVxfLx0A0j6L",
        "colab_type": "text"
      },
      "source": [
        "## Ahora con imagenes de otro repositorio #un cambio"
      ]
    },
    {
      "cell_type": "code",
      "metadata": {
        "id": "rquOWB8Q0pKL",
        "colab_type": "code",
        "outputId": "069a3a6f-24ae-443a-b7c6-baf137f32369",
        "colab": {
          "resources": {
            "http://localhost:8080/nbextensions/google.colab/files.js": {
              "data": "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",
              "ok": true,
              "headers": [
                [
                  "content-type",
                  "application/javascript"
                ]
              ],
              "status": 200,
              "status_text": ""
            }
          },
          "base_uri": "https://localhost:8080/",
          "height": 74
        }
      },
      "source": [
        "from PIL import Image #libreria base de datos de imagenes\n",
        "from PIL import ImageFile\n",
        "\n",
        "ImageFile.LOAD_TRUNCATED_IMAGES = True\n",
        "from google.colab import files #para que permita importar archivos\n",
        "\n",
        "uploaded = files.upload()"
      ],
      "execution_count": 0,
      "outputs": [
        {
          "output_type": "display_data",
          "data": {
            "text/html": [
              "\n",
              "     <input type=\"file\" id=\"files-c9973d16-a682-4d43-be3b-aec5011d2a1c\" name=\"files[]\" multiple disabled />\n",
              "     <output id=\"result-c9973d16-a682-4d43-be3b-aec5011d2a1c\">\n",
              "      Upload widget is only available when the cell has been executed in the\n",
              "      current browser session. Please rerun this cell to enable.\n",
              "      </output>\n",
              "      <script src=\"/nbextensions/google.colab/files.js\"></script> "
            ],
            "text/plain": [
              "<IPython.core.display.HTML object>"
            ]
          },
          "metadata": {
            "tags": []
          }
        },
        {
          "output_type": "stream",
          "text": [
            "Saving 8.jpg to 8.jpg\n"
          ],
          "name": "stdout"
        }
      ]
    },
    {
      "cell_type": "code",
      "metadata": {
        "id": "mLHPPsx11zi1",
        "colab_type": "code",
        "outputId": "efd5f202-4454-4094-bf31-8f580158576c",
        "colab": {
          "base_uri": "https://localhost:8080/",
          "height": 34
        }
      },
      "source": [
        "import numpy as np\n",
        "img = Image.open('8.jpg')#cargo imagen a travez del lib pil\n",
        "new_img = img.resize((28,28))\n",
        "new_img = new_img.convert('L')#??\n",
        "new = np.array(new_img)\n",
        "print(np.shape(new))"
      ],
      "execution_count": 0,
      "outputs": [
        {
          "output_type": "stream",
          "text": [
            "(28, 28)\n"
          ],
          "name": "stdout"
        }
      ]
    },
    {
      "cell_type": "code",
      "metadata": {
        "id": "V1jABnSj3ff0",
        "colab_type": "code",
        "outputId": "29900dc2-ffd5-4943-9191-75465cc8e6dc",
        "colab": {
          "base_uri": "https://localhost:8080/",
          "height": 34
        }
      },
      "source": [
        "img = new.reshape(1, 28, 28, 1)#(numero de muestras,tamaño, de imagen, canales tiene la imagen RGB grey 4 canales png)\n",
        "img = img.astype('float32')#para que?\n",
        "img = img/255.0 #normalizar?\n",
        "result = model.predict_classes(img)\n",
        "result[0]"
      ],
      "execution_count": 0,
      "outputs": [
        {
          "output_type": "execute_result",
          "data": {
            "text/plain": [
              "9"
            ]
          },
          "metadata": {
            "tags": []
          },
          "execution_count": 34
        }
      ]
    },
    {
      "cell_type": "code",
      "metadata": {
        "id": "1SE5fKJ_pZtT",
        "colab_type": "code",
        "colab": {}
      },
      "source": [
        "from google.colab import drive\n",
        "drive.mount('/content/drive')"
      ],
      "execution_count": 0,
      "outputs": []
    }
  ]
}