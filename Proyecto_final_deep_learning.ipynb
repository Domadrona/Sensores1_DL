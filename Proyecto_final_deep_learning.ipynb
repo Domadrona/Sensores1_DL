{
  "nbformat": 4,
  "nbformat_minor": 0,
  "metadata": {
    "colab": {
      "name": "Proyecto final deep learning",
      "provenance": [],
      "collapsed_sections": [
        "0Xk1xIsrzoWF",
        "ux7lyJF4sQfO",
        "SX8DShxyhRXP"
      ],
      "authorship_tag": "ABX9TyOTZqgb0v1FR1fsSzm0jhyL",
      "include_colab_link": true
    },
    "kernelspec": {
      "name": "python3",
      "display_name": "Python 3"
    },
    "accelerator": "GPU"
  },
  "cells": [
    {
      "cell_type": "markdown",
      "metadata": {
        "id": "view-in-github",
        "colab_type": "text"
      },
      "source": [
        "<a href=\"https://colab.research.google.com/github/Domadrona/Sensores1_DL/blob/master/Proyecto_final_deep_learning.ipynb\" target=\"_parent\"><img src=\"https://colab.research.google.com/assets/colab-badge.svg\" alt=\"Open In Colab\"/></a>"
      ]
    },
    {
      "cell_type": "markdown",
      "metadata": {
        "id": "Na1wUzFjqsUv",
        "colab_type": "text"
      },
      "source": [
        "# Inicio de prueba\n"
      ]
    },
    {
      "cell_type": "code",
      "metadata": {
        "id": "5E1SZfJppPVN",
        "colab_type": "code",
        "outputId": "4edf45c8-a40f-47f1-9d1d-6c391658bcdb",
        "colab": {
          "base_uri": "https://localhost:8080/",
          "height": 285
        }
      },
      "source": [
        "from keras.datasets import cifar10\n",
        "import matplotlib.pyplot as plt\n",
        "(x_train,y_train), (x_test, y_test) = cifar10.load_data()\n",
        "plt.subplot(221)\n",
        "plt.imshow(x_train[10], cmap=plt.get_cmap('gray'))#por que no lo muestra en escala de grices??\n",
        "plt.subplot(222)\n",
        "plt.imshow(x_train[17], cmap=plt.get_cmap('gray'))\n",
        "plt.subplot(223)\n",
        "plt.imshow(x_train[23], cmap=plt.get_cmap('gray'))\n",
        "plt.subplot(224)\n",
        "plt.imshow(x_train[37], cmap=plt.get_cmap('gray'))\n",
        "plt.show()"
      ],
      "execution_count": 2,
      "outputs": [
        {
          "output_type": "stream",
          "text": [
            "Using TensorFlow backend.\n"
          ],
          "name": "stderr"
        },
        {
          "output_type": "display_data",
          "data": {
            "image/png": "[encoded data removed]",
            "text/plain": [
              "<Figure size 432x288 with 4 Axes>"
            ]
          },
          "metadata": {
            "tags": [],
            "needs_background": "light"
          }
        }
      ]
    },
    {
      "cell_type": "code",
      "metadata": {
        "id": "ydxMYFQ7ZedO",
        "colab_type": "code",
        "colab": {}
      },
      "source": [
        "from time import time\n",
        "from numpy.random import seed\n",
        "seed(1)\n",
        "from keras.datasets import cifar10\n",
        "from keras.models import Sequential\n",
        "from keras.layers import Dense, Activation, Dropout\n",
        "from keras.layers import Convolution2D, MaxPooling2D\n",
        "from keras.layers import Flatten\n",
        "from keras.utils import np_utils\n",
        "tiempo_inicial = time()\n",
        "(x_train,y_train), (x_test, y_test) = cifar10.load_data()"
      ],
      "execution_count": 0,
      "outputs": []
    },
    {
      "cell_type": "code",
      "metadata": {
        "id": "R7PvmHDNbIsP",
        "colab_type": "code",
        "outputId": "6ab9611b-132f-450b-9fee-ceed7f5ea3ef",
        "colab": {
          "base_uri": "https://localhost:8080/",
          "height": 85
        }
      },
      "source": [
        "print(x_train.shape)#tengo 50000 imagenes de 32X32X3\n",
        "print(x_test.shape)\n",
        "print(y_train.shape)\n",
        "print(y_test.shape)"
      ],
      "execution_count": 4,
      "outputs": [
        {
          "output_type": "stream",
          "text": [
            "(50000, 32, 32, 3)\n",
            "(10000, 32, 32, 3)\n",
            "(50000, 1)\n",
            "(10000, 1)\n"
          ],
          "name": "stdout"
        }
      ]
    },
    {
      "cell_type": "code",
      "metadata": {
        "id": "VNc2QNnrbdsG",
        "colab_type": "code",
        "outputId": "e07715ca-c027-40ed-c923-7aba8f7c8ae8",
        "colab": {
          "base_uri": "https://localhost:8080/",
          "height": 901
        }
      },
      "source": [
        "print('el valor dentro de la primera posicion de Y es ()', format(y_train[0,]))\n",
        "print()\n",
        "print()\n",
        "print(x_train[0,:,:])"
      ],
      "execution_count": 5,
      "outputs": [
        {
          "output_type": "stream",
          "text": [
            "el valor dentro de la primera posicion de Y es () [6]\n",
            "\n",
            "\n",
            "[[[ 59  62  63]\n",
            "  [ 43  46  45]\n",
            "  [ 50  48  43]\n",
            "  ...\n",
            "  [158 132 108]\n",
            "  [152 125 102]\n",
            "  [148 124 103]]\n",
            "\n",
            " [[ 16  20  20]\n",
            "  [  0   0   0]\n",
            "  [ 18   8   0]\n",
            "  ...\n",
            "  [123  88  55]\n",
            "  [119  83  50]\n",
            "  [122  87  57]]\n",
            "\n",
            " [[ 25  24  21]\n",
            "  [ 16   7   0]\n",
            "  [ 49  27   8]\n",
            "  ...\n",
            "  [118  84  50]\n",
            "  [120  84  50]\n",
            "  [109  73  42]]\n",
            "\n",
            " ...\n",
            "\n",
            " [[208 170  96]\n",
            "  [201 153  34]\n",
            "  [198 161  26]\n",
            "  ...\n",
            "  [160 133  70]\n",
            "  [ 56  31   7]\n",
            "  [ 53  34  20]]\n",
            "\n",
            " [[180 139  96]\n",
            "  [173 123  42]\n",
            "  [186 144  30]\n",
            "  ...\n",
            "  [184 148  94]\n",
            "  [ 97  62  34]\n",
            "  [ 83  53  34]]\n",
            "\n",
            " [[177 144 116]\n",
            "  [168 129  94]\n",
            "  [179 142  87]\n",
            "  ...\n",
            "  [216 184 140]\n",
            "  [151 118  84]\n",
            "  [123  92  72]]]\n"
          ],
          "name": "stdout"
        }
      ]
    },
    {
      "cell_type": "code",
      "metadata": {
        "id": "QpCfpatFc6fl",
        "colab_type": "code",
        "outputId": "feecb95c-5102-40c8-cfca-6e3e6b1127e7",
        "colab": {
          "base_uri": "https://localhost:8080/",
          "height": 51
        }
      },
      "source": [
        "x_train = x_train.reshape(50000, 32, 32, 3)/255#no entiendo, cambia la forma, como y para que? #intento normalizando/255\n",
        "x_test = x_test.reshape(10000, 32, 32, 3)/255##cuanto pongo? rgb=3\n",
        "y_train = np_utils.to_categorical(y_train, 10)#cambia a categoricas la y 2= 00100\n",
        "y_test = np_utils.to_categorical(y_test, 10)\n",
        "print(x_train.shape)\n",
        "print(y_train.shape)"
      ],
      "execution_count": 6,
      "outputs": [
        {
          "output_type": "stream",
          "text": [
            "(50000, 32, 32, 3)\n",
            "(50000, 10)\n"
          ],
          "name": "stdout"
        }
      ]
    },
    {
      "cell_type": "code",
      "metadata": {
        "id": "YJOKFnUB9BMM",
        "colab_type": "code",
        "outputId": "bfb61729-bcc3-495f-b152-6921a23b3de6",
        "colab": {
          "base_uri": "https://localhost:8080/",
          "height": 204
        }
      },
      "source": [
        "print('El valor del modelo dentro de x: ')\n",
        "print(x_train[0,:,:,0])\n",
        "print()\n",
        "print('valores dentro de y')\n",
        "print(y_train[0,:])"
      ],
      "execution_count": 7,
      "outputs": [
        {
          "output_type": "stream",
          "text": [
            "El valor del modelo dentro de x: \n",
            "[[0.23137255 0.16862745 0.19607843 ... 0.61960784 0.59607843 0.58039216]\n",
            " [0.0627451  0.         0.07058824 ... 0.48235294 0.46666667 0.47843137]\n",
            " [0.09803922 0.0627451  0.19215686 ... 0.4627451  0.47058824 0.42745098]\n",
            " ...\n",
            " [0.81568627 0.78823529 0.77647059 ... 0.62745098 0.21960784 0.20784314]\n",
            " [0.70588235 0.67843137 0.72941176 ... 0.72156863 0.38039216 0.3254902 ]\n",
            " [0.69411765 0.65882353 0.70196078 ... 0.84705882 0.59215686 0.48235294]]\n",
            "\n",
            "valores dentro de y\n",
            "[0. 0. 0. 0. 0. 0. 1. 0. 0. 0.]\n"
          ],
          "name": "stdout"
        }
      ]
    },
    {
      "cell_type": "markdown",
      "metadata": {
        "id": "K1z5JeVheSAM",
        "colab_type": "text"
      },
      "source": [
        "Hago modelo normalito"
      ]
    },
    {
      "cell_type": "code",
      "metadata": {
        "id": "yV_RwPKWeUdu",
        "colab_type": "code",
        "outputId": "ca248ec1-eacf-440d-d33e-35b0a8ac4246",
        "colab": {
          "base_uri": "https://localhost:8080/",
          "height": 532
        }
      },
      "source": [
        "model = Sequential([Convolution2D(filters=32,#32 filtros\n",
        "                                  kernel_size = (3, 3), #tamaño filtro\n",
        "                                  input_shape = (32, 32, 3)),#first conv layer#se debe saber el tamaño de imagen\n",
        "                                  Activation('relu'),#fn de activacion\n",
        "                    Convolution2D(filters=32,#la salida anterior entra a otra convolucion\n",
        "                                  kernel_size = (3, 3)), #tamaño filtro\n",
        "                                  Activation('relu'),\n",
        "                    MaxPooling2D(pool_size=(2,2)),#reduzco con maxpooling a 2,2\n",
        "                    Flatten(),#flatten the output tensor\n",
        "                    Dense(512),#fully conected hidden layer capa densa de 64 neuronas\n",
        "                    Activation('relu'),\n",
        "                    Dense(10),# densa de 10 porque tiene 10 posibles valores a clasificar\n",
        "                    Activation('softmax')])#clasificacion de softmax, entrega prob de pertener a cada modelo\n",
        "print(model.summary()) # mustra como se construye el modelo"
      ],
      "execution_count": 0,
      "outputs": [
        {
          "output_type": "stream",
          "text": [
            "Model: \"sequential_3\"\n",
            "_________________________________________________________________\n",
            "Layer (type)                 Output Shape              Param #   \n",
            "=================================================================\n",
            "conv2d_5 (Conv2D)            (None, 30, 30, 32)        896       \n",
            "_________________________________________________________________\n",
            "activation_9 (Activation)    (None, 30, 30, 32)        0         \n",
            "_________________________________________________________________\n",
            "conv2d_6 (Conv2D)            (None, 28, 28, 32)        9248      \n",
            "_________________________________________________________________\n",
            "activation_10 (Activation)   (None, 28, 28, 32)        0         \n",
            "_________________________________________________________________\n",
            "max_pooling2d_3 (MaxPooling2 (None, 14, 14, 32)        0         \n",
            "_________________________________________________________________\n",
            "flatten_3 (Flatten)          (None, 6272)              0         \n",
            "_________________________________________________________________\n",
            "dense_5 (Dense)              (None, 512)               3211776   \n",
            "_________________________________________________________________\n",
            "activation_11 (Activation)   (None, 512)               0         \n",
            "_________________________________________________________________\n",
            "dense_6 (Dense)              (None, 10)                5130      \n",
            "_________________________________________________________________\n",
            "activation_12 (Activation)   (None, 10)                0         \n",
            "=================================================================\n",
            "Total params: 3,227,050\n",
            "Trainable params: 3,227,050\n",
            "Non-trainable params: 0\n",
            "_________________________________________________________________\n",
            "None\n"
          ],
          "name": "stdout"
        }
      ]
    },
    {
      "cell_type": "markdown",
      "metadata": {
        "id": "0Xk1xIsrzoWF",
        "colab_type": "text"
      },
      "source": [
        "### Prueba 1 con GPU "
      ]
    },
    {
      "cell_type": "code",
      "metadata": {
        "id": "GIKoIR2VwwVV",
        "colab_type": "code",
        "outputId": "c4b6e4a3-fac9-420c-da21-e1f80ec6d8ac",
        "colab": {
          "base_uri": "https://localhost:8080/"
        }
      },
      "source": [
        "model.compile(loss='categorical_crossentropy',metrics=['accuracy'], optimizer='adadelta')        #no solo capas sino que se optimiza, neuronas conectadas, listas\n",
        "model.fit(x_train, y_train, batch_size=32, epochs=50, validation_split=0.3, verbose=1)# aquí el entrenamiento del modelo bachsize se entrena de a 100 hasta como con todas# epochs es cantidad de rep que usa el modelo, validacion 10%, verbose muestra avance \n",
        "score = model.evaluate(x_test, y_test, verbose=1)# evaluo modelo con conjunto test final\n",
        "print('Test accuracy: ', score[1])\n",
        "#COMO PLOTEO EL VAL_ACCURACY por cada epoch??? \n",
        "tiempo_final = time()\n",
        "tiempo_ejecucion = tiempo_final - tiempo_inicial\n",
        "print('El tiempo de ejecucion fue: ', tiempo_ejecucion)"
      ],
      "execution_count": 0,
      "outputs": [
        {
          "output_type": "stream",
          "text": [
            "Train on 35000 samples, validate on 15000 samples\n",
            "Epoch 1/50\n",
            "35000/35000 [==============================] - 7s 197us/step - loss: 3.1281 - accuracy: 0.2417 - val_loss: 1.8412 - val_accuracy: 0.3503\n",
            "Epoch 2/50\n",
            "35000/35000 [==============================] - 7s 192us/step - loss: 1.6426 - accuracy: 0.4209 - val_loss: 1.5658 - val_accuracy: 0.4497\n",
            "Epoch 3/50\n",
            "35000/35000 [==============================] - 7s 194us/step - loss: 1.2875 - accuracy: 0.5576 - val_loss: 1.4223 - val_accuracy: 0.5102\n",
            "Epoch 4/50\n",
            "35000/35000 [==============================] - 7s 193us/step - loss: 0.9402 - accuracy: 0.6837 - val_loss: 1.5543 - val_accuracy: 0.5466\n",
            "Epoch 5/50\n",
            "35000/35000 [==============================] - 7s 191us/step - loss: 0.6011 - accuracy: 0.7993 - val_loss: 1.8293 - val_accuracy: 0.5420\n",
            "Epoch 6/50\n",
            "35000/35000 [==============================] - 7s 189us/step - loss: 0.3195 - accuracy: 0.8966 - val_loss: 2.2486 - val_accuracy: 0.5339\n",
            "Epoch 7/50\n",
            "35000/35000 [==============================] - 7s 191us/step - loss: 0.1656 - accuracy: 0.9480 - val_loss: 3.2324 - val_accuracy: 0.5582\n",
            "Epoch 8/50\n",
            "35000/35000 [==============================] - 7s 192us/step - loss: 0.0986 - accuracy: 0.9708 - val_loss: 3.3340 - val_accuracy: 0.5189\n",
            "Epoch 9/50\n",
            "35000/35000 [==============================] - 7s 192us/step - loss: 0.0680 - accuracy: 0.9825 - val_loss: 4.1655 - val_accuracy: 0.5622\n",
            "Epoch 10/50\n",
            "35000/35000 [==============================] - 7s 193us/step - loss: 0.0512 - accuracy: 0.9854 - val_loss: 4.6361 - val_accuracy: 0.5585\n",
            "Epoch 11/50\n",
            "35000/35000 [==============================] - 7s 192us/step - loss: 0.0506 - accuracy: 0.9867 - val_loss: 4.4083 - val_accuracy: 0.5465\n",
            "Epoch 12/50\n",
            "35000/35000 [==============================] - 7s 193us/step - loss: 0.0372 - accuracy: 0.9901 - val_loss: 5.0613 - val_accuracy: 0.5480\n",
            "Epoch 13/50\n",
            "35000/35000 [==============================] - 7s 192us/step - loss: 0.0333 - accuracy: 0.9914 - val_loss: 5.5484 - val_accuracy: 0.5637\n",
            "Epoch 14/50\n",
            "35000/35000 [==============================] - 7s 192us/step - loss: 0.0322 - accuracy: 0.9918 - val_loss: 6.3353 - val_accuracy: 0.5673\n",
            "Epoch 15/50\n",
            "35000/35000 [==============================] - 7s 195us/step - loss: 0.0247 - accuracy: 0.9932 - val_loss: 6.3501 - val_accuracy: 0.5356\n",
            "Epoch 16/50\n",
            "35000/35000 [==============================] - 7s 194us/step - loss: 0.0302 - accuracy: 0.9923 - val_loss: 6.1341 - val_accuracy: 0.5521\n",
            "Epoch 17/50\n",
            "35000/35000 [==============================] - 7s 193us/step - loss: 0.0310 - accuracy: 0.9929 - val_loss: 6.9073 - val_accuracy: 0.5585\n",
            "Epoch 18/50\n",
            "35000/35000 [==============================] - 7s 193us/step - loss: 0.0293 - accuracy: 0.9938 - val_loss: 7.2019 - val_accuracy: 0.5637\n",
            "Epoch 19/50\n",
            "35000/35000 [==============================] - 7s 194us/step - loss: 0.0277 - accuracy: 0.9953 - val_loss: 6.9540 - val_accuracy: 0.5551\n",
            "Epoch 20/50\n",
            "35000/35000 [==============================] - 7s 192us/step - loss: 0.0249 - accuracy: 0.9943 - val_loss: 7.3388 - val_accuracy: 0.5546\n",
            "Epoch 21/50\n",
            "35000/35000 [==============================] - 7s 192us/step - loss: 0.0202 - accuracy: 0.9957 - val_loss: 8.7554 - val_accuracy: 0.5539\n",
            "Epoch 22/50\n",
            "35000/35000 [==============================] - 7s 193us/step - loss: 0.0210 - accuracy: 0.9955 - val_loss: 7.5359 - val_accuracy: 0.5579\n",
            "Epoch 23/50\n",
            "35000/35000 [==============================] - 7s 193us/step - loss: 0.0161 - accuracy: 0.9958 - val_loss: 9.4321 - val_accuracy: 0.5488\n",
            "Epoch 24/50\n",
            "35000/35000 [==============================] - 7s 192us/step - loss: 0.0168 - accuracy: 0.9961 - val_loss: 9.5738 - val_accuracy: 0.5647\n",
            "Epoch 25/50\n",
            "35000/35000 [==============================] - 7s 192us/step - loss: 0.0200 - accuracy: 0.9952 - val_loss: 8.8385 - val_accuracy: 0.5521\n",
            "Epoch 26/50\n",
            "35000/35000 [==============================] - 7s 192us/step - loss: 0.0207 - accuracy: 0.9964 - val_loss: 8.7369 - val_accuracy: 0.5450\n",
            "Epoch 27/50\n",
            "35000/35000 [==============================] - 7s 195us/step - loss: 0.0223 - accuracy: 0.9955 - val_loss: 9.8917 - val_accuracy: 0.5415\n",
            "Epoch 28/50\n",
            "35000/35000 [==============================] - 7s 194us/step - loss: 0.0209 - accuracy: 0.9962 - val_loss: 9.4870 - val_accuracy: 0.5565\n",
            "Epoch 29/50\n",
            "35000/35000 [==============================] - 7s 193us/step - loss: 0.0225 - accuracy: 0.9957 - val_loss: 9.9915 - val_accuracy: 0.5523\n",
            "Epoch 30/50\n",
            "35000/35000 [==============================] - 7s 193us/step - loss: 0.0293 - accuracy: 0.9943 - val_loss: 8.3170 - val_accuracy: 0.5471\n",
            "Epoch 31/50\n",
            "35000/35000 [==============================] - 7s 192us/step - loss: 0.0211 - accuracy: 0.9959 - val_loss: 10.1181 - val_accuracy: 0.5556\n",
            "Epoch 32/50\n",
            "35000/35000 [==============================] - 7s 197us/step - loss: 0.0250 - accuracy: 0.9953 - val_loss: 11.0641 - val_accuracy: 0.5537\n",
            "Epoch 33/50\n",
            "35000/35000 [==============================] - 7s 195us/step - loss: 0.0244 - accuracy: 0.9957 - val_loss: 10.6094 - val_accuracy: 0.5619\n",
            "Epoch 34/50\n",
            "35000/35000 [==============================] - 7s 199us/step - loss: 0.0226 - accuracy: 0.9960 - val_loss: 10.7355 - val_accuracy: 0.5542\n",
            "Epoch 35/50\n",
            "35000/35000 [==============================] - 7s 202us/step - loss: 0.0247 - accuracy: 0.9959 - val_loss: 10.6792 - val_accuracy: 0.5623\n",
            "Epoch 36/50\n",
            "35000/35000 [==============================] - 7s 192us/step - loss: 0.0157 - accuracy: 0.9974 - val_loss: 11.0254 - val_accuracy: 0.5585\n",
            "Epoch 37/50\n",
            "35000/35000 [==============================] - 7s 192us/step - loss: 0.0150 - accuracy: 0.9971 - val_loss: 12.4209 - val_accuracy: 0.5611\n",
            "Epoch 38/50\n",
            "35000/35000 [==============================] - 7s 192us/step - loss: 0.0205 - accuracy: 0.9964 - val_loss: 11.1377 - val_accuracy: 0.5501\n",
            "Epoch 39/50\n",
            "35000/35000 [==============================] - 7s 196us/step - loss: 0.0214 - accuracy: 0.9962 - val_loss: 11.3351 - val_accuracy: 0.5591\n",
            "Epoch 40/50\n",
            "35000/35000 [==============================] - 7s 193us/step - loss: 0.0161 - accuracy: 0.9969 - val_loss: 11.0468 - val_accuracy: 0.5560\n",
            "Epoch 41/50\n",
            "35000/35000 [==============================] - 7s 193us/step - loss: 0.0167 - accuracy: 0.9973 - val_loss: 12.9384 - val_accuracy: 0.5641\n",
            "Epoch 42/50\n",
            "35000/35000 [==============================] - 7s 194us/step - loss: 0.0127 - accuracy: 0.9975 - val_loss: 12.7280 - val_accuracy: 0.5703\n",
            "Epoch 43/50\n",
            "35000/35000 [==============================] - 7s 192us/step - loss: 0.0142 - accuracy: 0.9971 - val_loss: 12.0407 - val_accuracy: 0.5578\n",
            "Epoch 44/50\n",
            "35000/35000 [==============================] - 7s 192us/step - loss: 0.0176 - accuracy: 0.9968 - val_loss: 12.4921 - val_accuracy: 0.5695\n",
            "Epoch 45/50\n",
            "35000/35000 [==============================] - 7s 193us/step - loss: 0.0178 - accuracy: 0.9967 - val_loss: 12.3824 - val_accuracy: 0.5516\n",
            "Epoch 46/50\n",
            "35000/35000 [==============================] - 7s 193us/step - loss: 0.0209 - accuracy: 0.9962 - val_loss: 13.5579 - val_accuracy: 0.5715\n",
            "Epoch 47/50\n",
            "35000/35000 [==============================] - 7s 193us/step - loss: 0.0225 - accuracy: 0.9965 - val_loss: 14.4678 - val_accuracy: 0.5580\n",
            "Epoch 48/50\n",
            "35000/35000 [==============================] - 7s 194us/step - loss: 0.0137 - accuracy: 0.9978 - val_loss: 12.9652 - val_accuracy: 0.5628\n",
            "Epoch 49/50\n",
            "35000/35000 [==============================] - 7s 193us/step - loss: 0.0108 - accuracy: 0.9981 - val_loss: 13.9970 - val_accuracy: 0.5709\n",
            "Epoch 50/50\n",
            "35000/35000 [==============================] - 7s 195us/step - loss: 0.0126 - accuracy: 0.9978 - val_loss: 14.0825 - val_accuracy: 0.5601\n",
            "10000/10000 [==============================] - 1s 74us/step\n",
            "Test accuracy:  0.5640000104904175\n",
            "El tiempo de ejecucion fue:  678.9473586082458\n"
          ],
          "name": "stdout"
        }
      ]
    },
    {
      "cell_type": "markdown",
      "metadata": {
        "id": "ux7lyJF4sQfO",
        "colab_type": "text"
      },
      "source": [
        "### Prueba 2 con GPU "
      ]
    },
    {
      "cell_type": "code",
      "metadata": {
        "id": "9B3OoGBdsO6O",
        "colab_type": "code",
        "outputId": "4b10549d-9f0b-4c80-bd8c-cf3ef18fe633",
        "colab": {
          "base_uri": "https://localhost:8080/"
        }
      },
      "source": [
        "model = Sequential([Convolution2D(filters=32,#32 filtros\n",
        "                                  kernel_size = (3, 3), #tamaño filtro\n",
        "                                  input_shape = (32, 32, 3)),#first conv layer#se debe saber el tamaño de imagen\n",
        "                                  Activation('relu'),#fn de activacion\n",
        "                    Convolution2D(filters=32,#la salida anterior entra a otra convolucion\n",
        "                                  kernel_size = (3, 3)), #tamaño filtro\n",
        "                                  Activation('relu'),\n",
        "                    MaxPooling2D(pool_size=(2,2)),#reduzco con maxpooling a 2,2\n",
        "                    Flatten(),#flatten the output tensor\n",
        "                    Dense(512),#fully conected hidden layer capa densa de 64 neuronas\n",
        "                    Activation('relu'),\n",
        "                    Dropout(0.5),#dropout de 0.25\n",
        "                    Dense(10),# densa de 10 porque tiene 10 posibles valores a clasificar\n",
        "                    Activation('softmax')])#clasificacion de softmax, entrega prob de pertener a cada modelo\n",
        "print(model.summary()) # mustra como se construye el modelo\n",
        "\n",
        "model.compile(loss='categorical_crossentropy',metrics=['accuracy'], optimizer='adadelta')        #no solo capas sino que se optimiza, neuronas conectadas, listas\n",
        "history = model.fit(x_train, y_train, batch_size=64, epochs=10, validation_split=0.1, verbose=1)# aquí el entrenamiento del modelo bachsize se entrena de a 100 hasta como con todas# epochs es cantidad de rep que usa el modelo, validacion 10%, verbose muestra avance \n",
        "\n",
        "score, acc = model.evaluate(x_test, y_test, verbose=1)#score = model.evaluate(x_test, y_test, verbose=1)# evaluo modelo con conjunto test final\n",
        "#print('Test accuracy: ', score[1])\n",
        "print('Test score:', score)\n",
        "print('Test accuracy:', acc)\n",
        "print('score', score)\n",
        "#plt.plot(score)\n",
        "\n",
        "tiempo_final = time()\n",
        "tiempo_ejecucion = tiempo_final - tiempo_inicial\n",
        "print('El tiempo de ejecucion fue: ', tiempo_ejecucion)\n",
        "\n",
        "#PLOTEANDO BBY\n",
        "history_dict = history.history #paso info a dictionary\n",
        "\n",
        "print(history_dict)\n",
        "history_dict.keys()\n",
        "\n",
        "acc      = history.history['accuracy' ]\n",
        "val_acc  = history.history[ 'val_accuracy' ]\n",
        "loss     = history.history[ 'loss' ]\n",
        "val_loss = history.history['val_loss' ]\n",
        "\n",
        "epochs   = range(1,len(acc)+1,1)\n",
        "print(epochs)\n",
        "\n",
        "\n",
        "plt.plot ( epochs,     acc, 'r--', label='Training accuracy'  )\n",
        "plt.plot ( epochs, val_acc,  'b', label='Validation accuracy')\n",
        "plt.title ('Training and validation accuracy')\n",
        "plt.ylabel('acc')\n",
        "plt.xlabel('epochs')\n",
        "\n",
        "plt.legend()\n",
        "plt.figure()\n",
        "\n",
        "plt.plot ( epochs,     loss, 'r--' ,label='Loss'  )\n",
        "plt.plot ( epochs, val_loss ,  'b',label='val_loss'   )\n",
        "plt.title ('Training and validation loss'   )\n",
        "plt.ylabel('loss')\n",
        "plt.xlabel('epochs')\n",
        "\n",
        "plt.legend()\n",
        "plt.figure()"
      ],
      "execution_count": 0,
      "outputs": [
        {
          "output_type": "stream",
          "text": [
            "Model: \"sequential_14\"\n",
            "_________________________________________________________________\n",
            "Layer (type)                 Output Shape              Param #   \n",
            "=================================================================\n",
            "conv2d_29 (Conv2D)           (None, 30, 30, 32)        896       \n",
            "_________________________________________________________________\n",
            "activation_56 (Activation)   (None, 30, 30, 32)        0         \n",
            "_________________________________________________________________\n",
            "conv2d_30 (Conv2D)           (None, 28, 28, 32)        9248      \n",
            "_________________________________________________________________\n",
            "activation_57 (Activation)   (None, 28, 28, 32)        0         \n",
            "_________________________________________________________________\n",
            "max_pooling2d_15 (MaxPooling (None, 14, 14, 32)        0         \n",
            "_________________________________________________________________\n",
            "flatten_15 (Flatten)         (None, 6272)              0         \n",
            "_________________________________________________________________\n",
            "dense_28 (Dense)             (None, 512)               3211776   \n",
            "_________________________________________________________________\n",
            "activation_58 (Activation)   (None, 512)               0         \n",
            "_________________________________________________________________\n",
            "dropout_11 (Dropout)         (None, 512)               0         \n",
            "_________________________________________________________________\n",
            "dense_29 (Dense)             (None, 10)                5130      \n",
            "_________________________________________________________________\n",
            "activation_59 (Activation)   (None, 10)                0         \n",
            "=================================================================\n",
            "Total params: 3,227,050\n",
            "Trainable params: 3,227,050\n",
            "Non-trainable params: 0\n",
            "_________________________________________________________________\n",
            "None\n",
            "Train on 45000 samples, validate on 5000 samples\n",
            "Epoch 1/10\n",
            "45000/45000 [==============================] - 5s 110us/step - loss: 3.6304 - accuracy: 0.2373 - val_loss: 2.7071 - val_accuracy: 0.2790\n",
            "Epoch 2/10\n",
            "45000/45000 [==============================] - 5s 106us/step - loss: 1.7008 - accuracy: 0.3998 - val_loss: 1.6700 - val_accuracy: 0.3952\n",
            "Epoch 3/10\n",
            "45000/45000 [==============================] - 5s 106us/step - loss: 1.4232 - accuracy: 0.5049 - val_loss: 1.4870 - val_accuracy: 0.4678\n",
            "Epoch 4/10\n",
            "45000/45000 [==============================] - 5s 106us/step - loss: 1.2150 - accuracy: 0.5825 - val_loss: 1.5178 - val_accuracy: 0.4832\n",
            "Epoch 5/10\n",
            "45000/45000 [==============================] - 5s 106us/step - loss: 1.0479 - accuracy: 0.6462 - val_loss: 2.0248 - val_accuracy: 0.4860\n",
            "Epoch 6/10\n",
            "45000/45000 [==============================] - 5s 105us/step - loss: 0.8927 - accuracy: 0.6982 - val_loss: 1.3245 - val_accuracy: 0.5826\n",
            "Epoch 7/10\n",
            "45000/45000 [==============================] - 5s 106us/step - loss: 0.7688 - accuracy: 0.7453 - val_loss: 1.4091 - val_accuracy: 0.5660\n",
            "Epoch 8/10\n",
            "45000/45000 [==============================] - 5s 109us/step - loss: 0.6705 - accuracy: 0.7779 - val_loss: 1.4853 - val_accuracy: 0.5872\n",
            "Epoch 9/10\n",
            "45000/45000 [==============================] - 5s 105us/step - loss: 0.5845 - accuracy: 0.8098 - val_loss: 1.5381 - val_accuracy: 0.6126\n",
            "Epoch 10/10\n",
            "45000/45000 [==============================] - 5s 106us/step - loss: 0.5185 - accuracy: 0.8335 - val_loss: 1.5385 - val_accuracy: 0.6068\n",
            "10000/10000 [==============================] - 1s 76us/step\n",
            "Test score: 1.5137268878936767\n",
            "Test accuracy: 0.5949000120162964\n",
            "score 1.5137268878936767\n",
            "El tiempo de ejecucion fue:  2834.2147076129913\n",
            "{'val_loss': [2.7071220848083497, 1.6699552488327027, 1.4870010795593263, 1.5177826461791992, 2.024809810638428, 1.3245052532196044, 1.4091442413330078, 1.4852561485290527, 1.5381487007141112, 1.5384536903381347], 'val_accuracy': [0.27900001406669617, 0.3952000141143799, 0.46779999136924744, 0.4832000136375427, 0.4860000014305115, 0.5825999975204468, 0.5659999847412109, 0.5871999859809875, 0.6126000285148621, 0.6068000197410583], 'loss': [3.6303886388142903, 1.700766482586331, 1.4231586360083686, 1.215021125072903, 1.0479391446643405, 0.8926812617407904, 0.7688220606274075, 0.670525697877672, 0.5845019472241402, 0.5184713496949938], 'accuracy': [0.23728889, 0.39975557, 0.5049111, 0.58246666, 0.64622223, 0.6981556, 0.7453333, 0.7778889, 0.80975556, 0.8334889]}\n",
            "range(1, 11)\n"
          ],
          "name": "stdout"
        },
        {
          "output_type": "execute_result",
          "data": {
            "text/plain": [
              "<Figure size 432x288 with 0 Axes>"
            ]
          },
          "metadata": {
            "tags": []
          },
          "execution_count": 64
        },
        {
          "output_type": "display_data",
          "data": {
            "image/png": "[encoded data removed]",
            "text/plain": [
              "<Figure size 432x288 with 1 Axes>"
            ]
          },
          "metadata": {
            "tags": [],
            "needs_background": "light"
          }
        },
        {
          "output_type": "display_data",
          "data": {
            "image/png": "[encoded data removed]",
            "text/plain": [
              "<Figure size 432x288 with 1 Axes>"
            ]
          },
          "metadata": {
            "tags": [],
            "needs_background": "light"
          }
        },
        {
          "output_type": "display_data",
          "data": {
            "text/plain": [
              "<Figure size 432x288 with 0 Axes>"
            ]
          },
          "metadata": {
            "tags": []
          }
        }
      ]
    },
    {
      "cell_type": "markdown",
      "metadata": {
        "id": "6tliOqrK8LQn",
        "colab_type": "text"
      },
      "source": [
        "### Prueba 3 con gpu graficas y revolcon"
      ]
    },
    {
      "cell_type": "code",
      "metadata": {
        "id": "BnZeVJOQ403v",
        "colab_type": "code",
        "outputId": "d5c70e18-216d-401d-f7e1-ab9bcca96d52",
        "colab": {
          "base_uri": "https://localhost:8080/",
          "height": 1000
        }
      },
      "source": [
        "model = Sequential([Convolution2D(filters=32,#32 filtros\n",
        "                                  kernel_size = (5, 5), #tamaño filtro\n",
        "                                  padding = 'same',\n",
        "                                  input_shape = (32, 32, 3)),#first conv layer#se debe saber el tamaño de imagen\n",
        "                    Activation('relu'),#fn de activacion\n",
        "                    MaxPooling2D(pool_size=(2,2)),\n",
        "                    Convolution2D(filters=64,#la salida anterior entra a otra convolucion\n",
        "                                  kernel_size = (3, 3), #tamaño filtro\n",
        "                                  padding = 'same'),\n",
        "                    Activation('relu'),\n",
        "                    Dropout(0.35),\n",
        "                    MaxPooling2D(pool_size=(2,2)),\n",
        "                    Convolution2D(filters=96,#la salida anterior entra a otra convolucion\n",
        "                    kernel_size = (3, 3), #tamaño filtro\n",
        "                    padding = 'same'),\n",
        "                    Activation('relu'),\n",
        "                    MaxPooling2D(pool_size=(2,2)),#reduzco con maxpooling a 2,2\n",
        "                    Dropout(0.35),\n",
        "                    Convolution2D(filters=96,#la salida anterior entra a otra convolucion\n",
        "                    kernel_size = (3, 3), #tamaño filtro\n",
        "                    padding = 'same'),\n",
        "                    Activation('relu'),\n",
        "                    MaxPooling2D(pool_size=(2,2)), \n",
        "                    Flatten(),#flatten the output tensor\n",
        "                    Dense(288),#fully conected hidden layer capa densa de 64 neuronas\n",
        "                    Activation('relu'),\n",
        "                    Dropout(0.5),#dropout de 0.5\n",
        "                    Dense(10),# densa de 10 porque tiene 10 posibles valores a clasificar\n",
        "                    Activation('softmax')])#clasificacion de softmax, entrega prob de pertener a cada modelo\n",
        "print(model.summary()) # mustra como se construye el modelo\n",
        "\n",
        "model.compile(loss='categorical_crossentropy',metrics=['accuracy'], optimizer='adam')        #no solo capas sino que se optimiza, neuronas conectadas, listas\n",
        "history = model.fit(x_train, y_train, batch_size=128, epochs=50, validation_split=0.1, verbose=1)#Bactch size al doble64*2 aquí el entrenamiento del modelo bachsize se entrena de a 100 hasta como con todas# epochs es cantidad de rep que usa el modelo, validacion 10%, verbose muestra avance \n",
        "\n",
        "score, acc = model.evaluate(x_test, y_test, verbose=1)#score = model.evaluate(x_test, y_test, verbose=1)# evaluo modelo con conjunto test final\n",
        "#print('Test accuracy: ', score[1])\n",
        "print('Test score:', score)\n",
        "print('Test accuracy:', acc)\n",
        "print('score', score)\n",
        "#plt.plot(score)\n",
        "\n",
        "tiempo_final = time()\n",
        "tiempo_ejecucion = tiempo_final - tiempo_inicial\n",
        "print('El tiempo de ejecucion fue: ', tiempo_ejecucion)\n",
        "\n",
        "#PLOTEANDO BBY\n",
        "history_dict = history.history #paso info a dictionary\n",
        "\n",
        "print(history_dict)\n",
        "history_dict.keys()\n",
        "\n",
        "acc      = history.history['accuracy' ]\n",
        "val_acc  = history.history[ 'val_accuracy' ]\n",
        "loss     = history.history[ 'loss' ]\n",
        "val_loss = history.history['val_loss' ]\n",
        "\n",
        "epochs   = range(1,len(acc)+1,1)\n",
        "print(epochs)\n",
        "\n",
        "\n",
        "plt.plot ( epochs,     acc, 'r--', label='Training accuracy'  )\n",
        "plt.plot ( epochs, val_acc,  'b', label='Validation accuracy')\n",
        "plt.title ('Training and validation accuracy')\n",
        "plt.ylabel('acc')\n",
        "plt.xlabel('epochs')\n",
        "\n",
        "plt.legend()\n",
        "plt.figure()\n",
        "\n",
        "plt.plot ( epochs,     loss, 'r--' ,label='Loss'  )\n",
        "plt.plot ( epochs, val_loss ,  'b',label='val_loss'   )\n",
        "plt.title ('Training and validation loss'   )\n",
        "plt.ylabel('loss')\n",
        "plt.xlabel('epochs')\n",
        "\n",
        "plt.legend()\n",
        "plt.figure()"
      ],
      "execution_count": 16,
      "outputs": [
        {
          "output_type": "stream",
          "text": [
            "Model: \"sequential_9\"\n",
            "_________________________________________________________________\n",
            "Layer (type)                 Output Shape              Param #   \n",
            "=================================================================\n",
            "conv2d_33 (Conv2D)           (None, 32, 32, 32)        2432      \n",
            "_________________________________________________________________\n",
            "activation_49 (Activation)   (None, 32, 32, 32)        0         \n",
            "_________________________________________________________________\n",
            "max_pooling2d_33 (MaxPooling (None, 16, 16, 32)        0         \n",
            "_________________________________________________________________\n",
            "conv2d_34 (Conv2D)           (None, 16, 16, 64)        18496     \n",
            "_________________________________________________________________\n",
            "activation_50 (Activation)   (None, 16, 16, 64)        0         \n",
            "_________________________________________________________________\n",
            "dropout_26 (Dropout)         (None, 16, 16, 64)        0         \n",
            "_________________________________________________________________\n",
            "max_pooling2d_34 (MaxPooling (None, 8, 8, 64)          0         \n",
            "_________________________________________________________________\n",
            "conv2d_35 (Conv2D)           (None, 8, 8, 96)          55392     \n",
            "_________________________________________________________________\n",
            "activation_51 (Activation)   (None, 8, 8, 96)          0         \n",
            "_________________________________________________________________\n",
            "max_pooling2d_35 (MaxPooling (None, 4, 4, 96)          0         \n",
            "_________________________________________________________________\n",
            "dropout_27 (Dropout)         (None, 4, 4, 96)          0         \n",
            "_________________________________________________________________\n",
            "conv2d_36 (Conv2D)           (None, 4, 4, 96)          83040     \n",
            "_________________________________________________________________\n",
            "activation_52 (Activation)   (None, 4, 4, 96)          0         \n",
            "_________________________________________________________________\n",
            "max_pooling2d_36 (MaxPooling (None, 2, 2, 96)          0         \n",
            "_________________________________________________________________\n",
            "flatten_9 (Flatten)          (None, 384)               0         \n",
            "_________________________________________________________________\n",
            "dense_17 (Dense)             (None, 288)               110880    \n",
            "_________________________________________________________________\n",
            "activation_53 (Activation)   (None, 288)               0         \n",
            "_________________________________________________________________\n",
            "dropout_28 (Dropout)         (None, 288)               0         \n",
            "_________________________________________________________________\n",
            "dense_18 (Dense)             (None, 10)                2890      \n",
            "_________________________________________________________________\n",
            "activation_54 (Activation)   (None, 10)                0         \n",
            "=================================================================\n",
            "Total params: 273,130\n",
            "Trainable params: 273,130\n",
            "Non-trainable params: 0\n",
            "_________________________________________________________________\n",
            "None\n",
            "Train on 45000 samples, validate on 5000 samples\n",
            "Epoch 1/50\n",
            "45000/45000 [==============================] - 4s 82us/step - loss: 1.7245 - accuracy: 0.3563 - val_loss: 1.4747 - val_accuracy: 0.4870\n",
            "Epoch 2/50\n",
            "45000/45000 [==============================] - 3s 76us/step - loss: 1.3813 - accuracy: 0.4963 - val_loss: 1.2132 - val_accuracy: 0.5832\n",
            "Epoch 3/50\n",
            "45000/45000 [==============================] - 3s 75us/step - loss: 1.2201 - accuracy: 0.5620 - val_loss: 1.1081 - val_accuracy: 0.6254\n",
            "Epoch 4/50\n",
            "45000/45000 [==============================] - 3s 75us/step - loss: 1.1082 - accuracy: 0.6054 - val_loss: 0.9914 - val_accuracy: 0.6700\n",
            "Epoch 5/50\n",
            "45000/45000 [==============================] - 3s 76us/step - loss: 1.0373 - accuracy: 0.6328 - val_loss: 0.9446 - val_accuracy: 0.6850\n",
            "Epoch 6/50\n",
            "45000/45000 [==============================] - 3s 75us/step - loss: 0.9676 - accuracy: 0.6598 - val_loss: 0.8794 - val_accuracy: 0.6960\n",
            "Epoch 7/50\n",
            "45000/45000 [==============================] - 3s 75us/step - loss: 0.9163 - accuracy: 0.6788 - val_loss: 0.8815 - val_accuracy: 0.7068\n",
            "Epoch 8/50\n",
            "45000/45000 [==============================] - 3s 75us/step - loss: 0.8766 - accuracy: 0.6938 - val_loss: 0.8249 - val_accuracy: 0.7234\n",
            "Epoch 9/50\n",
            "45000/45000 [==============================] - 3s 75us/step - loss: 0.8345 - accuracy: 0.7071 - val_loss: 0.7475 - val_accuracy: 0.7464\n",
            "Epoch 10/50\n",
            "45000/45000 [==============================] - 3s 75us/step - loss: 0.8018 - accuracy: 0.7205 - val_loss: 0.7719 - val_accuracy: 0.7432\n",
            "Epoch 11/50\n",
            "45000/45000 [==============================] - 3s 76us/step - loss: 0.7750 - accuracy: 0.7284 - val_loss: 0.7584 - val_accuracy: 0.7462\n",
            "Epoch 12/50\n",
            "45000/45000 [==============================] - 4s 79us/step - loss: 0.7557 - accuracy: 0.7374 - val_loss: 0.7206 - val_accuracy: 0.7516\n",
            "Epoch 13/50\n",
            "45000/45000 [==============================] - 4s 81us/step - loss: 0.7299 - accuracy: 0.7438 - val_loss: 0.6739 - val_accuracy: 0.7668\n",
            "Epoch 14/50\n",
            "45000/45000 [==============================] - 4s 79us/step - loss: 0.7102 - accuracy: 0.7486 - val_loss: 0.6968 - val_accuracy: 0.7612\n",
            "Epoch 15/50\n",
            "45000/45000 [==============================] - 3s 76us/step - loss: 0.6916 - accuracy: 0.7556 - val_loss: 0.6830 - val_accuracy: 0.7648\n",
            "Epoch 16/50\n",
            "45000/45000 [==============================] - 3s 76us/step - loss: 0.6726 - accuracy: 0.7643 - val_loss: 0.6680 - val_accuracy: 0.7678\n",
            "Epoch 17/50\n",
            "45000/45000 [==============================] - 3s 75us/step - loss: 0.6718 - accuracy: 0.7642 - val_loss: 0.6808 - val_accuracy: 0.7628\n",
            "Epoch 18/50\n",
            "45000/45000 [==============================] - 3s 75us/step - loss: 0.6486 - accuracy: 0.7728 - val_loss: 0.6740 - val_accuracy: 0.7758\n",
            "Epoch 19/50\n",
            "45000/45000 [==============================] - 3s 75us/step - loss: 0.6401 - accuracy: 0.7744 - val_loss: 0.6826 - val_accuracy: 0.7700\n",
            "Epoch 20/50\n",
            "45000/45000 [==============================] - 3s 75us/step - loss: 0.6213 - accuracy: 0.7791 - val_loss: 0.6440 - val_accuracy: 0.7794\n",
            "Epoch 21/50\n",
            "45000/45000 [==============================] - 3s 74us/step - loss: 0.6182 - accuracy: 0.7846 - val_loss: 0.6529 - val_accuracy: 0.7782\n",
            "Epoch 22/50\n",
            "45000/45000 [==============================] - 3s 75us/step - loss: 0.6049 - accuracy: 0.7871 - val_loss: 0.6460 - val_accuracy: 0.7854\n",
            "Epoch 23/50\n",
            "45000/45000 [==============================] - 3s 76us/step - loss: 0.6024 - accuracy: 0.7905 - val_loss: 0.6306 - val_accuracy: 0.7848\n",
            "Epoch 24/50\n",
            "45000/45000 [==============================] - 3s 76us/step - loss: 0.5859 - accuracy: 0.7942 - val_loss: 0.6547 - val_accuracy: 0.7772\n",
            "Epoch 25/50\n",
            "45000/45000 [==============================] - 3s 76us/step - loss: 0.5765 - accuracy: 0.7988 - val_loss: 0.6293 - val_accuracy: 0.7874\n",
            "Epoch 26/50\n",
            "45000/45000 [==============================] - 3s 76us/step - loss: 0.5807 - accuracy: 0.7956 - val_loss: 0.6375 - val_accuracy: 0.7826\n",
            "Epoch 27/50\n",
            "45000/45000 [==============================] - 3s 75us/step - loss: 0.5623 - accuracy: 0.8004 - val_loss: 0.6183 - val_accuracy: 0.7946\n",
            "Epoch 28/50\n",
            "45000/45000 [==============================] - 3s 75us/step - loss: 0.5613 - accuracy: 0.8007 - val_loss: 0.6232 - val_accuracy: 0.7944\n",
            "Epoch 29/50\n",
            "45000/45000 [==============================] - 3s 76us/step - loss: 0.5375 - accuracy: 0.8111 - val_loss: 0.6324 - val_accuracy: 0.7890\n",
            "Epoch 30/50\n",
            "45000/45000 [==============================] - 3s 75us/step - loss: 0.5470 - accuracy: 0.8060 - val_loss: 0.6126 - val_accuracy: 0.7926\n",
            "Epoch 31/50\n",
            "45000/45000 [==============================] - 3s 77us/step - loss: 0.5389 - accuracy: 0.8104 - val_loss: 0.6256 - val_accuracy: 0.7880\n",
            "Epoch 32/50\n",
            "45000/45000 [==============================] - 3s 76us/step - loss: 0.5371 - accuracy: 0.8098 - val_loss: 0.5890 - val_accuracy: 0.8012\n",
            "Epoch 33/50\n",
            "45000/45000 [==============================] - 3s 75us/step - loss: 0.5166 - accuracy: 0.8173 - val_loss: 0.6054 - val_accuracy: 0.7968\n",
            "Epoch 34/50\n",
            "45000/45000 [==============================] - 3s 75us/step - loss: 0.5183 - accuracy: 0.8172 - val_loss: 0.6113 - val_accuracy: 0.7946\n",
            "Epoch 35/50\n",
            "45000/45000 [==============================] - 3s 76us/step - loss: 0.5214 - accuracy: 0.8168 - val_loss: 0.6428 - val_accuracy: 0.7848\n",
            "Epoch 36/50\n",
            "45000/45000 [==============================] - 3s 76us/step - loss: 0.5069 - accuracy: 0.8204 - val_loss: 0.6451 - val_accuracy: 0.7870\n",
            "Epoch 37/50\n",
            "45000/45000 [==============================] - 3s 75us/step - loss: 0.5085 - accuracy: 0.8201 - val_loss: 0.6088 - val_accuracy: 0.7932\n",
            "Epoch 38/50\n",
            "45000/45000 [==============================] - 3s 75us/step - loss: 0.4991 - accuracy: 0.8240 - val_loss: 0.6049 - val_accuracy: 0.7966\n",
            "Epoch 39/50\n",
            "45000/45000 [==============================] - 3s 76us/step - loss: 0.5006 - accuracy: 0.8239 - val_loss: 0.6153 - val_accuracy: 0.7940\n",
            "Epoch 40/50\n",
            "45000/45000 [==============================] - 3s 77us/step - loss: 0.4898 - accuracy: 0.8257 - val_loss: 0.6255 - val_accuracy: 0.7908\n",
            "Epoch 41/50\n",
            "45000/45000 [==============================] - 3s 77us/step - loss: 0.4911 - accuracy: 0.8255 - val_loss: 0.6395 - val_accuracy: 0.7884\n",
            "Epoch 42/50\n",
            "45000/45000 [==============================] - 3s 75us/step - loss: 0.4820 - accuracy: 0.8304 - val_loss: 0.6327 - val_accuracy: 0.7886\n",
            "Epoch 43/50\n",
            "45000/45000 [==============================] - 3s 75us/step - loss: 0.4787 - accuracy: 0.8305 - val_loss: 0.6345 - val_accuracy: 0.7904\n",
            "Epoch 44/50\n",
            "45000/45000 [==============================] - 3s 75us/step - loss: 0.4766 - accuracy: 0.8311 - val_loss: 0.5933 - val_accuracy: 0.8004\n",
            "Epoch 45/50\n",
            "45000/45000 [==============================] - 3s 75us/step - loss: 0.4788 - accuracy: 0.8306 - val_loss: 0.5909 - val_accuracy: 0.8026\n",
            "Epoch 46/50\n",
            "45000/45000 [==============================] - 3s 76us/step - loss: 0.4618 - accuracy: 0.8382 - val_loss: 0.6010 - val_accuracy: 0.8012\n",
            "Epoch 47/50\n",
            "45000/45000 [==============================] - 3s 77us/step - loss: 0.4643 - accuracy: 0.8357 - val_loss: 0.5967 - val_accuracy: 0.8024\n",
            "Epoch 48/50\n",
            "45000/45000 [==============================] - 3s 77us/step - loss: 0.4551 - accuracy: 0.8381 - val_loss: 0.6210 - val_accuracy: 0.7922\n",
            "Epoch 49/50\n",
            "45000/45000 [==============================] - 3s 77us/step - loss: 0.4502 - accuracy: 0.8404 - val_loss: 0.6284 - val_accuracy: 0.7948\n",
            "Epoch 50/50\n",
            "45000/45000 [==============================] - 3s 76us/step - loss: 0.4496 - accuracy: 0.8407 - val_loss: 0.5955 - val_accuracy: 0.8054\n",
            "10000/10000 [==============================] - 1s 91us/step\n",
            "Test score: 0.6266367958068848\n",
            "Test accuracy: 0.7907999753952026\n",
            "score 0.6266367958068848\n",
            "El tiempo de ejecucion fue:  3746.977293729782\n",
            "{'val_loss': [1.4747340187072755, 1.213179773902893, 1.1080602083206177, 0.9914409851074218, 0.9446109714508056, 0.8793790554046631, 0.881491195487976, 0.8248830268859864, 0.7474930011749268, 0.7719189834594726, 0.7583911679267883, 0.7205686176300049, 0.6738996276855469, 0.6968168546676635, 0.6829616771697998, 0.6680111110687256, 0.6808232612609864, 0.6739936115264893, 0.682576450920105, 0.6439797830581665, 0.6528878807067872, 0.6460347776412964, 0.6306456543922424, 0.6546775270462036, 0.6292856708526612, 0.6374826066970826, 0.6182805286407471, 0.6231797609329224, 0.6324380807876587, 0.6125752215385437, 0.6255846054077149, 0.5889885684967041, 0.6054440147399902, 0.6112962857246399, 0.642845545387268, 0.6451104900360107, 0.6088443687438965, 0.604891318321228, 0.6152837265014648, 0.62546633644104, 0.6395410526275634, 0.6327452816009521, 0.6345332347869873, 0.5933332834243774, 0.5908503145217896, 0.6010427694320679, 0.5966849925994873, 0.6210163698196411, 0.628441703414917, 0.5954719188690185], 'val_accuracy': [0.4869999885559082, 0.5831999778747559, 0.6254000067710876, 0.6700000166893005, 0.6850000023841858, 0.6959999799728394, 0.7067999839782715, 0.7233999967575073, 0.746399998664856, 0.7432000041007996, 0.7462000250816345, 0.7516000270843506, 0.7667999863624573, 0.7612000107765198, 0.7648000121116638, 0.767799973487854, 0.7627999782562256, 0.7757999897003174, 0.7699999809265137, 0.7793999910354614, 0.7781999707221985, 0.7853999733924866, 0.7847999930381775, 0.7771999835968018, 0.7874000072479248, 0.7825999855995178, 0.7946000099182129, 0.7943999767303467, 0.7889999747276306, 0.7925999760627747, 0.7879999876022339, 0.8011999726295471, 0.7968000173568726, 0.7946000099182129, 0.7847999930381775, 0.7870000004768372, 0.7932000160217285, 0.7965999841690063, 0.7940000295639038, 0.7907999753952026, 0.7883999943733215, 0.7886000275611877, 0.7904000282287598, 0.8004000186920166, 0.8026000261306763, 0.8011999726295471, 0.8023999929428101, 0.7922000288963318, 0.7947999835014343, 0.805400013923645], 'loss': [1.7244882516013251, 1.3812936530219184, 1.2201015655623542, 1.1082257511138915, 1.0372890985065035, 0.9675965910381741, 0.9162968787935045, 0.8765997204038832, 0.8345033158620199, 0.8017992433124118, 0.7750486995802985, 0.7557046218978034, 0.7299414189550611, 0.7102209999932183, 0.6916201242129008, 0.672617355495029, 0.6717704898198446, 0.648642493364546, 0.640085016907586, 0.6212885473251343, 0.6182265964931912, 0.6048652632713318, 0.6023983618630303, 0.5858781922870212, 0.5765473514556885, 0.5807066404660542, 0.5623138768725925, 0.5612577749676174, 0.5374677431000604, 0.5470229584587945, 0.5389233350223965, 0.5371056236902872, 0.5166129381603665, 0.5182532963540819, 0.5213787827597725, 0.5069363381703694, 0.5084654835912916, 0.4991397428936428, 0.500642158513599, 0.48981446566051906, 0.49110463581085206, 0.4820403754287296, 0.47866698407067193, 0.4766390188376109, 0.4787855830616421, 0.4617533645470937, 0.46430870914459227, 0.455145954852634, 0.4501724053594801, 0.4496476320425669], 'accuracy': [0.35633335, 0.4962889, 0.562, 0.6054222, 0.6327556, 0.6598, 0.67884445, 0.6937778, 0.70713335, 0.7204889, 0.72844446, 0.73737776, 0.7437556, 0.74862224, 0.75564444, 0.7642889, 0.7641778, 0.77284443, 0.77437776, 0.7790667, 0.78455555, 0.78706664, 0.79051113, 0.79422224, 0.79877776, 0.79555553, 0.80035555, 0.80068886, 0.81108886, 0.806, 0.8104, 0.8098222, 0.81726664, 0.81722224, 0.81675553, 0.82044446, 0.8201333, 0.82402223, 0.82386667, 0.8256889, 0.8254667, 0.83044446, 0.8304667, 0.83106667, 0.8305778, 0.8381778, 0.8356889, 0.8381111, 0.84044445, 0.84066665]}\n",
            "range(1, 51)\n"
          ],
          "name": "stdout"
        },
        {
          "output_type": "execute_result",
          "data": {
            "text/plain": [
              "<Figure size 432x288 with 0 Axes>"
            ]
          },
          "metadata": {
            "tags": []
          },
          "execution_count": 16
        },
        {
          "output_type": "display_data",
          "data": {
            "image/png": "[encoded data removed]",
            "text/plain": [
              "<Figure size 432x288 with 1 Axes>"
            ]
          },
          "metadata": {
            "tags": [],
            "needs_background": "light"
          }
        },
        {
          "output_type": "display_data",
          "data": {
            "image/png": "[encoded data removed]",
            "text/plain": [
              "<Figure size 432x288 with 1 Axes>"
            ]
          },
          "metadata": {
            "tags": [],
            "needs_background": "light"
          }
        },
        {
          "output_type": "display_data",
          "data": {
            "text/plain": [
              "<Figure size 432x288 with 0 Axes>"
            ]
          },
          "metadata": {
            "tags": []
          }
        }
      ]
    },
    {
      "cell_type": "markdown",
      "metadata": {
        "id": "SX8DShxyhRXP",
        "colab_type": "text"
      },
      "source": [
        "## sin gpu"
      ]
    },
    {
      "cell_type": "code",
      "metadata": {
        "id": "SNDJzNcdmihP",
        "colab_type": "code",
        "outputId": "b7c79a43-1be0-46ff-8da6-47017343c001",
        "colab": {
          "base_uri": "https://localhost:8080/",
          "height": 425
        }
      },
      "source": [
        "model.compile(loss='categorical_crossentropy',metrics=['accuracy'], optimizer='adadelta')        #no solo capas sino que se optimiza, neuronas conectadas, listas\n",
        "model.fit(x_train, y_train, batch_size=100, epochs=10, validation_split=0.1, verbose=1)# aquí el entrenamiento del modelo bachsize se entrena de a 100 hasta como con todas# epochs es cantidad de rep que usa el modelo, validacion 10%, verbose muestra avance \n",
        "score = model.evaluate(x_test, y_test, verbose=1)# evaluo modelo con conjunto test final\n",
        "print('Test accuracy: ', score[1])\n",
        "\n",
        "tiempo_final = time()\n",
        "tiempo_ejecucion = tiempo_final - tiempo_inicial\n",
        "print('El tiempo de ejecucion fue: ', tiempo_ejecucion)\n"
      ],
      "execution_count": 0,
      "outputs": [
        {
          "output_type": "stream",
          "text": [
            "Train on 54000 samples, validate on 6000 samples\n",
            "Epoch 1/10\n",
            "54000/54000 [==============================] - 85s 2ms/step - loss: 0.4868 - accuracy: 0.9250 - val_loss: 0.0801 - val_accuracy: 0.9792\n",
            "Epoch 2/10\n",
            "54000/54000 [==============================] - 84s 2ms/step - loss: 0.0583 - accuracy: 0.9828 - val_loss: 0.0676 - val_accuracy: 0.9845\n",
            "Epoch 3/10\n",
            "54000/54000 [==============================] - 85s 2ms/step - loss: 0.0322 - accuracy: 0.9905 - val_loss: 0.0495 - val_accuracy: 0.9890\n",
            "Epoch 4/10\n",
            "54000/54000 [==============================] - 84s 2ms/step - loss: 0.0179 - accuracy: 0.9942 - val_loss: 0.0575 - val_accuracy: 0.9887\n",
            "Epoch 5/10\n",
            "54000/54000 [==============================] - 84s 2ms/step - loss: 0.0109 - accuracy: 0.9966 - val_loss: 0.0651 - val_accuracy: 0.9878\n",
            "Epoch 6/10\n",
            "54000/54000 [==============================] - 84s 2ms/step - loss: 0.0070 - accuracy: 0.9979 - val_loss: 0.0678 - val_accuracy: 0.9888\n",
            "Epoch 7/10\n",
            "54000/54000 [==============================] - 85s 2ms/step - loss: 0.0035 - accuracy: 0.9988 - val_loss: 0.0721 - val_accuracy: 0.9888\n",
            "Epoch 8/10\n",
            "54000/54000 [==============================] - 85s 2ms/step - loss: 0.0025 - accuracy: 0.9992 - val_loss: 0.0812 - val_accuracy: 0.9873\n",
            "Epoch 9/10\n",
            "54000/54000 [==============================] - 84s 2ms/step - loss: 0.0020 - accuracy: 0.9994 - val_loss: 0.0752 - val_accuracy: 0.9898\n",
            "Epoch 10/10\n",
            "54000/54000 [==============================] - 85s 2ms/step - loss: 0.0011 - accuracy: 0.9997 - val_loss: 0.0853 - val_accuracy: 0.9890\n",
            "10000/10000 [==============================] - 5s 501us/step\n",
            "Test accuracy:  0.988099992275238\n",
            "El tiempo de ejecucion fue:  890.4097440242767\n"
          ],
          "name": "stdout"
        }
      ]
    },
    {
      "cell_type": "markdown",
      "metadata": {
        "id": "RVxfLx0A0j6L",
        "colab_type": "text"
      },
      "source": [
        "## Ahora con imagenes de otro repositorio #un cambio"
      ]
    },
    {
      "cell_type": "code",
      "metadata": {
        "id": "rquOWB8Q0pKL",
        "colab_type": "code",
        "outputId": "069a3a6f-24ae-443a-b7c6-baf137f32369",
        "colab": {
          "resources": {
            "http://localhost:8080/nbextensions/google.colab/files.js": {
              "data": "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",
              "ok": true,
              "headers": [
                [
                  "content-type",
                  "application/javascript"
                ]
              ],
              "status": 200,
              "status_text": ""
            }
          },
          "base_uri": "https://localhost:8080/",
          "height": 74
        }
      },
      "source": [
        "from PIL import Image #libreria base de datos de imagenes\n",
        "from PIL import ImageFile\n",
        "\n",
        "ImageFile.LOAD_TRUNCATED_IMAGES = True\n",
        "from google.colab import files #para que permita importar archivos\n",
        "\n",
        "uploaded = files.upload()"
      ],
      "execution_count": 0,
      "outputs": [
        {
          "output_type": "display_data",
          "data": {
            "text/html": [
              "\n",
              "     <input type=\"file\" id=\"files-c9973d16-a682-4d43-be3b-aec5011d2a1c\" name=\"files[]\" multiple disabled />\n",
              "     <output id=\"result-c9973d16-a682-4d43-be3b-aec5011d2a1c\">\n",
              "      Upload widget is only available when the cell has been executed in the\n",
              "      current browser session. Please rerun this cell to enable.\n",
              "      </output>\n",
              "      <script src=\"/nbextensions/google.colab/files.js\"></script> "
            ],
            "text/plain": [
              "<IPython.core.display.HTML object>"
            ]
          },
          "metadata": {
            "tags": []
          }
        },
        {
          "output_type": "stream",
          "text": [
            "Saving 8.jpg to 8.jpg\n"
          ],
          "name": "stdout"
        }
      ]
    },
    {
      "cell_type": "code",
      "metadata": {
        "id": "mLHPPsx11zi1",
        "colab_type": "code",
        "outputId": "efd5f202-4454-4094-bf31-8f580158576c",
        "colab": {
          "base_uri": "https://localhost:8080/",
          "height": 34
        }
      },
      "source": [
        "import numpy as np\n",
        "img = Image.open('8.jpg')#cargo imagen a travez del lib pil\n",
        "new_img = img.resize((28,28))\n",
        "new_img = new_img.convert('L')#??\n",
        "new = np.array(new_img)\n",
        "print(np.shape(new))"
      ],
      "execution_count": 0,
      "outputs": [
        {
          "output_type": "stream",
          "text": [
            "(28, 28)\n"
          ],
          "name": "stdout"
        }
      ]
    },
    {
      "cell_type": "code",
      "metadata": {
        "id": "V1jABnSj3ff0",
        "colab_type": "code",
        "outputId": "29900dc2-ffd5-4943-9191-75465cc8e6dc",
        "colab": {
          "base_uri": "https://localhost:8080/",
          "height": 34
        }
      },
      "source": [
        "img = new.reshape(1, 28, 28, 1)#(numero de muestras,tamaño, de imagen, canales tiene la imagen RGB grey 4 canales png)\n",
        "img = img.astype('float32')#para que?\n",
        "img = img/255.0 #normalizar?\n",
        "result = model.predict_classes(img)\n",
        "result[0]"
      ],
      "execution_count": 0,
      "outputs": [
        {
          "output_type": "execute_result",
          "data": {
            "text/plain": [
              "9"
            ]
          },
          "metadata": {
            "tags": []
          },
          "execution_count": 34
        }
      ]
    },
    {
      "cell_type": "code",
      "metadata": {
        "id": "1SE5fKJ_pZtT",
        "colab_type": "code",
        "colab": {}
      },
      "source": [
        "from google.colab import drive\n",
        "drive.mount('/content/drive')"
      ],
      "execution_count": 0,
      "outputs": []
    }
  ]
}